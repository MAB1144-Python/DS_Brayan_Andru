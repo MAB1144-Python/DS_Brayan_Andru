{
  "nbformat": 4,
  "nbformat_minor": 0,
  "metadata": {
    "colab": {
      "provenance": [],
      "collapsed_sections": [],
      "mount_file_id": "1mU2LBAB0imWW-BNRSswZV9jwhPY3tGG2",
      "authorship_tag": "ABX9TyNLS+SwsaYIMFEfcgel0T1v",
      "include_colab_link": true
    },
    "kernelspec": {
      "name": "python3",
      "display_name": "Python 3"
    },
    "language_info": {
      "name": "python"
    }
  },
  "cells": [
    {
      "cell_type": "markdown",
      "metadata": {
        "id": "view-in-github",
        "colab_type": "text"
      },
      "source": [
        "<a href=\"https://colab.research.google.com/github/MAB1144-Python/DS_Brayan_Andru/blob/main/cuarta.ipynb\" target=\"_parent\"><img src=\"https://colab.research.google.com/assets/colab-badge.svg\" alt=\"Open In Colab\"/></a>"
      ]
    },
    {
      "cell_type": "code",
      "execution_count": 3,
      "metadata": {
        "id": "Ttv8GRRArkHL"
      },
      "outputs": [],
      "source": [
        "import numpy as np\n",
        "import pandas as pd"
      ]
    },
    {
      "cell_type": "code",
      "source": [
        "df = pd.read_csv('/content/drive/MyDrive/Colab Notebooks/dataset/Maths (1).csv')\n",
        "df"
      ],
      "metadata": {
        "colab": {
          "base_uri": "https://localhost:8080/",
          "height": 424
        },
        "id": "bzQctPVDl0Rc",
        "outputId": "037b5834-7324-4bca-de32-b3c95ab3a102"
      },
      "execution_count": 4,
      "outputs": [
        {
          "output_type": "execute_result",
          "data": {
            "text/plain": [
              "    school sex  age address famsize Pstatus  Medu  Fedu      Mjob      Fjob  \\\n",
              "0       GP   F   18       U     GT3       A     4     4   at_home   teacher   \n",
              "1       GP   F   17       U     GT3       T     1     1   at_home     other   \n",
              "2       GP   F   15       U     LE3       T     1     1   at_home     other   \n",
              "3       GP   F   15       U     GT3       T     4     2    health  services   \n",
              "4       GP   F   16       U     GT3       T     3     3     other     other   \n",
              "..     ...  ..  ...     ...     ...     ...   ...   ...       ...       ...   \n",
              "390     MS   M   20       U     LE3       A     2     2  services  services   \n",
              "391     MS   M   17       U     LE3       T     3     1  services  services   \n",
              "392     MS   M   21       R     GT3       T     1     1     other     other   \n",
              "393     MS   M   18       R     LE3       T     3     2  services     other   \n",
              "394     MS   M   19       U     LE3       T     1     1     other   at_home   \n",
              "\n",
              "     ... famrel freetime  goout  Dalc  Walc health absences  G1  G2  G3  \n",
              "0    ...      4        3      4     1     1      3        6   5   6   6  \n",
              "1    ...      5        3      3     1     1      3        4   5   5   6  \n",
              "2    ...      4        3      2     2     3      3       10   7   8  10  \n",
              "3    ...      3        2      2     1     1      5        2  15  14  15  \n",
              "4    ...      4        3      2     1     2      5        4   6  10  10  \n",
              "..   ...    ...      ...    ...   ...   ...    ...      ...  ..  ..  ..  \n",
              "390  ...      5        5      4     4     5      4       11   9   9   9  \n",
              "391  ...      2        4      5     3     4      2        3  14  16  16  \n",
              "392  ...      5        5      3     3     3      3        3  10   8   7  \n",
              "393  ...      4        4      1     3     4      5        0  11  12  10  \n",
              "394  ...      3        2      3     3     3      5        5   8   9   9  \n",
              "\n",
              "[395 rows x 33 columns]"
            ],
            "text/html": [
              "\n",
              "  <div id=\"df-3aca17c3-6344-4d6c-ae43-46785cfb4d0f\">\n",
              "    <div class=\"colab-df-container\">\n",
              "      <div>\n",
              "<style scoped>\n",
              "    .dataframe tbody tr th:only-of-type {\n",
              "        vertical-align: middle;\n",
              "    }\n",
              "\n",
              "    .dataframe tbody tr th {\n",
              "        vertical-align: top;\n",
              "    }\n",
              "\n",
              "    .dataframe thead th {\n",
              "        text-align: right;\n",
              "    }\n",
              "</style>\n",
              "<table border=\"1\" class=\"dataframe\">\n",
              "  <thead>\n",
              "    <tr style=\"text-align: right;\">\n",
              "      <th></th>\n",
              "      <th>school</th>\n",
              "      <th>sex</th>\n",
              "      <th>age</th>\n",
              "      <th>address</th>\n",
              "      <th>famsize</th>\n",
              "      <th>Pstatus</th>\n",
              "      <th>Medu</th>\n",
              "      <th>Fedu</th>\n",
              "      <th>Mjob</th>\n",
              "      <th>Fjob</th>\n",
              "      <th>...</th>\n",
              "      <th>famrel</th>\n",
              "      <th>freetime</th>\n",
              "      <th>goout</th>\n",
              "      <th>Dalc</th>\n",
              "      <th>Walc</th>\n",
              "      <th>health</th>\n",
              "      <th>absences</th>\n",
              "      <th>G1</th>\n",
              "      <th>G2</th>\n",
              "      <th>G3</th>\n",
              "    </tr>\n",
              "  </thead>\n",
              "  <tbody>\n",
              "    <tr>\n",
              "      <th>0</th>\n",
              "      <td>GP</td>\n",
              "      <td>F</td>\n",
              "      <td>18</td>\n",
              "      <td>U</td>\n",
              "      <td>GT3</td>\n",
              "      <td>A</td>\n",
              "      <td>4</td>\n",
              "      <td>4</td>\n",
              "      <td>at_home</td>\n",
              "      <td>teacher</td>\n",
              "      <td>...</td>\n",
              "      <td>4</td>\n",
              "      <td>3</td>\n",
              "      <td>4</td>\n",
              "      <td>1</td>\n",
              "      <td>1</td>\n",
              "      <td>3</td>\n",
              "      <td>6</td>\n",
              "      <td>5</td>\n",
              "      <td>6</td>\n",
              "      <td>6</td>\n",
              "    </tr>\n",
              "    <tr>\n",
              "      <th>1</th>\n",
              "      <td>GP</td>\n",
              "      <td>F</td>\n",
              "      <td>17</td>\n",
              "      <td>U</td>\n",
              "      <td>GT3</td>\n",
              "      <td>T</td>\n",
              "      <td>1</td>\n",
              "      <td>1</td>\n",
              "      <td>at_home</td>\n",
              "      <td>other</td>\n",
              "      <td>...</td>\n",
              "      <td>5</td>\n",
              "      <td>3</td>\n",
              "      <td>3</td>\n",
              "      <td>1</td>\n",
              "      <td>1</td>\n",
              "      <td>3</td>\n",
              "      <td>4</td>\n",
              "      <td>5</td>\n",
              "      <td>5</td>\n",
              "      <td>6</td>\n",
              "    </tr>\n",
              "    <tr>\n",
              "      <th>2</th>\n",
              "      <td>GP</td>\n",
              "      <td>F</td>\n",
              "      <td>15</td>\n",
              "      <td>U</td>\n",
              "      <td>LE3</td>\n",
              "      <td>T</td>\n",
              "      <td>1</td>\n",
              "      <td>1</td>\n",
              "      <td>at_home</td>\n",
              "      <td>other</td>\n",
              "      <td>...</td>\n",
              "      <td>4</td>\n",
              "      <td>3</td>\n",
              "      <td>2</td>\n",
              "      <td>2</td>\n",
              "      <td>3</td>\n",
              "      <td>3</td>\n",
              "      <td>10</td>\n",
              "      <td>7</td>\n",
              "      <td>8</td>\n",
              "      <td>10</td>\n",
              "    </tr>\n",
              "    <tr>\n",
              "      <th>3</th>\n",
              "      <td>GP</td>\n",
              "      <td>F</td>\n",
              "      <td>15</td>\n",
              "      <td>U</td>\n",
              "      <td>GT3</td>\n",
              "      <td>T</td>\n",
              "      <td>4</td>\n",
              "      <td>2</td>\n",
              "      <td>health</td>\n",
              "      <td>services</td>\n",
              "      <td>...</td>\n",
              "      <td>3</td>\n",
              "      <td>2</td>\n",
              "      <td>2</td>\n",
              "      <td>1</td>\n",
              "      <td>1</td>\n",
              "      <td>5</td>\n",
              "      <td>2</td>\n",
              "      <td>15</td>\n",
              "      <td>14</td>\n",
              "      <td>15</td>\n",
              "    </tr>\n",
              "    <tr>\n",
              "      <th>4</th>\n",
              "      <td>GP</td>\n",
              "      <td>F</td>\n",
              "      <td>16</td>\n",
              "      <td>U</td>\n",
              "      <td>GT3</td>\n",
              "      <td>T</td>\n",
              "      <td>3</td>\n",
              "      <td>3</td>\n",
              "      <td>other</td>\n",
              "      <td>other</td>\n",
              "      <td>...</td>\n",
              "      <td>4</td>\n",
              "      <td>3</td>\n",
              "      <td>2</td>\n",
              "      <td>1</td>\n",
              "      <td>2</td>\n",
              "      <td>5</td>\n",
              "      <td>4</td>\n",
              "      <td>6</td>\n",
              "      <td>10</td>\n",
              "      <td>10</td>\n",
              "    </tr>\n",
              "    <tr>\n",
              "      <th>...</th>\n",
              "      <td>...</td>\n",
              "      <td>...</td>\n",
              "      <td>...</td>\n",
              "      <td>...</td>\n",
              "      <td>...</td>\n",
              "      <td>...</td>\n",
              "      <td>...</td>\n",
              "      <td>...</td>\n",
              "      <td>...</td>\n",
              "      <td>...</td>\n",
              "      <td>...</td>\n",
              "      <td>...</td>\n",
              "      <td>...</td>\n",
              "      <td>...</td>\n",
              "      <td>...</td>\n",
              "      <td>...</td>\n",
              "      <td>...</td>\n",
              "      <td>...</td>\n",
              "      <td>...</td>\n",
              "      <td>...</td>\n",
              "      <td>...</td>\n",
              "    </tr>\n",
              "    <tr>\n",
              "      <th>390</th>\n",
              "      <td>MS</td>\n",
              "      <td>M</td>\n",
              "      <td>20</td>\n",
              "      <td>U</td>\n",
              "      <td>LE3</td>\n",
              "      <td>A</td>\n",
              "      <td>2</td>\n",
              "      <td>2</td>\n",
              "      <td>services</td>\n",
              "      <td>services</td>\n",
              "      <td>...</td>\n",
              "      <td>5</td>\n",
              "      <td>5</td>\n",
              "      <td>4</td>\n",
              "      <td>4</td>\n",
              "      <td>5</td>\n",
              "      <td>4</td>\n",
              "      <td>11</td>\n",
              "      <td>9</td>\n",
              "      <td>9</td>\n",
              "      <td>9</td>\n",
              "    </tr>\n",
              "    <tr>\n",
              "      <th>391</th>\n",
              "      <td>MS</td>\n",
              "      <td>M</td>\n",
              "      <td>17</td>\n",
              "      <td>U</td>\n",
              "      <td>LE3</td>\n",
              "      <td>T</td>\n",
              "      <td>3</td>\n",
              "      <td>1</td>\n",
              "      <td>services</td>\n",
              "      <td>services</td>\n",
              "      <td>...</td>\n",
              "      <td>2</td>\n",
              "      <td>4</td>\n",
              "      <td>5</td>\n",
              "      <td>3</td>\n",
              "      <td>4</td>\n",
              "      <td>2</td>\n",
              "      <td>3</td>\n",
              "      <td>14</td>\n",
              "      <td>16</td>\n",
              "      <td>16</td>\n",
              "    </tr>\n",
              "    <tr>\n",
              "      <th>392</th>\n",
              "      <td>MS</td>\n",
              "      <td>M</td>\n",
              "      <td>21</td>\n",
              "      <td>R</td>\n",
              "      <td>GT3</td>\n",
              "      <td>T</td>\n",
              "      <td>1</td>\n",
              "      <td>1</td>\n",
              "      <td>other</td>\n",
              "      <td>other</td>\n",
              "      <td>...</td>\n",
              "      <td>5</td>\n",
              "      <td>5</td>\n",
              "      <td>3</td>\n",
              "      <td>3</td>\n",
              "      <td>3</td>\n",
              "      <td>3</td>\n",
              "      <td>3</td>\n",
              "      <td>10</td>\n",
              "      <td>8</td>\n",
              "      <td>7</td>\n",
              "    </tr>\n",
              "    <tr>\n",
              "      <th>393</th>\n",
              "      <td>MS</td>\n",
              "      <td>M</td>\n",
              "      <td>18</td>\n",
              "      <td>R</td>\n",
              "      <td>LE3</td>\n",
              "      <td>T</td>\n",
              "      <td>3</td>\n",
              "      <td>2</td>\n",
              "      <td>services</td>\n",
              "      <td>other</td>\n",
              "      <td>...</td>\n",
              "      <td>4</td>\n",
              "      <td>4</td>\n",
              "      <td>1</td>\n",
              "      <td>3</td>\n",
              "      <td>4</td>\n",
              "      <td>5</td>\n",
              "      <td>0</td>\n",
              "      <td>11</td>\n",
              "      <td>12</td>\n",
              "      <td>10</td>\n",
              "    </tr>\n",
              "    <tr>\n",
              "      <th>394</th>\n",
              "      <td>MS</td>\n",
              "      <td>M</td>\n",
              "      <td>19</td>\n",
              "      <td>U</td>\n",
              "      <td>LE3</td>\n",
              "      <td>T</td>\n",
              "      <td>1</td>\n",
              "      <td>1</td>\n",
              "      <td>other</td>\n",
              "      <td>at_home</td>\n",
              "      <td>...</td>\n",
              "      <td>3</td>\n",
              "      <td>2</td>\n",
              "      <td>3</td>\n",
              "      <td>3</td>\n",
              "      <td>3</td>\n",
              "      <td>5</td>\n",
              "      <td>5</td>\n",
              "      <td>8</td>\n",
              "      <td>9</td>\n",
              "      <td>9</td>\n",
              "    </tr>\n",
              "  </tbody>\n",
              "</table>\n",
              "<p>395 rows × 33 columns</p>\n",
              "</div>\n",
              "      <button class=\"colab-df-convert\" onclick=\"convertToInteractive('df-3aca17c3-6344-4d6c-ae43-46785cfb4d0f')\"\n",
              "              title=\"Convert this dataframe to an interactive table.\"\n",
              "              style=\"display:none;\">\n",
              "        \n",
              "  <svg xmlns=\"http://www.w3.org/2000/svg\" height=\"24px\"viewBox=\"0 0 24 24\"\n",
              "       width=\"24px\">\n",
              "    <path d=\"M0 0h24v24H0V0z\" fill=\"none\"/>\n",
              "    <path d=\"M18.56 5.44l.94 2.06.94-2.06 2.06-.94-2.06-.94-.94-2.06-.94 2.06-2.06.94zm-11 1L8.5 8.5l.94-2.06 2.06-.94-2.06-.94L8.5 2.5l-.94 2.06-2.06.94zm10 10l.94 2.06.94-2.06 2.06-.94-2.06-.94-.94-2.06-.94 2.06-2.06.94z\"/><path d=\"M17.41 7.96l-1.37-1.37c-.4-.4-.92-.59-1.43-.59-.52 0-1.04.2-1.43.59L10.3 9.45l-7.72 7.72c-.78.78-.78 2.05 0 2.83L4 21.41c.39.39.9.59 1.41.59.51 0 1.02-.2 1.41-.59l7.78-7.78 2.81-2.81c.8-.78.8-2.07 0-2.86zM5.41 20L4 18.59l7.72-7.72 1.47 1.35L5.41 20z\"/>\n",
              "  </svg>\n",
              "      </button>\n",
              "      \n",
              "  <style>\n",
              "    .colab-df-container {\n",
              "      display:flex;\n",
              "      flex-wrap:wrap;\n",
              "      gap: 12px;\n",
              "    }\n",
              "\n",
              "    .colab-df-convert {\n",
              "      background-color: #E8F0FE;\n",
              "      border: none;\n",
              "      border-radius: 50%;\n",
              "      cursor: pointer;\n",
              "      display: none;\n",
              "      fill: #1967D2;\n",
              "      height: 32px;\n",
              "      padding: 0 0 0 0;\n",
              "      width: 32px;\n",
              "    }\n",
              "\n",
              "    .colab-df-convert:hover {\n",
              "      background-color: #E2EBFA;\n",
              "      box-shadow: 0px 1px 2px rgba(60, 64, 67, 0.3), 0px 1px 3px 1px rgba(60, 64, 67, 0.15);\n",
              "      fill: #174EA6;\n",
              "    }\n",
              "\n",
              "    [theme=dark] .colab-df-convert {\n",
              "      background-color: #3B4455;\n",
              "      fill: #D2E3FC;\n",
              "    }\n",
              "\n",
              "    [theme=dark] .colab-df-convert:hover {\n",
              "      background-color: #434B5C;\n",
              "      box-shadow: 0px 1px 3px 1px rgba(0, 0, 0, 0.15);\n",
              "      filter: drop-shadow(0px 1px 2px rgba(0, 0, 0, 0.3));\n",
              "      fill: #FFFFFF;\n",
              "    }\n",
              "  </style>\n",
              "\n",
              "      <script>\n",
              "        const buttonEl =\n",
              "          document.querySelector('#df-3aca17c3-6344-4d6c-ae43-46785cfb4d0f button.colab-df-convert');\n",
              "        buttonEl.style.display =\n",
              "          google.colab.kernel.accessAllowed ? 'block' : 'none';\n",
              "\n",
              "        async function convertToInteractive(key) {\n",
              "          const element = document.querySelector('#df-3aca17c3-6344-4d6c-ae43-46785cfb4d0f');\n",
              "          const dataTable =\n",
              "            await google.colab.kernel.invokeFunction('convertToInteractive',\n",
              "                                                     [key], {});\n",
              "          if (!dataTable) return;\n",
              "\n",
              "          const docLinkHtml = 'Like what you see? Visit the ' +\n",
              "            '<a target=\"_blank\" href=https://colab.research.google.com/notebooks/data_table.ipynb>data table notebook</a>'\n",
              "            + ' to learn more about interactive tables.';\n",
              "          element.innerHTML = '';\n",
              "          dataTable['output_type'] = 'display_data';\n",
              "          await google.colab.output.renderOutput(dataTable, element);\n",
              "          const docLink = document.createElement('div');\n",
              "          docLink.innerHTML = docLinkHtml;\n",
              "          element.appendChild(docLink);\n",
              "        }\n",
              "      </script>\n",
              "    </div>\n",
              "  </div>\n",
              "  "
            ]
          },
          "metadata": {},
          "execution_count": 4
        }
      ]
    },
    {
      "cell_type": "markdown",
      "source": [
        "Proceso de transformación de variables"
      ],
      "metadata": {
        "id": "5VB7jIgkk4dj"
      }
    },
    {
      "cell_type": "code",
      "source": [
        "print('** Versiones Actuales | Requeridas **')\n",
        "print('NumPy: Version Actual:', np.__version__)\n",
        "print('Pandas: Version Actual:', pd.__version__)"
      ],
      "metadata": {
        "colab": {
          "base_uri": "https://localhost:8080/"
        },
        "id": "ADl8xryBrrXH",
        "outputId": "04696ffd-4ec5-46cc-89d6-e89bc00b769a"
      },
      "execution_count": 5,
      "outputs": [
        {
          "output_type": "stream",
          "name": "stdout",
          "text": [
            "** Versiones Actuales | Requeridas **\n",
            "NumPy: Version Actual: 1.21.6\n",
            "Pandas: Version Actual: 1.3.5\n"
          ]
        }
      ]
    },
    {
      "cell_type": "code",
      "source": [],
      "metadata": {
        "id": "2_6ygk06lzo7"
      },
      "execution_count": 5,
      "outputs": []
    },
    {
      "cell_type": "code",
      "source": [
        "# Usamos el constructor pd.Series\n",
        "items = pd.Series(data = np.array([2, 3, 8, 6, 7]) , name = 'precios', index = ['veg1','cer1','frut1','frut2','frut3'])\n",
        "print(items)"
      ],
      "metadata": {
        "colab": {
          "base_uri": "https://localhost:8080/"
        },
        "id": "v5a3d0_fyPu9",
        "outputId": "99d93f03-46c3-42b7-db68-7f3966678c9d"
      },
      "execution_count": 6,
      "outputs": [
        {
          "output_type": "stream",
          "name": "stdout",
          "text": [
            "veg1     2\n",
            "cer1     3\n",
            "frut1    8\n",
            "frut2    6\n",
            "frut3    7\n",
            "Name: precios, dtype: int64\n"
          ]
        }
      ]
    },
    {
      "cell_type": "code",
      "source": [
        "print('obtener los índices ',items.index)\n",
        "print('obtener los valores ',items.values)\n",
        "print('obtener tipo de dato ',items.dtypes)"
      ],
      "metadata": {
        "colab": {
          "base_uri": "https://localhost:8080/"
        },
        "id": "FGaEib4ry_9b",
        "outputId": "e3876417-e395-44be-80a5-f6b5618447c7"
      },
      "execution_count": 7,
      "outputs": [
        {
          "output_type": "stream",
          "name": "stdout",
          "text": [
            "obtener los índices  Index(['veg1', 'cer1', 'frut1', 'frut2', 'frut3'], dtype='object')\n",
            "obtener los valores  [2 3 8 6 7]\n",
            "obtener tipo de dato  int64\n"
          ]
        }
      ]
    },
    {
      "cell_type": "code",
      "source": [
        "df = pd.read_csv(filepath_or_buffer='https://storage.googleapis.com/datasets-academy/Track%20Data%20Science/01_Intro_Python/PWT91.csv'\n",
        "                ,sep = ',',\n",
        "                 decimal = '.')\n",
        "df_p = df\n",
        "df.head(100)"
      ],
      "metadata": {
        "colab": {
          "base_uri": "https://localhost:8080/",
          "height": 424
        },
        "id": "BdQTA6TCzyaM",
        "outputId": "d0f315bd-eb07-4167-9913-1b2734efb97f"
      },
      "execution_count": 8,
      "outputs": [
        {
          "output_type": "execute_result",
          "data": {
            "text/plain": [
              "   countrycode country  year        rgdpo       pop       emp  avh        hc\n",
              "0          ABW   Aruba  1950          NaN       NaN       NaN  NaN       NaN\n",
              "1          ABW   Aruba  1951          NaN       NaN       NaN  NaN       NaN\n",
              "2          ABW   Aruba  1952          NaN       NaN       NaN  NaN       NaN\n",
              "3          ABW   Aruba  1953          NaN       NaN       NaN  NaN       NaN\n",
              "4          ABW   Aruba  1954          NaN       NaN       NaN  NaN       NaN\n",
              "..         ...     ...   ...          ...       ...       ...  ...       ...\n",
              "95         AGO  Angola  1977  27101.01953  8.130988  4.111429  NaN  1.033385\n",
              "96         AGO  Angola  1978  24654.34766  8.376147  4.209530  NaN  1.035939\n",
              "97         AGO  Angola  1979  24989.89453  8.641521  4.290003  NaN  1.038498\n",
              "98         AGO  Angola  1980  25335.56836  8.929900  4.300710  NaN  1.041064\n",
              "99         AGO  Angola  1981  25177.26172  9.244507  4.429433  NaN  1.050381\n",
              "\n",
              "[100 rows x 8 columns]"
            ],
            "text/html": [
              "\n",
              "  <div id=\"df-19748852-ffb7-4e59-93dc-2f783d24882d\">\n",
              "    <div class=\"colab-df-container\">\n",
              "      <div>\n",
              "<style scoped>\n",
              "    .dataframe tbody tr th:only-of-type {\n",
              "        vertical-align: middle;\n",
              "    }\n",
              "\n",
              "    .dataframe tbody tr th {\n",
              "        vertical-align: top;\n",
              "    }\n",
              "\n",
              "    .dataframe thead th {\n",
              "        text-align: right;\n",
              "    }\n",
              "</style>\n",
              "<table border=\"1\" class=\"dataframe\">\n",
              "  <thead>\n",
              "    <tr style=\"text-align: right;\">\n",
              "      <th></th>\n",
              "      <th>countrycode</th>\n",
              "      <th>country</th>\n",
              "      <th>year</th>\n",
              "      <th>rgdpo</th>\n",
              "      <th>pop</th>\n",
              "      <th>emp</th>\n",
              "      <th>avh</th>\n",
              "      <th>hc</th>\n",
              "    </tr>\n",
              "  </thead>\n",
              "  <tbody>\n",
              "    <tr>\n",
              "      <th>0</th>\n",
              "      <td>ABW</td>\n",
              "      <td>Aruba</td>\n",
              "      <td>1950</td>\n",
              "      <td>NaN</td>\n",
              "      <td>NaN</td>\n",
              "      <td>NaN</td>\n",
              "      <td>NaN</td>\n",
              "      <td>NaN</td>\n",
              "    </tr>\n",
              "    <tr>\n",
              "      <th>1</th>\n",
              "      <td>ABW</td>\n",
              "      <td>Aruba</td>\n",
              "      <td>1951</td>\n",
              "      <td>NaN</td>\n",
              "      <td>NaN</td>\n",
              "      <td>NaN</td>\n",
              "      <td>NaN</td>\n",
              "      <td>NaN</td>\n",
              "    </tr>\n",
              "    <tr>\n",
              "      <th>2</th>\n",
              "      <td>ABW</td>\n",
              "      <td>Aruba</td>\n",
              "      <td>1952</td>\n",
              "      <td>NaN</td>\n",
              "      <td>NaN</td>\n",
              "      <td>NaN</td>\n",
              "      <td>NaN</td>\n",
              "      <td>NaN</td>\n",
              "    </tr>\n",
              "    <tr>\n",
              "      <th>3</th>\n",
              "      <td>ABW</td>\n",
              "      <td>Aruba</td>\n",
              "      <td>1953</td>\n",
              "      <td>NaN</td>\n",
              "      <td>NaN</td>\n",
              "      <td>NaN</td>\n",
              "      <td>NaN</td>\n",
              "      <td>NaN</td>\n",
              "    </tr>\n",
              "    <tr>\n",
              "      <th>4</th>\n",
              "      <td>ABW</td>\n",
              "      <td>Aruba</td>\n",
              "      <td>1954</td>\n",
              "      <td>NaN</td>\n",
              "      <td>NaN</td>\n",
              "      <td>NaN</td>\n",
              "      <td>NaN</td>\n",
              "      <td>NaN</td>\n",
              "    </tr>\n",
              "    <tr>\n",
              "      <th>...</th>\n",
              "      <td>...</td>\n",
              "      <td>...</td>\n",
              "      <td>...</td>\n",
              "      <td>...</td>\n",
              "      <td>...</td>\n",
              "      <td>...</td>\n",
              "      <td>...</td>\n",
              "      <td>...</td>\n",
              "    </tr>\n",
              "    <tr>\n",
              "      <th>95</th>\n",
              "      <td>AGO</td>\n",
              "      <td>Angola</td>\n",
              "      <td>1977</td>\n",
              "      <td>27101.01953</td>\n",
              "      <td>8.130988</td>\n",
              "      <td>4.111429</td>\n",
              "      <td>NaN</td>\n",
              "      <td>1.033385</td>\n",
              "    </tr>\n",
              "    <tr>\n",
              "      <th>96</th>\n",
              "      <td>AGO</td>\n",
              "      <td>Angola</td>\n",
              "      <td>1978</td>\n",
              "      <td>24654.34766</td>\n",
              "      <td>8.376147</td>\n",
              "      <td>4.209530</td>\n",
              "      <td>NaN</td>\n",
              "      <td>1.035939</td>\n",
              "    </tr>\n",
              "    <tr>\n",
              "      <th>97</th>\n",
              "      <td>AGO</td>\n",
              "      <td>Angola</td>\n",
              "      <td>1979</td>\n",
              "      <td>24989.89453</td>\n",
              "      <td>8.641521</td>\n",
              "      <td>4.290003</td>\n",
              "      <td>NaN</td>\n",
              "      <td>1.038498</td>\n",
              "    </tr>\n",
              "    <tr>\n",
              "      <th>98</th>\n",
              "      <td>AGO</td>\n",
              "      <td>Angola</td>\n",
              "      <td>1980</td>\n",
              "      <td>25335.56836</td>\n",
              "      <td>8.929900</td>\n",
              "      <td>4.300710</td>\n",
              "      <td>NaN</td>\n",
              "      <td>1.041064</td>\n",
              "    </tr>\n",
              "    <tr>\n",
              "      <th>99</th>\n",
              "      <td>AGO</td>\n",
              "      <td>Angola</td>\n",
              "      <td>1981</td>\n",
              "      <td>25177.26172</td>\n",
              "      <td>9.244507</td>\n",
              "      <td>4.429433</td>\n",
              "      <td>NaN</td>\n",
              "      <td>1.050381</td>\n",
              "    </tr>\n",
              "  </tbody>\n",
              "</table>\n",
              "<p>100 rows × 8 columns</p>\n",
              "</div>\n",
              "      <button class=\"colab-df-convert\" onclick=\"convertToInteractive('df-19748852-ffb7-4e59-93dc-2f783d24882d')\"\n",
              "              title=\"Convert this dataframe to an interactive table.\"\n",
              "              style=\"display:none;\">\n",
              "        \n",
              "  <svg xmlns=\"http://www.w3.org/2000/svg\" height=\"24px\"viewBox=\"0 0 24 24\"\n",
              "       width=\"24px\">\n",
              "    <path d=\"M0 0h24v24H0V0z\" fill=\"none\"/>\n",
              "    <path d=\"M18.56 5.44l.94 2.06.94-2.06 2.06-.94-2.06-.94-.94-2.06-.94 2.06-2.06.94zm-11 1L8.5 8.5l.94-2.06 2.06-.94-2.06-.94L8.5 2.5l-.94 2.06-2.06.94zm10 10l.94 2.06.94-2.06 2.06-.94-2.06-.94-.94-2.06-.94 2.06-2.06.94z\"/><path d=\"M17.41 7.96l-1.37-1.37c-.4-.4-.92-.59-1.43-.59-.52 0-1.04.2-1.43.59L10.3 9.45l-7.72 7.72c-.78.78-.78 2.05 0 2.83L4 21.41c.39.39.9.59 1.41.59.51 0 1.02-.2 1.41-.59l7.78-7.78 2.81-2.81c.8-.78.8-2.07 0-2.86zM5.41 20L4 18.59l7.72-7.72 1.47 1.35L5.41 20z\"/>\n",
              "  </svg>\n",
              "      </button>\n",
              "      \n",
              "  <style>\n",
              "    .colab-df-container {\n",
              "      display:flex;\n",
              "      flex-wrap:wrap;\n",
              "      gap: 12px;\n",
              "    }\n",
              "\n",
              "    .colab-df-convert {\n",
              "      background-color: #E8F0FE;\n",
              "      border: none;\n",
              "      border-radius: 50%;\n",
              "      cursor: pointer;\n",
              "      display: none;\n",
              "      fill: #1967D2;\n",
              "      height: 32px;\n",
              "      padding: 0 0 0 0;\n",
              "      width: 32px;\n",
              "    }\n",
              "\n",
              "    .colab-df-convert:hover {\n",
              "      background-color: #E2EBFA;\n",
              "      box-shadow: 0px 1px 2px rgba(60, 64, 67, 0.3), 0px 1px 3px 1px rgba(60, 64, 67, 0.15);\n",
              "      fill: #174EA6;\n",
              "    }\n",
              "\n",
              "    [theme=dark] .colab-df-convert {\n",
              "      background-color: #3B4455;\n",
              "      fill: #D2E3FC;\n",
              "    }\n",
              "\n",
              "    [theme=dark] .colab-df-convert:hover {\n",
              "      background-color: #434B5C;\n",
              "      box-shadow: 0px 1px 3px 1px rgba(0, 0, 0, 0.15);\n",
              "      filter: drop-shadow(0px 1px 2px rgba(0, 0, 0, 0.3));\n",
              "      fill: #FFFFFF;\n",
              "    }\n",
              "  </style>\n",
              "\n",
              "      <script>\n",
              "        const buttonEl =\n",
              "          document.querySelector('#df-19748852-ffb7-4e59-93dc-2f783d24882d button.colab-df-convert');\n",
              "        buttonEl.style.display =\n",
              "          google.colab.kernel.accessAllowed ? 'block' : 'none';\n",
              "\n",
              "        async function convertToInteractive(key) {\n",
              "          const element = document.querySelector('#df-19748852-ffb7-4e59-93dc-2f783d24882d');\n",
              "          const dataTable =\n",
              "            await google.colab.kernel.invokeFunction('convertToInteractive',\n",
              "                                                     [key], {});\n",
              "          if (!dataTable) return;\n",
              "\n",
              "          const docLinkHtml = 'Like what you see? Visit the ' +\n",
              "            '<a target=\"_blank\" href=https://colab.research.google.com/notebooks/data_table.ipynb>data table notebook</a>'\n",
              "            + ' to learn more about interactive tables.';\n",
              "          element.innerHTML = '';\n",
              "          dataTable['output_type'] = 'display_data';\n",
              "          await google.colab.output.renderOutput(dataTable, element);\n",
              "          const docLink = document.createElement('div');\n",
              "          docLink.innerHTML = docLinkHtml;\n",
              "          element.appendChild(docLink);\n",
              "        }\n",
              "      </script>\n",
              "    </div>\n",
              "  </div>\n",
              "  "
            ]
          },
          "metadata": {},
          "execution_count": 8
        }
      ]
    },
    {
      "cell_type": "code",
      "source": [
        "df.shape"
      ],
      "metadata": {
        "colab": {
          "base_uri": "https://localhost:8080/"
        },
        "id": "vaPoMlqK2KeL",
        "outputId": "568a74d4-b100-4800-cb5e-456b83cd3a7b"
      },
      "execution_count": 9,
      "outputs": [
        {
          "output_type": "execute_result",
          "data": {
            "text/plain": [
              "(12376, 8)"
            ]
          },
          "metadata": {},
          "execution_count": 9
        }
      ]
    },
    {
      "cell_type": "code",
      "source": [
        "print(type(df))\n",
        "df.dtypes"
      ],
      "metadata": {
        "colab": {
          "base_uri": "https://localhost:8080/"
        },
        "id": "AB47GGPa2rGc",
        "outputId": "afbacfe5-996c-4881-f4a5-858f0ffcae23"
      },
      "execution_count": 10,
      "outputs": [
        {
          "output_type": "stream",
          "name": "stdout",
          "text": [
            "<class 'pandas.core.frame.DataFrame'>\n"
          ]
        },
        {
          "output_type": "execute_result",
          "data": {
            "text/plain": [
              "countrycode     object\n",
              "country         object\n",
              "year             int64\n",
              "rgdpo          float64\n",
              "pop            float64\n",
              "emp            float64\n",
              "avh            float64\n",
              "hc             float64\n",
              "dtype: object"
            ]
          },
          "metadata": {},
          "execution_count": 10
        }
      ]
    },
    {
      "cell_type": "code",
      "source": [
        "df['pop']"
      ],
      "metadata": {
        "colab": {
          "base_uri": "https://localhost:8080/"
        },
        "id": "-E8iT-AQ3dmq",
        "outputId": "d9eb67ea-36b0-4912-f179-95270bd5af04"
      },
      "execution_count": 11,
      "outputs": [
        {
          "output_type": "execute_result",
          "data": {
            "text/plain": [
              "0              NaN\n",
              "1              NaN\n",
              "2              NaN\n",
              "3              NaN\n",
              "4              NaN\n",
              "           ...    \n",
              "12371    15.054506\n",
              "12372    15.411675\n",
              "12373    15.777451\n",
              "12374    16.150362\n",
              "12375    16.529903\n",
              "Name: pop, Length: 12376, dtype: float64"
            ]
          },
          "metadata": {},
          "execution_count": 11
        }
      ]
    },
    {
      "cell_type": "code",
      "source": [
        "df['pop'] = df['pop'].fillna(0)"
      ],
      "metadata": {
        "id": "M4Aa4ibk3z1a"
      },
      "execution_count": 12,
      "outputs": []
    },
    {
      "cell_type": "code",
      "source": [
        "df['pop'] = df['pop'].astype(int)"
      ],
      "metadata": {
        "id": "Vz6BNmI34IzC"
      },
      "execution_count": 13,
      "outputs": []
    },
    {
      "cell_type": "markdown",
      "source": [],
      "metadata": {
        "id": "TGgXoZO8k2Wk"
      }
    },
    {
      "cell_type": "code",
      "source": [
        "df_p.keys()"
      ],
      "metadata": {
        "colab": {
          "base_uri": "https://localhost:8080/"
        },
        "id": "XvLS896GVqj_",
        "outputId": "fc505e62-573a-4f15-d08f-5752a27d790e"
      },
      "execution_count": 14,
      "outputs": [
        {
          "output_type": "execute_result",
          "data": {
            "text/plain": [
              "Index(['countrycode', 'country', 'year', 'rgdpo', 'pop', 'emp', 'avh', 'hc'], dtype='object')"
            ]
          },
          "metadata": {},
          "execution_count": 14
        }
      ]
    },
    {
      "cell_type": "code",
      "source": [
        "df_p1 = df_p[['pop', 'emp', 'avh']]\n",
        "df_p1 = df_p1.fillna(0)\n",
        "df_p1.head(10)"
      ],
      "metadata": {
        "colab": {
          "base_uri": "https://localhost:8080/",
          "height": 363
        },
        "id": "GLGgSstl5I6j",
        "outputId": "cbd007bb-b67a-43be-cdca-47686576dbea"
      },
      "execution_count": 15,
      "outputs": [
        {
          "output_type": "execute_result",
          "data": {
            "text/plain": [
              "   pop  emp  avh\n",
              "0    0  0.0  0.0\n",
              "1    0  0.0  0.0\n",
              "2    0  0.0  0.0\n",
              "3    0  0.0  0.0\n",
              "4    0  0.0  0.0\n",
              "5    0  0.0  0.0\n",
              "6    0  0.0  0.0\n",
              "7    0  0.0  0.0\n",
              "8    0  0.0  0.0\n",
              "9    0  0.0  0.0"
            ],
            "text/html": [
              "\n",
              "  <div id=\"df-ab879f6c-5488-4d95-86fd-ced655685f0a\">\n",
              "    <div class=\"colab-df-container\">\n",
              "      <div>\n",
              "<style scoped>\n",
              "    .dataframe tbody tr th:only-of-type {\n",
              "        vertical-align: middle;\n",
              "    }\n",
              "\n",
              "    .dataframe tbody tr th {\n",
              "        vertical-align: top;\n",
              "    }\n",
              "\n",
              "    .dataframe thead th {\n",
              "        text-align: right;\n",
              "    }\n",
              "</style>\n",
              "<table border=\"1\" class=\"dataframe\">\n",
              "  <thead>\n",
              "    <tr style=\"text-align: right;\">\n",
              "      <th></th>\n",
              "      <th>pop</th>\n",
              "      <th>emp</th>\n",
              "      <th>avh</th>\n",
              "    </tr>\n",
              "  </thead>\n",
              "  <tbody>\n",
              "    <tr>\n",
              "      <th>0</th>\n",
              "      <td>0</td>\n",
              "      <td>0.0</td>\n",
              "      <td>0.0</td>\n",
              "    </tr>\n",
              "    <tr>\n",
              "      <th>1</th>\n",
              "      <td>0</td>\n",
              "      <td>0.0</td>\n",
              "      <td>0.0</td>\n",
              "    </tr>\n",
              "    <tr>\n",
              "      <th>2</th>\n",
              "      <td>0</td>\n",
              "      <td>0.0</td>\n",
              "      <td>0.0</td>\n",
              "    </tr>\n",
              "    <tr>\n",
              "      <th>3</th>\n",
              "      <td>0</td>\n",
              "      <td>0.0</td>\n",
              "      <td>0.0</td>\n",
              "    </tr>\n",
              "    <tr>\n",
              "      <th>4</th>\n",
              "      <td>0</td>\n",
              "      <td>0.0</td>\n",
              "      <td>0.0</td>\n",
              "    </tr>\n",
              "    <tr>\n",
              "      <th>5</th>\n",
              "      <td>0</td>\n",
              "      <td>0.0</td>\n",
              "      <td>0.0</td>\n",
              "    </tr>\n",
              "    <tr>\n",
              "      <th>6</th>\n",
              "      <td>0</td>\n",
              "      <td>0.0</td>\n",
              "      <td>0.0</td>\n",
              "    </tr>\n",
              "    <tr>\n",
              "      <th>7</th>\n",
              "      <td>0</td>\n",
              "      <td>0.0</td>\n",
              "      <td>0.0</td>\n",
              "    </tr>\n",
              "    <tr>\n",
              "      <th>8</th>\n",
              "      <td>0</td>\n",
              "      <td>0.0</td>\n",
              "      <td>0.0</td>\n",
              "    </tr>\n",
              "    <tr>\n",
              "      <th>9</th>\n",
              "      <td>0</td>\n",
              "      <td>0.0</td>\n",
              "      <td>0.0</td>\n",
              "    </tr>\n",
              "  </tbody>\n",
              "</table>\n",
              "</div>\n",
              "      <button class=\"colab-df-convert\" onclick=\"convertToInteractive('df-ab879f6c-5488-4d95-86fd-ced655685f0a')\"\n",
              "              title=\"Convert this dataframe to an interactive table.\"\n",
              "              style=\"display:none;\">\n",
              "        \n",
              "  <svg xmlns=\"http://www.w3.org/2000/svg\" height=\"24px\"viewBox=\"0 0 24 24\"\n",
              "       width=\"24px\">\n",
              "    <path d=\"M0 0h24v24H0V0z\" fill=\"none\"/>\n",
              "    <path d=\"M18.56 5.44l.94 2.06.94-2.06 2.06-.94-2.06-.94-.94-2.06-.94 2.06-2.06.94zm-11 1L8.5 8.5l.94-2.06 2.06-.94-2.06-.94L8.5 2.5l-.94 2.06-2.06.94zm10 10l.94 2.06.94-2.06 2.06-.94-2.06-.94-.94-2.06-.94 2.06-2.06.94z\"/><path d=\"M17.41 7.96l-1.37-1.37c-.4-.4-.92-.59-1.43-.59-.52 0-1.04.2-1.43.59L10.3 9.45l-7.72 7.72c-.78.78-.78 2.05 0 2.83L4 21.41c.39.39.9.59 1.41.59.51 0 1.02-.2 1.41-.59l7.78-7.78 2.81-2.81c.8-.78.8-2.07 0-2.86zM5.41 20L4 18.59l7.72-7.72 1.47 1.35L5.41 20z\"/>\n",
              "  </svg>\n",
              "      </button>\n",
              "      \n",
              "  <style>\n",
              "    .colab-df-container {\n",
              "      display:flex;\n",
              "      flex-wrap:wrap;\n",
              "      gap: 12px;\n",
              "    }\n",
              "\n",
              "    .colab-df-convert {\n",
              "      background-color: #E8F0FE;\n",
              "      border: none;\n",
              "      border-radius: 50%;\n",
              "      cursor: pointer;\n",
              "      display: none;\n",
              "      fill: #1967D2;\n",
              "      height: 32px;\n",
              "      padding: 0 0 0 0;\n",
              "      width: 32px;\n",
              "    }\n",
              "\n",
              "    .colab-df-convert:hover {\n",
              "      background-color: #E2EBFA;\n",
              "      box-shadow: 0px 1px 2px rgba(60, 64, 67, 0.3), 0px 1px 3px 1px rgba(60, 64, 67, 0.15);\n",
              "      fill: #174EA6;\n",
              "    }\n",
              "\n",
              "    [theme=dark] .colab-df-convert {\n",
              "      background-color: #3B4455;\n",
              "      fill: #D2E3FC;\n",
              "    }\n",
              "\n",
              "    [theme=dark] .colab-df-convert:hover {\n",
              "      background-color: #434B5C;\n",
              "      box-shadow: 0px 1px 3px 1px rgba(0, 0, 0, 0.15);\n",
              "      filter: drop-shadow(0px 1px 2px rgba(0, 0, 0, 0.3));\n",
              "      fill: #FFFFFF;\n",
              "    }\n",
              "  </style>\n",
              "\n",
              "      <script>\n",
              "        const buttonEl =\n",
              "          document.querySelector('#df-ab879f6c-5488-4d95-86fd-ced655685f0a button.colab-df-convert');\n",
              "        buttonEl.style.display =\n",
              "          google.colab.kernel.accessAllowed ? 'block' : 'none';\n",
              "\n",
              "        async function convertToInteractive(key) {\n",
              "          const element = document.querySelector('#df-ab879f6c-5488-4d95-86fd-ced655685f0a');\n",
              "          const dataTable =\n",
              "            await google.colab.kernel.invokeFunction('convertToInteractive',\n",
              "                                                     [key], {});\n",
              "          if (!dataTable) return;\n",
              "\n",
              "          const docLinkHtml = 'Like what you see? Visit the ' +\n",
              "            '<a target=\"_blank\" href=https://colab.research.google.com/notebooks/data_table.ipynb>data table notebook</a>'\n",
              "            + ' to learn more about interactive tables.';\n",
              "          element.innerHTML = '';\n",
              "          dataTable['output_type'] = 'display_data';\n",
              "          await google.colab.output.renderOutput(dataTable, element);\n",
              "          const docLink = document.createElement('div');\n",
              "          docLink.innerHTML = docLinkHtml;\n",
              "          element.appendChild(docLink);\n",
              "        }\n",
              "      </script>\n",
              "    </div>\n",
              "  </div>\n",
              "  "
            ]
          },
          "metadata": {},
          "execution_count": 15
        }
      ]
    },
    {
      "cell_type": "code",
      "source": [
        "df_p1.describe()"
      ],
      "metadata": {
        "id": "K1E1c1CS5aKB",
        "colab": {
          "base_uri": "https://localhost:8080/",
          "height": 300
        },
        "outputId": "48563a63-db79-4e34-8eb0-3d66414876cf"
      },
      "execution_count": 16,
      "outputs": [
        {
          "output_type": "execute_result",
          "data": {
            "text/plain": [
              "                pop           emp           avh\n",
              "count  12376.000000  12376.000000  12376.000000\n",
              "mean      24.431884     10.572256    540.753806\n",
              "std      103.593843     50.402501    894.901198\n",
              "min        0.000000      0.000000      0.000000\n",
              "25%        0.000000      0.000000      0.000000\n",
              "50%        3.000000      1.297032      0.000000\n",
              "75%       13.000000      4.938672   1605.550537\n",
              "max     1409.000000    792.575317   2910.734863"
            ],
            "text/html": [
              "\n",
              "  <div id=\"df-e54607f4-2e74-4a44-88ca-1d3f4a8b8612\">\n",
              "    <div class=\"colab-df-container\">\n",
              "      <div>\n",
              "<style scoped>\n",
              "    .dataframe tbody tr th:only-of-type {\n",
              "        vertical-align: middle;\n",
              "    }\n",
              "\n",
              "    .dataframe tbody tr th {\n",
              "        vertical-align: top;\n",
              "    }\n",
              "\n",
              "    .dataframe thead th {\n",
              "        text-align: right;\n",
              "    }\n",
              "</style>\n",
              "<table border=\"1\" class=\"dataframe\">\n",
              "  <thead>\n",
              "    <tr style=\"text-align: right;\">\n",
              "      <th></th>\n",
              "      <th>pop</th>\n",
              "      <th>emp</th>\n",
              "      <th>avh</th>\n",
              "    </tr>\n",
              "  </thead>\n",
              "  <tbody>\n",
              "    <tr>\n",
              "      <th>count</th>\n",
              "      <td>12376.000000</td>\n",
              "      <td>12376.000000</td>\n",
              "      <td>12376.000000</td>\n",
              "    </tr>\n",
              "    <tr>\n",
              "      <th>mean</th>\n",
              "      <td>24.431884</td>\n",
              "      <td>10.572256</td>\n",
              "      <td>540.753806</td>\n",
              "    </tr>\n",
              "    <tr>\n",
              "      <th>std</th>\n",
              "      <td>103.593843</td>\n",
              "      <td>50.402501</td>\n",
              "      <td>894.901198</td>\n",
              "    </tr>\n",
              "    <tr>\n",
              "      <th>min</th>\n",
              "      <td>0.000000</td>\n",
              "      <td>0.000000</td>\n",
              "      <td>0.000000</td>\n",
              "    </tr>\n",
              "    <tr>\n",
              "      <th>25%</th>\n",
              "      <td>0.000000</td>\n",
              "      <td>0.000000</td>\n",
              "      <td>0.000000</td>\n",
              "    </tr>\n",
              "    <tr>\n",
              "      <th>50%</th>\n",
              "      <td>3.000000</td>\n",
              "      <td>1.297032</td>\n",
              "      <td>0.000000</td>\n",
              "    </tr>\n",
              "    <tr>\n",
              "      <th>75%</th>\n",
              "      <td>13.000000</td>\n",
              "      <td>4.938672</td>\n",
              "      <td>1605.550537</td>\n",
              "    </tr>\n",
              "    <tr>\n",
              "      <th>max</th>\n",
              "      <td>1409.000000</td>\n",
              "      <td>792.575317</td>\n",
              "      <td>2910.734863</td>\n",
              "    </tr>\n",
              "  </tbody>\n",
              "</table>\n",
              "</div>\n",
              "      <button class=\"colab-df-convert\" onclick=\"convertToInteractive('df-e54607f4-2e74-4a44-88ca-1d3f4a8b8612')\"\n",
              "              title=\"Convert this dataframe to an interactive table.\"\n",
              "              style=\"display:none;\">\n",
              "        \n",
              "  <svg xmlns=\"http://www.w3.org/2000/svg\" height=\"24px\"viewBox=\"0 0 24 24\"\n",
              "       width=\"24px\">\n",
              "    <path d=\"M0 0h24v24H0V0z\" fill=\"none\"/>\n",
              "    <path d=\"M18.56 5.44l.94 2.06.94-2.06 2.06-.94-2.06-.94-.94-2.06-.94 2.06-2.06.94zm-11 1L8.5 8.5l.94-2.06 2.06-.94-2.06-.94L8.5 2.5l-.94 2.06-2.06.94zm10 10l.94 2.06.94-2.06 2.06-.94-2.06-.94-.94-2.06-.94 2.06-2.06.94z\"/><path d=\"M17.41 7.96l-1.37-1.37c-.4-.4-.92-.59-1.43-.59-.52 0-1.04.2-1.43.59L10.3 9.45l-7.72 7.72c-.78.78-.78 2.05 0 2.83L4 21.41c.39.39.9.59 1.41.59.51 0 1.02-.2 1.41-.59l7.78-7.78 2.81-2.81c.8-.78.8-2.07 0-2.86zM5.41 20L4 18.59l7.72-7.72 1.47 1.35L5.41 20z\"/>\n",
              "  </svg>\n",
              "      </button>\n",
              "      \n",
              "  <style>\n",
              "    .colab-df-container {\n",
              "      display:flex;\n",
              "      flex-wrap:wrap;\n",
              "      gap: 12px;\n",
              "    }\n",
              "\n",
              "    .colab-df-convert {\n",
              "      background-color: #E8F0FE;\n",
              "      border: none;\n",
              "      border-radius: 50%;\n",
              "      cursor: pointer;\n",
              "      display: none;\n",
              "      fill: #1967D2;\n",
              "      height: 32px;\n",
              "      padding: 0 0 0 0;\n",
              "      width: 32px;\n",
              "    }\n",
              "\n",
              "    .colab-df-convert:hover {\n",
              "      background-color: #E2EBFA;\n",
              "      box-shadow: 0px 1px 2px rgba(60, 64, 67, 0.3), 0px 1px 3px 1px rgba(60, 64, 67, 0.15);\n",
              "      fill: #174EA6;\n",
              "    }\n",
              "\n",
              "    [theme=dark] .colab-df-convert {\n",
              "      background-color: #3B4455;\n",
              "      fill: #D2E3FC;\n",
              "    }\n",
              "\n",
              "    [theme=dark] .colab-df-convert:hover {\n",
              "      background-color: #434B5C;\n",
              "      box-shadow: 0px 1px 3px 1px rgba(0, 0, 0, 0.15);\n",
              "      filter: drop-shadow(0px 1px 2px rgba(0, 0, 0, 0.3));\n",
              "      fill: #FFFFFF;\n",
              "    }\n",
              "  </style>\n",
              "\n",
              "      <script>\n",
              "        const buttonEl =\n",
              "          document.querySelector('#df-e54607f4-2e74-4a44-88ca-1d3f4a8b8612 button.colab-df-convert');\n",
              "        buttonEl.style.display =\n",
              "          google.colab.kernel.accessAllowed ? 'block' : 'none';\n",
              "\n",
              "        async function convertToInteractive(key) {\n",
              "          const element = document.querySelector('#df-e54607f4-2e74-4a44-88ca-1d3f4a8b8612');\n",
              "          const dataTable =\n",
              "            await google.colab.kernel.invokeFunction('convertToInteractive',\n",
              "                                                     [key], {});\n",
              "          if (!dataTable) return;\n",
              "\n",
              "          const docLinkHtml = 'Like what you see? Visit the ' +\n",
              "            '<a target=\"_blank\" href=https://colab.research.google.com/notebooks/data_table.ipynb>data table notebook</a>'\n",
              "            + ' to learn more about interactive tables.';\n",
              "          element.innerHTML = '';\n",
              "          dataTable['output_type'] = 'display_data';\n",
              "          await google.colab.output.renderOutput(dataTable, element);\n",
              "          const docLink = document.createElement('div');\n",
              "          docLink.innerHTML = docLinkHtml;\n",
              "          element.appendChild(docLink);\n",
              "        }\n",
              "      </script>\n",
              "    </div>\n",
              "  </div>\n",
              "  "
            ]
          },
          "metadata": {},
          "execution_count": 16
        }
      ]
    },
    {
      "cell_type": "code",
      "source": [
        "df_p.keys()"
      ],
      "metadata": {
        "colab": {
          "base_uri": "https://localhost:8080/"
        },
        "id": "Vti9mEhTcx35",
        "outputId": "50c2d28b-c969-4393-a553-21e86df31a1d"
      },
      "execution_count": 17,
      "outputs": [
        {
          "output_type": "execute_result",
          "data": {
            "text/plain": [
              "Index(['countrycode', 'country', 'year', 'rgdpo', 'pop', 'emp', 'avh', 'hc'], dtype='object')"
            ]
          },
          "metadata": {},
          "execution_count": 17
        }
      ]
    },
    {
      "cell_type": "code",
      "source": [
        "#2013-08-04 5:5:125  format = '%Y-%m-%d %H:%M:%S'\n",
        "#04/08/2013 5:5:125  format = '%d/%m/%Y %H:%M:%S'\n",
        "#04 de 08 del año 2013 5:5:125  format = '%d/%m/%Y %H:%M:%S'\n",
        "df_p_t = df_p['year']\n",
        "#1950\n",
        "df_p_t['year'] = pd.to_datetime(df_p['year'], format = '%Y')\n",
        "df_p_t['year'].head(20)"
      ],
      "metadata": {
        "colab": {
          "base_uri": "https://localhost:8080/"
        },
        "id": "ETzv0wx4c-iB",
        "outputId": "605a6caa-68a0-4e8a-bb76-0a7739811e08"
      },
      "execution_count": 18,
      "outputs": [
        {
          "output_type": "stream",
          "name": "stderr",
          "text": [
            "/usr/local/lib/python3.7/dist-packages/ipykernel_launcher.py:6: SettingWithCopyWarning: \n",
            "A value is trying to be set on a copy of a slice from a DataFrame\n",
            "\n",
            "See the caveats in the documentation: https://pandas.pydata.org/pandas-docs/stable/user_guide/indexing.html#returning-a-view-versus-a-copy\n",
            "  \n"
          ]
        },
        {
          "output_type": "execute_result",
          "data": {
            "text/plain": [
              "0    1950-01-01\n",
              "1    1951-01-01\n",
              "2    1952-01-01\n",
              "3    1953-01-01\n",
              "4    1954-01-01\n",
              "5    1955-01-01\n",
              "6    1956-01-01\n",
              "7    1957-01-01\n",
              "8    1958-01-01\n",
              "9    1959-01-01\n",
              "10   1960-01-01\n",
              "11   1961-01-01\n",
              "12   1962-01-01\n",
              "13   1963-01-01\n",
              "14   1964-01-01\n",
              "15   1965-01-01\n",
              "16   1966-01-01\n",
              "17   1967-01-01\n",
              "18   1968-01-01\n",
              "19   1969-01-01\n",
              "Name: year, dtype: datetime64[ns]"
            ]
          },
          "metadata": {},
          "execution_count": 18
        }
      ]
    },
    {
      "cell_type": "code",
      "source": [
        "df_p['pop'] = df_p1['pop']\n",
        "df_p['emp'] = df_p1['emp'] \n",
        "df_p['avh'] = df_p1['avh']\n",
        "df_p['year'] = df_p_t['year']"
      ],
      "metadata": {
        "id": "cE1qgLcihONu"
      },
      "execution_count": 19,
      "outputs": []
    },
    {
      "cell_type": "code",
      "source": [
        "df_p.dtypes"
      ],
      "metadata": {
        "colab": {
          "base_uri": "https://localhost:8080/"
        },
        "id": "0FmFShqLiBwW",
        "outputId": "0682d939-5fb5-4a09-828c-a20948faa4cd"
      },
      "execution_count": 20,
      "outputs": [
        {
          "output_type": "execute_result",
          "data": {
            "text/plain": [
              "countrycode            object\n",
              "country                object\n",
              "year           datetime64[ns]\n",
              "rgdpo                 float64\n",
              "pop                     int64\n",
              "emp                   float64\n",
              "avh                   float64\n",
              "hc                    float64\n",
              "dtype: object"
            ]
          },
          "metadata": {},
          "execution_count": 20
        }
      ]
    },
    {
      "cell_type": "code",
      "source": [
        "df_p['countrycode'] = df_p['countrycode'].astype(str)\n",
        "df_p['country'] = df_p['country'].astype(str)\n",
        "df_p.dtypes"
      ],
      "metadata": {
        "colab": {
          "base_uri": "https://localhost:8080/"
        },
        "id": "TtxSRj9xicG1",
        "outputId": "39a198ff-15de-419f-d5bf-977c62186c98"
      },
      "execution_count": 21,
      "outputs": [
        {
          "output_type": "execute_result",
          "data": {
            "text/plain": [
              "countrycode            object\n",
              "country                object\n",
              "year           datetime64[ns]\n",
              "rgdpo                 float64\n",
              "pop                     int64\n",
              "emp                   float64\n",
              "avh                   float64\n",
              "hc                    float64\n",
              "dtype: object"
            ]
          },
          "metadata": {},
          "execution_count": 21
        }
      ]
    },
    {
      "cell_type": "code",
      "source": [
        "import sys\n",
        "import os\n",
        "import numpy as np\n",
        "import pandas as pd\n",
        "# Librería para medidas de posición y forma\n",
        "import scipy\n",
        "import scipy.stats as stats\n",
        "# Librerías para visualización\n",
        "import seaborn as sns\n",
        "import matplotlib\n",
        "import matplotlib.pyplot as plt\n",
        "import plotly"
      ],
      "metadata": {
        "id": "yUdLmVv4vtQM"
      },
      "execution_count": 23,
      "outputs": []
    },
    {
      "cell_type": "code",
      "source": [
        "df['pop'].values"
      ],
      "metadata": {
        "colab": {
          "base_uri": "https://localhost:8080/"
        },
        "id": "xv-OoeivuABE",
        "outputId": "6331d4ef-7b59-46fa-c607-22cbacc51bcf"
      },
      "execution_count": 32,
      "outputs": [
        {
          "output_type": "execute_result",
          "data": {
            "text/plain": [
              "array([ 0,  0,  0, ..., 15, 16, 16])"
            ]
          },
          "metadata": {},
          "execution_count": 32
        }
      ]
    },
    {
      "cell_type": "code",
      "source": [
        "sns.displot(df['emp'].values, color='darkblue', kde=True)\n",
        "plt.title('pop')\n",
        "plt.xlabel('')\n",
        "plt.ylabel('')\n",
        "#plt.xlim(1000,3000)\n",
        "#plt.ylim(0,700)\n",
        "plt.show()"
      ],
      "metadata": {
        "colab": {
          "base_uri": "https://localhost:8080/",
          "height": 385
        },
        "id": "k3Sr3PmitTt-",
        "outputId": "dd6a4c7b-2955-406a-c597-89fc89fcc7da"
      },
      "execution_count": 49,
      "outputs": [
        {
          "output_type": "display_data",
          "data": {
            "text/plain": [
              "<Figure size 360x360 with 1 Axes>"
            ],
            "image/png": "[encoded data removed]"
          },
          "metadata": {
            "needs_background": "light"
          }
        }
      ]
    },
    {
      "cell_type": "code",
      "source": [
        "df.describe()"
      ],
      "metadata": {
        "colab": {
          "base_uri": "https://localhost:8080/",
          "height": 300
        },
        "id": "VMZ4EtcDvh0b",
        "outputId": "89a2221c-ed79-464c-c322-e41f595a5b5f"
      },
      "execution_count": 43,
      "outputs": [
        {
          "output_type": "execute_result",
          "data": {
            "text/plain": [
              "              rgdpo           pop           emp           avh           hc\n",
              "count  9.985000e+03  12376.000000  12376.000000  12376.000000  8299.000000\n",
              "mean   2.691928e+05     24.431884     10.572256    540.753806     2.064241\n",
              "std    1.070178e+06    103.593843     50.402501    894.901198     0.720774\n",
              "min    1.977999e+01      0.000000      0.000000      0.000000     1.007038\n",
              "25%    6.380658e+03      0.000000      0.000000      0.000000     1.431531\n",
              "50%    2.710632e+04      3.000000      1.297032      0.000000     1.954407\n",
              "75%    1.374726e+05     13.000000      4.938672   1605.550537     2.649120\n",
              "max    1.838384e+07   1409.000000    792.575317   2910.734863     3.974208"
            ],
            "text/html": [
              "\n",
              "  <div id=\"df-9db839a3-467f-45c4-8471-e1fc93453f30\">\n",
              "    <div class=\"colab-df-container\">\n",
              "      <div>\n",
              "<style scoped>\n",
              "    .dataframe tbody tr th:only-of-type {\n",
              "        vertical-align: middle;\n",
              "    }\n",
              "\n",
              "    .dataframe tbody tr th {\n",
              "        vertical-align: top;\n",
              "    }\n",
              "\n",
              "    .dataframe thead th {\n",
              "        text-align: right;\n",
              "    }\n",
              "</style>\n",
              "<table border=\"1\" class=\"dataframe\">\n",
              "  <thead>\n",
              "    <tr style=\"text-align: right;\">\n",
              "      <th></th>\n",
              "      <th>rgdpo</th>\n",
              "      <th>pop</th>\n",
              "      <th>emp</th>\n",
              "      <th>avh</th>\n",
              "      <th>hc</th>\n",
              "    </tr>\n",
              "  </thead>\n",
              "  <tbody>\n",
              "    <tr>\n",
              "      <th>count</th>\n",
              "      <td>9.985000e+03</td>\n",
              "      <td>12376.000000</td>\n",
              "      <td>12376.000000</td>\n",
              "      <td>12376.000000</td>\n",
              "      <td>8299.000000</td>\n",
              "    </tr>\n",
              "    <tr>\n",
              "      <th>mean</th>\n",
              "      <td>2.691928e+05</td>\n",
              "      <td>24.431884</td>\n",
              "      <td>10.572256</td>\n",
              "      <td>540.753806</td>\n",
              "      <td>2.064241</td>\n",
              "    </tr>\n",
              "    <tr>\n",
              "      <th>std</th>\n",
              "      <td>1.070178e+06</td>\n",
              "      <td>103.593843</td>\n",
              "      <td>50.402501</td>\n",
              "      <td>894.901198</td>\n",
              "      <td>0.720774</td>\n",
              "    </tr>\n",
              "    <tr>\n",
              "      <th>min</th>\n",
              "      <td>1.977999e+01</td>\n",
              "      <td>0.000000</td>\n",
              "      <td>0.000000</td>\n",
              "      <td>0.000000</td>\n",
              "      <td>1.007038</td>\n",
              "    </tr>\n",
              "    <tr>\n",
              "      <th>25%</th>\n",
              "      <td>6.380658e+03</td>\n",
              "      <td>0.000000</td>\n",
              "      <td>0.000000</td>\n",
              "      <td>0.000000</td>\n",
              "      <td>1.431531</td>\n",
              "    </tr>\n",
              "    <tr>\n",
              "      <th>50%</th>\n",
              "      <td>2.710632e+04</td>\n",
              "      <td>3.000000</td>\n",
              "      <td>1.297032</td>\n",
              "      <td>0.000000</td>\n",
              "      <td>1.954407</td>\n",
              "    </tr>\n",
              "    <tr>\n",
              "      <th>75%</th>\n",
              "      <td>1.374726e+05</td>\n",
              "      <td>13.000000</td>\n",
              "      <td>4.938672</td>\n",
              "      <td>1605.550537</td>\n",
              "      <td>2.649120</td>\n",
              "    </tr>\n",
              "    <tr>\n",
              "      <th>max</th>\n",
              "      <td>1.838384e+07</td>\n",
              "      <td>1409.000000</td>\n",
              "      <td>792.575317</td>\n",
              "      <td>2910.734863</td>\n",
              "      <td>3.974208</td>\n",
              "    </tr>\n",
              "  </tbody>\n",
              "</table>\n",
              "</div>\n",
              "      <button class=\"colab-df-convert\" onclick=\"convertToInteractive('df-9db839a3-467f-45c4-8471-e1fc93453f30')\"\n",
              "              title=\"Convert this dataframe to an interactive table.\"\n",
              "              style=\"display:none;\">\n",
              "        \n",
              "  <svg xmlns=\"http://www.w3.org/2000/svg\" height=\"24px\"viewBox=\"0 0 24 24\"\n",
              "       width=\"24px\">\n",
              "    <path d=\"M0 0h24v24H0V0z\" fill=\"none\"/>\n",
              "    <path d=\"M18.56 5.44l.94 2.06.94-2.06 2.06-.94-2.06-.94-.94-2.06-.94 2.06-2.06.94zm-11 1L8.5 8.5l.94-2.06 2.06-.94-2.06-.94L8.5 2.5l-.94 2.06-2.06.94zm10 10l.94 2.06.94-2.06 2.06-.94-2.06-.94-.94-2.06-.94 2.06-2.06.94z\"/><path d=\"M17.41 7.96l-1.37-1.37c-.4-.4-.92-.59-1.43-.59-.52 0-1.04.2-1.43.59L10.3 9.45l-7.72 7.72c-.78.78-.78 2.05 0 2.83L4 21.41c.39.39.9.59 1.41.59.51 0 1.02-.2 1.41-.59l7.78-7.78 2.81-2.81c.8-.78.8-2.07 0-2.86zM5.41 20L4 18.59l7.72-7.72 1.47 1.35L5.41 20z\"/>\n",
              "  </svg>\n",
              "      </button>\n",
              "      \n",
              "  <style>\n",
              "    .colab-df-container {\n",
              "      display:flex;\n",
              "      flex-wrap:wrap;\n",
              "      gap: 12px;\n",
              "    }\n",
              "\n",
              "    .colab-df-convert {\n",
              "      background-color: #E8F0FE;\n",
              "      border: none;\n",
              "      border-radius: 50%;\n",
              "      cursor: pointer;\n",
              "      display: none;\n",
              "      fill: #1967D2;\n",
              "      height: 32px;\n",
              "      padding: 0 0 0 0;\n",
              "      width: 32px;\n",
              "    }\n",
              "\n",
              "    .colab-df-convert:hover {\n",
              "      background-color: #E2EBFA;\n",
              "      box-shadow: 0px 1px 2px rgba(60, 64, 67, 0.3), 0px 1px 3px 1px rgba(60, 64, 67, 0.15);\n",
              "      fill: #174EA6;\n",
              "    }\n",
              "\n",
              "    [theme=dark] .colab-df-convert {\n",
              "      background-color: #3B4455;\n",
              "      fill: #D2E3FC;\n",
              "    }\n",
              "\n",
              "    [theme=dark] .colab-df-convert:hover {\n",
              "      background-color: #434B5C;\n",
              "      box-shadow: 0px 1px 3px 1px rgba(0, 0, 0, 0.15);\n",
              "      filter: drop-shadow(0px 1px 2px rgba(0, 0, 0, 0.3));\n",
              "      fill: #FFFFFF;\n",
              "    }\n",
              "  </style>\n",
              "\n",
              "      <script>\n",
              "        const buttonEl =\n",
              "          document.querySelector('#df-9db839a3-467f-45c4-8471-e1fc93453f30 button.colab-df-convert');\n",
              "        buttonEl.style.display =\n",
              "          google.colab.kernel.accessAllowed ? 'block' : 'none';\n",
              "\n",
              "        async function convertToInteractive(key) {\n",
              "          const element = document.querySelector('#df-9db839a3-467f-45c4-8471-e1fc93453f30');\n",
              "          const dataTable =\n",
              "            await google.colab.kernel.invokeFunction('convertToInteractive',\n",
              "                                                     [key], {});\n",
              "          if (!dataTable) return;\n",
              "\n",
              "          const docLinkHtml = 'Like what you see? Visit the ' +\n",
              "            '<a target=\"_blank\" href=https://colab.research.google.com/notebooks/data_table.ipynb>data table notebook</a>'\n",
              "            + ' to learn more about interactive tables.';\n",
              "          element.innerHTML = '';\n",
              "          dataTable['output_type'] = 'display_data';\n",
              "          await google.colab.output.renderOutput(dataTable, element);\n",
              "          const docLink = document.createElement('div');\n",
              "          docLink.innerHTML = docLinkHtml;\n",
              "          element.appendChild(docLink);\n",
              "        }\n",
              "      </script>\n",
              "    </div>\n",
              "  </div>\n",
              "  "
            ]
          },
          "metadata": {},
          "execution_count": 43
        }
      ]
    },
    {
      "cell_type": "code",
      "source": [
        "print(df['hc'].mean())\n",
        "print(df['hc'].median())\n",
        "print(df['hc'].mode())"
      ],
      "metadata": {
        "colab": {
          "base_uri": "https://localhost:8080/"
        },
        "id": "GxbbvntxwrgS",
        "outputId": "396db3fb-889b-4d00-8d14-4d546435ac07"
      },
      "execution_count": 52,
      "outputs": [
        {
          "output_type": "stream",
          "name": "stdout",
          "text": [
            "2.064240958770575\n",
            "1.954407215\n",
            "0    1.095495\n",
            "1    1.304900\n",
            "dtype: float64\n"
          ]
        }
      ]
    },
    {
      "cell_type": "code",
      "source": [
        "sns.displot(df['hc'].values, color='darkblue', kde=True)\n",
        "plt.title('pop')\n",
        "plt.xlabel('')\n",
        "plt.ylabel('')\n",
        "#plt.xlim(1000,3000)\n",
        "#plt.ylim(0,700)\n",
        "moda = df['hc'].mode()[0]\n",
        "plt.axvline(df['hc'].mean(), color='red', label='Promedio')\n",
        "plt.axvline(moda, color='red', label='Promedio')\n",
        "plt.axvline(2.5, color='#4FCA28', label='Promedio')\n",
        "plt.legend()\n",
        "plt.show()"
      ],
      "metadata": {
        "colab": {
          "base_uri": "https://localhost:8080/",
          "height": 385
        },
        "id": "iNsfebG3xUfC",
        "outputId": "8d385b88-de4f-4a85-fcf8-cba232a9f535"
      },
      "execution_count": 64,
      "outputs": [
        {
          "output_type": "display_data",
          "data": {
            "text/plain": [
              "<Figure size 360x360 with 1 Axes>"
            ],
            "image/png": "[encoded data removed]"
          },
          "metadata": {
            "needs_background": "light"
          }
        }
      ]
    },
    {
      "cell_type": "code",
      "source": [
        "import plotly.graph_objects as go\n",
        "fig = go.Figure(\n",
        "    data=[go.Bar(y=df['hc'].values)],\n",
        "    layout_title_text=\"A Figure Displayed with fig.show()\"\n",
        ")\n",
        "fig.show()"
      ],
      "metadata": {
        "colab": {
          "base_uri": "https://localhost:8080/",
          "height": 542
        },
        "id": "27ai_7FQyfnR",
        "outputId": "b946a328-81a1-480b-fd0f-89bec069f011"
      },
      "execution_count": 61,
      "outputs": [
        {
          "output_type": "display_data",
          "data": {
            "text/html": [
              "<html>\n",
              "<head><meta charset=\"utf-8\" /></head>\n",
              "<body>\n",
              "    <div>            <script src=\"https://cdnjs.cloudflare.com/ajax/libs/mathjax/2.7.5/MathJax.js?config=TeX-AMS-MML_SVG\"></script><script type=\"text/javascript\">if (window.MathJax) {MathJax.Hub.Config({SVG: {font: \"STIX-Web\"}});}</script>                <script type=\"text/javascript\">window.PlotlyConfig = {MathJaxConfig: 'local'};</script>\n",
              "        <script src=\"https://cdn.plot.ly/plotly-2.8.3.min.js\"></script>                <div id=\"75f2c4be-effa-4472-9e92-4f123fc0ed1a\" class=\"plotly-graph-div\" style=\"height:525px; width:100%;\"></div>            <script type=\"text/javascript\">                                    window.PLOTLYENV=window.PLOTLYENV || {};                                    if (document.getElementById(\"75f2c4be-effa-4472-9e92-4f123fc0ed1a\")) {                    Plotly.newPlot(                        \"75f2c4be-effa-4472-9e92-4f123fc0ed1a\",                        [{\"y\":[null,null,null,null,null,null,null,null,null,null,null,null,null,null,null,null,null,null,null,null,null,null,null,null,null,null,null,null,null,null,null,null,null,null,null,null,null,null,null,null,null,null,null,null,null,null,null,null,null,null,null,null,null,null,null,null,null,null,null,null,null,null,null,null,null,null,null,null,null,null,null,null,null,null,null,null,null,null,null,null,null,null,null,null,null,null,null,null,1.015685797,1.018195629,1.020711541,1.023233771,1.0257622,1.028296828,1.030837774,1.033385038,1.035938501,1.038498282,1.041064382,1.050380826,1.059780598,1.069264412,1.078833222,1.088487506,1.098228335,1.108056307,1.117972136,1.127976775,1.138070941,1.153040051,1.168206215,1.183571696,1.199139357,1.214911699,1.230891585,1.247081637,1.263484716,1.280103445,1.296940804,1.308486342,1.32013464,1.331886649,1.343743324,1.355705619,1.367774248,1.379950404,1.392234921,1.404628754,1.417132974,1.424196243,1.43129468,1.438428521,1.445597887,1.452803016,1.460044026,1.467321157,null,null,null,null,null,null,null,null,null,null,null,null,null,null,null,null,null,null,null,null,null,null,null,null,null,null,null,null,null,null,null,null,null,null,null,null,null,null,null,null,null,null,null,null,null,null,null,null,null,null,null,null,null,null,null,null,null,null,null,null,null,null,null,null,null,null,null,null,null,null,null,null,null,null,null,null,null,null,null,null,null,null,null,null,null,null,null,null,1.559144616,1.587132335,1.615622401,1.644623995,1.674146175,1.704198241,1.739211321,1.773674369,1.808820248,1.844662547,1.881214976,1.950753093,2.022861719,2.097635508,2.175173521,2.255577564,2.305439949,2.356404781,2.408496141,2.461739063,2.516158819,2.515733242,2.515307903,2.514882565,2.514457226,2.514031887,2.581189394,2.634504318,2.688920259,2.744460106,2.801147461,2.815089703,2.829101563,2.843183279,2.857334852,2.871556759,2.878031731,2.884521484,2.891025543,2.897544622,2.904078007,2.910693407,2.917346239,2.92403698,2.930765867,2.937533379,2.944339275,2.951184273,null,null,null,null,null,null,null,null,null,null,null,null,null,null,null,null,null,null,null,null,1.376651049,1.398153901,1.419992685,1.442172527,1.464698792,1.487576962,1.51268971,1.538226485,1.564194322,1.590600491,1.617452502,1.656284094,1.696047902,1.729925871,1.761138082,1.792913437,1.835169435,1.878421307,1.922692537,1.968007088,2.014389753,2.074725151,2.136868,2.200871944,2.266793013,2.334688425,2.392024755,2.450768948,2.510955811,2.568484306,2.610784054,2.628685713,2.646710634,2.664858818,2.683131695,2.701529503,2.704702854,2.707879543,2.711060286,2.714244366,2.717432737,2.720643282,2.723864079,2.727094889,2.730335951,2.733587027,2.736848593,2.740120173,1.816502929,1.830768943,1.845147133,1.859638214,1.874243021,1.888962626,1.901768327,1.91466105,1.927641034,1.940709233,1.953865767,1.964927793,1.976052523,1.987240314,1.998491406,2.009806156,2.022713423,2.035703421,2.048776865,2.061934233,2.075176239,2.096463442,2.117969036,2.139695168,2.16164422,2.18381834,2.196906328,2.210072994,2.223318338,2.236643076,2.250047684,2.283164024,2.316767931,2.350866556,2.385466814,2.420576334,2.441888332,2.463388205,2.485077143,2.506957054,2.529029608,2.552567959,2.570973873,2.587059975,2.60324645,2.619534492,2.627023935,2.634534597,2.642066956,2.649620771,2.657196045,2.683002949,2.709059954,2.735370398,2.761936188,2.788760185,2.796975374,2.805214643,2.813478231,2.821766138,2.830078363,2.858542204,2.887292385,2.916331768,2.945662737,2.975289106,3.005213499,3.035438776,null,null,null,null,null,null,null,null,null,null,null,null,null,null,null,null,null,null,null,null,null,null,null,null,null,null,null,null,null,null,null,null,null,null,null,null,null,null,null,null,2.948580503,2.962982893,2.977455854,2.991999149,3.006613731,3.021299601,3.036613464,3.052005053,3.067474365,3.083022356,3.098649025,3.09845233,3.098255634,3.098059177,3.097862482,3.097665787,3.100373507,3.103083372,3.105795622,3.108510256,3.111227512,3.11395669,3.116691589,3.119431973,3.122178078,3.124930143,3.127687693,3.130450964,null,null,null,null,null,null,null,null,null,null,null,null,null,null,null,null,null,null,null,null,null,null,null,null,null,null,null,null,null,null,null,null,null,null,null,null,null,null,null,null,null,null,null,null,null,null,null,null,null,null,null,null,null,null,null,null,null,null,null,null,null,null,null,null,null,null,null,null,2.667301893,2.674343586,2.681403399,2.688482285,2.695579767,2.702695847,2.71145153,2.720235586,2.729047775,2.737889051,2.746758461,2.768152952,2.789713621,2.811442375,2.833340645,2.855409384,2.877649784,2.900063515,2.922651768,2.945416212,2.968357801,2.991992712,3.015816212,3.039829254,3.064033508,3.088430405,3.113021612,3.1378088,3.162793159,3.187976599,3.21336031,3.232604742,3.251964808,3.271440506,3.291033268,3.310742855,3.330570698,3.350517273,3.370583296,3.39076972,3.411076784,3.423622847,3.436215162,3.448853731,3.461538792,3.474270582,3.487049341,3.49987483,3.512747765,3.525667667,3.538635492,3.527511835,3.516423464,3.505369663,3.494350672,3.483366489,3.472416639,3.46150136,3.450620174,3.43977356,3.4289608,3.442167044,3.455424309,3.468732834,3.482092381,3.495503426,3.508966208,3.522480726,2.552640438,2.537035942,2.521526814,2.506112576,2.490792513,2.475566149,2.461072206,2.44666338,2.432338715,2.418097973,2.403940678,2.426981688,2.450243473,2.473728418,2.497438192,2.521375418,2.545542002,2.5666821,2.58321929,2.599862814,2.616613865,2.633699417,2.650897026,2.668206453,2.685628891,2.703165293,2.720816374,2.738582373,2.756464481,2.774463415,2.792579889,2.809374809,2.826271057,2.843268871,2.860368729,2.877571583,2.894877672,2.912288189,2.929803133,2.947423697,2.965149879,2.979998589,2.994921923,3.009919643,3.024992943,3.040141344,3.055365562,3.070666313,3.086043358,3.10149765,3.11702919,3.133230925,3.149516821,3.165887117,3.182343006,3.19888401,3.215510845,3.232224703,3.249024868,3.265912771,3.282888174,3.293652296,3.304451942,3.315286875,3.326157331,3.337063313,3.348005295,3.35898304,null,null,null,null,null,null,null,null,null,null,null,null,null,null,null,null,null,null,null,null,null,null,null,null,null,null,null,null,null,null,null,null,null,null,null,null,null,null,null,null,null,null,null,null,null,null,null,null,null,null,null,null,null,null,null,null,null,null,null,null,null,null,null,null,null,null,null,null,null,null,null,null,null,null,null,null,null,null,1.095494509,1.095494509,1.095494509,1.095494509,1.095494509,1.095494509,1.095494509,1.095494509,1.095494509,1.095494509,1.095494509,1.095634222,1.095774055,1.095913768,1.0960536,1.096193433,1.096333265,1.096473098,1.09661305,1.096752882,1.096892834,1.100578904,1.104277492,1.107988477,1.111711979,1.115447998,1.119196534,1.122957587,1.126731396,1.13051784,1.13431704,1.141326427,1.148379207,1.155475497,1.162615657,1.169800043,1.177028656,1.184302092,1.19162035,1.198983908,1.206392884,1.215250373,1.22417295,1.233161092,1.242215157,1.251335621,1.260523081,1.269778013,1.279101014,1.288492322,1.297952652,1.310621381,1.323413849,1.336331129,1.349374533,1.362545133,1.375844479,1.389273405,2.203547478,2.219054222,2.234670162,2.250396013,2.266232491,2.282180548,2.287193298,2.292217016,2.29725194,2.302297592,2.30735445,2.308828831,2.310304165,2.311780453,2.313257456,2.314735651,2.323425055,2.332147121,2.340901852,2.349689484,2.358510017,2.374488115,2.390574217,2.406769276,2.423074007,2.439489365,2.4655478,2.491884947,2.518503189,2.545405865,2.568467617,2.587121487,2.605910778,2.624836922,2.643900156,2.663101912,2.681828737,2.700686932,2.719678164,2.738802671,2.758061647,2.783883095,2.80994606,2.836253166,2.862806559,2.889608622,2.906220198,2.922927141,2.939730644,2.95663023,2.97362709,2.992419004,3.011329412,3.030359507,3.049509764,3.068781137,3.073569298,3.078364849,3.08316803,3.087978601,3.092796803,3.098995447,3.10520649,3.11142993,3.117666006,3.12391448,3.130175591,3.136449099,null,null,null,null,null,null,null,null,null,1.063245893,1.065199852,1.069248438,1.073312521,1.077392101,1.08148706,1.085597634,1.086016059,1.086434722,1.086853504,1.087272406,1.087691426,1.088046193,1.088401079,1.088756084,1.089111209,1.089466453,1.089780569,1.090094686,1.090408921,1.090723157,1.091037631,1.104036212,1.117189765,1.130500078,1.14396894,1.157598257,1.174117327,1.190872073,1.207865953,1.225102425,1.242584705,1.260308743,1.278285623,1.296518922,1.315012217,1.333769321,1.348729014,1.363856554,1.379153609,1.394622445,1.410264611,1.423522234,1.43690443,1.450412631,1.46404767,1.47781086,1.493183851,1.508716702,1.524411082,1.540268779,1.556291461,1.599606156,1.644126415,1.689885736,1.730040073,1.766209722,1.803135514,1.840833187,null,null,null,null,null,null,null,null,null,null,1.007038236,1.007075191,1.007112265,1.007149339,1.007186294,1.007223368,1.007260442,1.007297397,1.007334471,1.007371545,1.007408619,1.008086801,1.008765459,1.009444594,1.010124207,1.010804176,1.011484742,1.012165666,1.012847066,1.013528943,1.014211297,1.015740275,1.017271519,1.018805146,1.020341039,1.021879196,1.023419738,1.024962544,1.026507735,1.028055191,1.029605031,1.033521891,1.037453771,1.041400552,1.045362234,1.049339056,1.053331017,1.057338238,1.061360598,1.065398335,1.069451332,1.078746438,1.088122368,1.097579598,1.107119203,1.116741657,1.126447678,1.136238217,1.146113753,1.15607512,1.166123033,1.178895473,1.191807866,1.20486176,1.218058467,1.231399775,1.244887233,1.258522511,null,null,null,null,null,null,null,null,null,1.129128814,1.129225731,1.134520411,1.139840007,1.145184517,1.150554061,1.155948758,1.158305883,1.160667777,1.163034439,1.165405989,1.167782426,1.168589354,1.169396758,1.170204759,1.171013355,1.171822429,1.196903706,1.222521663,1.248688102,1.275414467,1.302712917,1.317826271,1.333114982,1.348581195,1.36422658,1.380053639,1.396220922,1.412577629,1.429125905,1.445868015,1.462806344,1.480742455,1.498898625,1.51727736,1.5358814,1.554713607,1.571387291,1.58823967,1.605272889,1.622488737,1.639889359,1.66190958,1.684225559,1.706841111,1.724663496,1.742090106,1.767601013,1.793485641,1.819749236,1.846397519,1.873435974,1.897531152,1.921936274,1.946655273,1.971692204,1.99705112,2.022736311,2.048751593,null,null,null,null,null,null,null,null,null,null,null,null,null,null,null,null,null,null,null,null,2.400616646,2.418591738,2.436701536,2.454946995,2.473329067,2.491848707,2.510507107,2.529304981,2.548243999,2.564923048,2.577837706,2.594135046,2.610535145,2.627039194,2.643647671,2.660360813,2.677179813,2.694105148,2.711137533,2.728277683,2.745526075,2.760771513,2.776101351,2.791516542,2.807017326,2.822603941,2.83827734,2.854037762,2.869885921,2.885821581,2.90184617,2.919458628,2.937177896,2.955004692,2.97293973,2.990983725,3.009137392,3.027400732,3.045775414,3.064261198,3.082859516,3.094154358,3.105490685,3.116868258,3.128287792,3.139748812,3.151252031,3.162797451,null,null,null,null,null,null,null,null,null,null,null,null,null,null,null,null,null,null,null,null,1.286170125,1.315218091,1.344922066,1.37529695,1.406357765,1.438120127,1.493512511,1.551038504,1.610780239,1.672822952,1.730293036,1.770310879,1.811254263,1.853144526,1.896003604,1.939854026,1.973337173,2.007398129,2.042047262,2.077294111,2.113149643,2.137340069,2.161807537,2.186554909,2.21158576,2.236903191,2.257519007,2.278325081,2.299322844,2.320513964,2.341900587,2.330377579,2.318911076,2.307501078,2.296147346,2.284849167,2.280804873,2.276767492,2.272737503,2.268714428,2.264698505,2.260720491,2.256759882,2.2528162,2.248889208,2.244979382,2.241086483,2.237210035,null,null,null,null,null,null,null,null,null,null,null,null,null,null,null,null,null,null,null,null,null,null,null,null,null,null,null,null,null,null,null,null,null,null,null,null,null,null,null,null,null,null,null,null,null,null,null,null,null,null,null,null,null,null,null,null,null,null,null,null,null,null,null,null,null,null,null,null,null,null,null,null,null,null,null,null,null,null,null,null,null,null,null,null,null,null,null,null,null,null,null,null,null,null,null,null,null,null,null,null,null,null,null,null,null,null,null,null,null,null,null,null,null,null,null,null,null,null,null,null,null,null,null,null,null,null,null,null,null,null,null,null,null,null,null,null,null,null,null,null,null,null,null,null,null,null,null,null,null,null,null,null,null,null,null,null,null,null,null,null,null,null,null,null,null,null,null,null,null,null,null,null,null,null,null,null,null,null,null,null,null,null,null,null,null,null,null,null,null,null,null,null,null,null,null,null,null,null,null,null,null,null,null,null,null,null,null,null,null,null,null,null,null,null,null,null,null,null,null,null,null,null,null,null,2.366174221,2.378065825,2.390017509,2.402028799,2.414100885,2.426233292,2.407284737,2.38848424,2.36983037,2.351322174,2.332958698,2.345855474,2.358823538,2.371863365,2.384975195,2.398159504,2.440707445,2.484009981,2.52808094,2.568694592,2.599289656,2.631444216,2.66399622,2.696951151,2.730313778,2.764089108,2.800998926,2.838401556,2.876303911,2.914712191,2.953633308,2.983257055,3.013177872,3.043399096,3.073923111,3.104753256,3.136520863,3.168613434,3.201034307,3.23378706,3.266874552,3.301668644,3.337308645,3.373820305,3.411230564,3.449567318,3.488859177,3.529135704,null,null,null,null,null,null,null,null,null,null,null,null,null,null,null,null,null,null,null,null,null,null,null,null,null,null,null,null,null,null,null,null,null,null,null,null,null,null,null,null,null,null,null,null,null,null,null,null,null,null,null,null,null,null,null,null,null,null,null,null,null,null,null,null,null,null,null,null,1.323360801,1.335104823,1.346952915,1.35890615,1.370965481,1.383131862,1.402091384,1.421310663,1.440793514,1.460543275,1.480563879,1.49660635,1.512822628,1.529214621,1.545784235,1.562533259,1.579463959,1.596578002,1.613877535,1.631364465,1.649040937,1.672994137,1.697295308,1.718790174,1.737574697,1.756564498,1.775761843,1.795168877,1.814788222,1.834621906,1.854672194,1.883640885,1.913061976,1.942942619,1.973289967,2.004111528,2.035414219,2.067205906,2.099494219,2.132286787,2.165591478,2.196086645,2.227011204,2.258371115,2.290172815,2.322422504,2.355125904,2.388290167,2.421921253,2.456025839,2.490610838,2.519879341,2.549491644,2.573073864,2.593393087,2.613872528,2.634513617,2.655317783,2.676286221,2.697420359,2.71872139,2.745150328,2.771836042,2.798781395,2.82598877,2.85346055,2.881199121,2.909207582,1.300443888,1.308093429,1.31578815,1.323527932,1.331313372,1.339144588,1.350346684,1.36164248,1.373032689,1.384518266,1.396099925,1.406593204,1.417165279,1.427816868,1.438548446,1.449360728,1.461910367,1.474568605,1.487336397,1.500214815,1.513204813,1.50219655,1.491268396,1.480419874,1.469650149,1.458958745,1.463446856,1.467948794,1.472464561,1.476994276,1.481537819,1.507941961,1.534816623,1.562170148,1.590011239,1.618348598,1.638026476,1.657943845,1.678103209,1.698507786,1.716691375,1.744627118,1.773017526,1.80186975,1.83119154,1.860990524,1.896448374,1.932581782,1.969403863,2.006927252,2.045165777,2.085902929,2.127451897,2.169828176,2.213048697,2.257130146,2.298808575,2.34125638,2.384488344,2.428518534,2.473361731,2.56089592,2.621874332,2.684304714,2.748221636,2.813660383,2.880657434,2.949249983,null,null,null,null,null,null,null,null,null,null,1.87696743,1.923931479,1.972070694,2.02141428,2.071992636,2.123836517,2.196986198,2.272655487,2.350930929,2.431902409,2.51566267,2.479379177,2.443619251,2.408375263,2.373639345,2.339404583,2.301060677,2.26334548,2.226248264,2.189759016,2.15386796,2.200621605,2.248389959,2.297195435,2.347060204,2.398007393,2.43332696,2.469166994,2.505534887,2.542438507,2.573365211,2.595482588,2.617790222,2.640289307,2.662981987,2.685869694,2.684989929,2.684110165,2.683230877,2.682351828,2.681473255,2.699995041,2.718645096,2.737423897,2.756332397,2.775371313,2.780299425,2.78523612,2.790181875,2.795136213,2.800099373,2.805113554,2.810150862,2.815211535,2.820295572,2.825403214,2.830534697,2.835690022,null,null,null,null,null,null,null,null,null,null,null,null,null,null,null,null,null,null,null,null,1.589876413,1.62520957,1.661328077,1.698249221,1.729343534,1.758232951,1.824218035,1.892679334,1.96371007,2.037406445,2.113868475,2.136611938,2.159600258,2.182835817,2.206321239,2.230059385,2.269659281,2.309962273,2.350980997,2.392727852,2.435216427,2.462762833,2.490620613,2.518793821,2.547285557,2.570822239,2.578871727,2.586946964,2.595046997,2.603172779,2.611323833,2.617983341,2.624660015,2.631353617,2.638064384,2.644792318,2.655146599,2.665541649,2.675977468,2.686454058,2.696971416,2.707743406,2.718630791,2.729635239,2.740758181,2.752001524,2.763366461,2.774854898,null,null,null,null,null,null,null,null,null,null,null,null,null,null,null,null,null,null,null,null,null,null,null,null,null,null,null,null,null,null,null,null,null,null,null,null,null,null,null,null,null,null,null,null,null,null,null,null,null,null,null,null,null,null,null,null,null,null,null,null,null,null,null,null,null,null,null,null,null,null,null,null,null,null,null,null,null,null,1.190572023,1.191196918,1.191822171,1.192447662,1.193073511,1.193699718,1.194336057,1.194972754,1.195609808,1.196247101,1.196884871,1.225173235,1.254130363,1.283771753,1.314113736,1.345172882,1.347912431,1.350657463,1.353408098,1.356164336,1.358926177,1.418949723,1.481624365,1.547067404,1.61540103,1.686753035,1.748378277,1.80637598,1.866297483,1.928206682,1.992169619,2.040768385,2.090552807,2.141551733,2.193794727,2.247312069,2.288501501,2.330445766,2.373158455,2.416654348,2.460947275,2.494708776,2.528933048,2.562435389,2.586050272,2.60988307,2.630747557,2.651778936,2.67297864,2.69434762,2.715887308,2.738507032,2.761630058,2.785270452,2.809442282,2.834160805,2.85944128,2.885299683,null,null,null,null,null,null,null,null,null,null,1.071820378,1.071837306,1.071854234,1.071871281,1.071888208,1.071905136,1.071922064,1.071938992,1.071955919,1.071972847,1.071989775,1.076050282,1.080126166,1.084217548,1.088324308,1.092446685,1.096584797,1.100738406,1.10490787,1.10909307,1.113294125,1.126582146,1.140028954,1.153636098,1.167405725,1.181339622,1.195439935,1.209708571,1.224147439,1.238758564,1.253544211,1.26725316,1.281112075,1.295122504,1.309286118,1.323604703,1.33807981,1.352713227,1.367506742,1.382461905,1.397580743,1.4045012,1.41145587,1.418444991,1.425468802,1.432527304,1.439620852,1.446749449,1.453913331,1.461112738,1.468347788,1.478430629,1.48858285,1.498804688,1.509096742,1.519459486,1.529893398,1.540398955,2.481970787,2.500546217,2.519260406,2.538114786,2.55711031,2.570921898,2.582545996,2.594222784,2.605952024,2.617734671,2.629570484,2.649269342,2.669115782,2.689110756,2.709255695,2.729551315,2.749999046,2.77060008,2.791355371,2.81226635,2.833333492,2.857601881,2.882077694,2.906763315,2.931660652,2.956771135,2.982096434,3.007638693,3.03339982,3.059381723,3.085585833,3.105498791,3.125540495,3.145711184,3.166012049,3.186444044,3.207007885,3.227704287,3.248534441,3.269499063,3.290598869,3.311350822,3.332233429,3.353247881,3.374394894,3.395674944,3.417089462,3.438639164,3.460324526,3.48214674,3.50410676,3.51891613,3.533787727,3.548722506,3.563720465,3.578781605,3.593906403,3.609095335,3.624348402,3.639665604,3.655047894,3.662325144,3.669616699,3.676922798,3.684243441,3.691578627,3.698928595,3.706293106,2.935117722,2.941377163,2.947650194,2.953936338,2.960236073,2.966549397,2.971672058,2.976803541,2.981943846,2.987092972,2.992251158,3.010366201,3.028590679,3.046925545,3.065371275,3.083929062,3.102598906,3.12138176,3.140278339,3.15928936,3.178415537,3.192940235,3.207531452,3.222189188,3.236913919,3.251706123,3.2665658,3.281493425,3.296489239,3.311553478,3.326686621,3.340091944,3.353551388,3.367064714,3.380632639,3.3942554,3.407932997,3.421665668,3.435453415,3.44929719,3.463196516,3.469666958,3.476149559,3.482644081,3.489151001,3.495669842,3.502200842,3.50874424,3.515299797,3.521867752,3.528447628,3.538948298,3.549480438,3.560043573,3.570638418,3.581264734,3.59192276,3.602612495,3.613333702,3.624087095,3.634872437,3.642344713,3.649832249,3.657335281,3.664853811,3.6723876,3.679936886,3.687501907,null,1.886937737,1.894834518,1.90276432,1.910727382,1.918723702,1.923437357,1.928162694,1.932899594,1.937648177,1.942408323,1.960026145,1.977803707,1.995742679,2.013844252,2.032109976,2.050541401,2.069139957,2.087907314,2.106844664,2.125953913,2.150601625,2.175535202,2.200757742,2.226272583,2.252083302,2.278193474,2.304606199,2.331325054,2.358353853,2.385695934,2.412909746,2.440433979,2.468272209,2.496427774,2.524904728,2.553706646,2.575346947,2.595088959,2.614982367,2.635028124,2.649811745,2.664678097,2.679627895,2.694661617,2.709779739,2.724982738,2.740270853,2.755644798,2.771104813,2.78665185,2.805292606,2.824057817,2.842948914,2.861965895,2.88111043,2.900383234,2.919784546,2.939315796,2.958977461,2.978770971,2.996879816,3.015098333,3.033427954,3.051868916,3.070421934,3.089087963,3.107867002,null,null,1.110962629,1.123134851,1.13544035,1.147880673,1.161296487,1.174869061,1.188600183,1.202491879,1.21654582,1.237117648,1.25803721,1.279310584,1.300943732,1.322942734,1.341392875,1.360100389,1.379068732,1.398301601,1.417802811,1.442566752,1.467763186,1.493399858,1.519484162,1.546024203,1.571846843,1.598100901,1.62479341,1.651931763,1.679523468,1.702784419,1.722113013,1.740059614,1.758193254,1.776515961,1.792676687,1.808984399,1.825440526,1.84204638,1.858803272,1.891380429,1.924528718,1.958257914,1.992578149,2.027499914,2.059613943,2.09223628,2.125375748,2.159039736,2.193237066,2.210741758,2.228385925,2.246170998,2.264098167,2.28216815,2.294002295,2.305897713,2.317854881,2.329874039,2.341955423,2.373192549,2.404846191,2.436922312,2.469425917,2.502363205,2.535739899,2.566427469,null,null,null,null,null,null,null,null,null,null,1.038387418,1.038558722,1.038730025,1.038901329,1.039072752,1.039244175,1.039415479,1.039587021,1.039758444,1.039929986,1.040101528,1.046412349,1.052761436,1.059149027,1.06557548,1.072040796,1.078545451,1.085089564,1.091673374,1.098297119,1.104961038,1.121011019,1.137294173,1.153813839,1.170573473,1.187576532,1.204826593,1.222327232,1.240082026,1.258094668,1.276369095,1.290705442,1.305202842,1.3198632,1.334688067,1.349679589,1.364839435,1.380169511,1.395671844,1.411348343,1.427200794,1.437188387,1.447245836,1.457373619,1.467572331,1.47784245,1.488184333,1.498598695,1.509085894,1.519646406,1.530280948,1.547817588,1.565555096,1.583495855,1.60164237,1.619996786,1.638561487,1.657338858,null,null,null,null,null,null,null,null,null,null,1.13174212,1.139079094,1.146463752,1.153896213,1.161376953,1.168906093,1.176483989,1.184111118,1.19178772,1.199514031,1.207290411,1.215707421,1.224183202,1.232717872,1.241312265,1.249966383,1.25868094,1.267456293,1.276292801,1.285190821,1.294150949,1.315204859,1.336601377,1.358345866,1.380444169,1.402902007,1.425725222,1.448919654,1.472491503,1.496446729,1.520791769,1.542154074,1.563816547,1.585783243,1.608058572,1.630646825,1.653552294,1.676779509,1.700332999,1.720496058,1.738680601,1.751375198,1.764162421,1.777042985,1.790017605,1.803086996,1.816251874,1.829512715,1.842870474,1.856325746,1.869879246,1.87274313,1.875611544,1.878484249,1.881361365,1.884242892,1.887128949,1.890019298,1.04419601,1.046611547,1.049032688,1.051459432,1.053891778,1.056329846,1.059196949,1.0620718,1.0649544,1.067844868,1.070743203,1.074799418,1.078871012,1.082958102,1.087060571,1.091178536,1.096019864,1.10088253,1.105766892,1.110672832,1.115600705,1.1216501,1.127732396,1.133847713,1.139996052,1.146177888,1.154271364,1.162421942,1.170630097,1.178896308,1.187220812,1.198920012,1.210734487,1.22266531,1.234713793,1.246881008,1.26712358,1.287694812,1.308599949,1.329844594,1.351433992,1.376090407,1.401196718,1.426761031,1.452791691,1.4792974,1.493782878,1.508410096,1.523180604,1.538095832,1.553157091,1.561196089,1.56927669,1.577399135,1.58556366,1.593770504,1.599514127,1.605278492,1.6110636,1.616869569,1.6226964,1.628678679,1.63472867,1.640847325,1.647035718,1.653294802,1.659625411,1.666028738,null,null,null,null,null,null,null,null,null,null,1.080259919,1.084269166,1.088293314,1.092332244,1.096386313,1.100455284,1.113255262,1.126204014,1.139303327,1.152555108,1.165960908,1.177625656,1.189406991,1.201306343,1.213324547,1.225463152,1.256495714,1.288314223,1.320938349,1.354388714,1.388686061,1.41854167,1.449039102,1.480192184,1.512015104,1.544522166,1.59272635,1.642434955,1.69369483,1.737269402,1.7779814,1.80208075,1.826506734,1.851263881,1.876356483,1.901789308,1.916609883,1.931545973,1.946598291,1.961768031,1.977056026,1.984047413,1.991063595,1.998104453,2.005170345,2.012261152,2.014558315,2.016858339,2.019160748,2.021465778,2.02377367,2.026097775,2.028429508,2.030768394,2.033114672,2.035468578,2.037829876,2.040198565,1.445644617,1.45910418,1.472689152,1.486400604,1.50023973,1.514207602,1.52740109,1.540709615,1.554134011,1.567675352,1.58133471,1.591345906,1.601420403,1.611558795,1.621761203,1.632028341,1.642360449,1.652757883,1.66322124,1.673750758,1.684346914,1.697030425,1.709648609,1.719343185,1.729092717,1.738897562,1.748757958,1.758674264,1.768646836,1.778675914,1.788761973,1.801540017,1.814409494,1.827370882,1.840424776,1.853572011,1.866813183,1.880148888,1.893579841,1.907106757,1.920730352,1.943681359,1.966906786,1.990409493,2.014193296,2.038261175,2.062616587,2.087263107,2.112204075,2.137443066,2.162983656,2.184311152,2.205848932,2.227599144,2.249563932,2.271745205,2.294145107,2.316766024,2.339609861,2.362679005,2.385975599,2.410688162,2.435656786,2.460884333,2.486372709,2.512125254,2.538144827,2.562978029,null,null,null,null,null,null,null,null,null,null,null,null,null,null,null,null,null,null,null,null,null,null,null,null,null,null,null,null,null,null,null,null,null,null,null,null,null,null,null,null,null,null,null,null,null,null,null,null,null,null,null,null,null,null,null,null,null,null,null,null,null,null,null,null,null,null,null,null,null,null,null,null,null,null,null,null,null,null,null,null,null,null,null,null,null,null,null,null,null,null,null,null,null,null,null,null,null,null,null,null,null,null,null,null,null,null,null,null,null,null,null,null,null,null,null,null,null,null,null,null,null,null,null,null,null,null,null,null,null,null,null,null,null,null,null,null,1.600823283,1.602663398,1.60450542,1.606349707,1.60819602,1.610044479,1.615920782,1.621818542,1.627737761,1.633678675,1.639641166,1.646567464,1.653522849,1.660507798,1.667522192,1.67456615,1.664423108,1.654341459,1.644320965,1.634361148,1.624461651,1.662910342,1.702269077,1.734273314,1.765123129,1.796521544,1.826508522,1.85699594,1.887992263,1.919505954,1.951545715,1.980352998,2.009585619,2.039249659,2.069351673,2.099897861,2.129098654,2.158705473,2.188724041,2.21916008,2.250019312,2.270538807,2.291245461,2.312140942,2.333227158,2.354505301,2.368276119,2.382127285,2.396059752,2.410073519,2.424169064,2.448333025,2.472737551,2.497385502,2.522279263,2.547420979,2.541922569,2.536435843,2.530961037,2.525498152,2.520046949,2.545922041,2.568109274,2.585832596,2.603678465,2.621647358,2.639740229,2.657958031,null,null,null,null,null,null,null,null,null,null,null,null,null,null,null,null,null,null,null,null,null,null,null,null,null,null,null,null,null,null,null,null,null,null,null,null,null,null,null,null,null,null,null,null,null,null,null,null,null,null,null,null,null,null,null,null,null,null,null,null,null,null,null,null,null,null,null,null,null,null,null,null,null,null,null,null,null,null,null,null,null,null,null,null,null,null,null,null,null,null,null,null,null,null,null,null,null,null,null,null,null,null,null,null,null,null,null,null,null,null,null,null,null,null,null,null,null,null,null,null,null,null,null,null,null,null,null,null,null,null,null,null,null,null,null,null,1.523304701,1.548522353,1.574157476,1.600217104,1.626708031,1.653637528,1.683791399,1.713178873,1.736672759,1.760488749,1.784631371,1.802437425,1.8204211,1.838584185,1.856928587,1.875455976,1.894168258,1.913067222,1.932154775,1.951432705,1.970903039,1.985480547,2.000165939,2.014959812,2.029863358,2.044877052,2.060001612,2.075238228,2.090587378,2.106050253,2.121627331,2.139385462,2.157291889,2.175348282,2.193555832,2.21191597,2.230429649,2.249098063,2.267923117,2.286905527,2.306046724,2.329377174,2.35294342,2.376748085,2.400793552,2.425082445,2.449617147,2.474399805,2.499433279,2.524719954,2.55026269,2.569844723,2.586360693,2.602983236,2.619712353,2.636548996,2.653493881,2.670547724,2.687711,2.704984903,2.722369432,2.742017269,2.761806965,2.781739473,2.801815748,2.822036982,2.842404366,2.862918377,null,null,null,null,null,null,null,null,null,null,null,null,null,null,null,null,null,null,null,null,null,null,null,null,null,null,null,null,null,null,null,null,null,null,null,null,null,null,null,null,3.114391804,3.165006638,3.216443539,3.268716812,3.321839333,3.375825405,3.414501905,3.453621149,3.493188858,3.533209801,3.573689222,3.582052469,3.590435266,3.598837614,3.60725975,3.615701437,3.619832277,3.623967886,3.628108501,3.632253408,3.636403322,3.64057374,3.64475441,3.648944855,3.65314579,3.657356977,3.661578178,3.665810108,2.426997185,2.469304085,2.512348175,2.556143045,2.587325811,2.617605448,2.61976862,2.62193346,2.624100208,2.626268625,2.62843895,2.655714035,2.683272123,2.711116076,2.739248991,2.767673969,2.796393871,2.825411558,2.854730606,2.884353876,2.914284468,2.939688444,2.965313673,2.991162539,3.017236471,3.043537855,3.070068359,3.09683013,3.123825312,3.151055813,3.17852354,3.202843189,3.227349043,3.252042294,3.276924372,3.301996708,3.327261209,3.35271883,3.378371477,3.404220104,3.430266619,3.443635225,3.457055569,3.470528126,3.484053373,3.49763155,3.511262178,3.524946213,3.538683653,3.552474499,3.566318989,3.574926376,3.583554506,3.592203379,3.600873232,3.609564066,3.618275642,3.627008438,3.635762215,3.64453721,3.653333187,3.655776262,3.65822053,3.660666704,3.663114548,3.66556406,3.668015003,3.670467615,null,null,null,null,null,null,null,null,null,null,null,null,null,null,null,null,null,null,null,null,null,null,null,null,null,null,null,null,null,null,null,null,null,null,null,null,null,null,null,null,null,null,null,null,null,null,null,null,null,null,null,null,null,null,null,null,null,null,null,null,null,null,null,null,null,null,null,null,null,null,null,null,null,null,null,null,null,null,null,null,null,null,null,null,null,null,null,null,null,null,null,null,null,null,null,null,null,null,null,null,null,null,null,null,null,null,null,null,null,null,null,null,null,null,null,null,null,null,null,null,null,null,null,null,null,null,null,null,null,null,null,null,null,null,null,null,2.842176199,2.76105547,2.682250023,2.605693817,2.517530441,2.411547661,2.443898201,2.476682901,2.509907246,2.543577433,2.571896791,2.589850664,2.607929945,2.626135349,2.644467831,2.662928343,2.681517601,2.700236797,2.719086409,2.738067865,2.757181644,2.775222301,2.793380976,2.811658382,2.830055475,2.848572731,2.867211342,2.885971785,2.904855251,2.92386198,2.942993164,2.958743095,2.97457695,2.990495682,3.006499529,3.022589207,3.038764954,3.055027246,3.071376324,3.087813139,3.104337931,3.12348175,3.142743587,3.162124395,3.181624651,3.201244831,3.220986605,3.240849733,3.260835648,3.280944347,3.301177502,3.314718723,3.328315735,3.341968536,3.355677128,3.369441986,3.383263588,3.397141695,3.411076784,3.425069094,3.439118624,3.45655489,3.47407937,3.49169302,3.509395599,3.527188301,3.545071125,3.56304431,null,1.37953043,1.379714489,1.379898429,1.380082369,1.380266428,1.380366325,1.380466104,1.380565882,1.38066566,1.380765557,1.388776302,1.396833539,1.404937506,1.41308856,1.421286821,1.437371254,1.453637719,1.470088243,1.486724973,1.503550053,1.523278594,1.543265939,1.563515544,1.584030867,1.604815483,1.63173604,1.659108281,1.686939716,1.713738203,1.735361934,1.757416129,1.779750705,1.802369118,1.825274944,1.84847188,1.869475245,1.890717387,1.912200809,1.93392837,1.955902815,1.979114294,2.002601147,2.026366949,2.050414562,2.074747562,2.08924818,2.103850126,2.118554115,2.133360863,2.148271084,2.177704096,2.207540274,2.237785339,2.268444777,2.299524069,2.328669548,2.358184338,2.388073206,2.41834116,2.448992491,2.4963727,2.54466939,2.582768917,2.61630559,2.650277376,2.684690714,2.71955061,null,null,null,null,null,null,null,null,null,null,1.137280583,1.140638232,1.144005775,1.147383332,1.150770783,1.154168248,1.157575846,1.160993338,1.164421082,1.167858839,1.171306729,1.179180861,1.187107921,1.195088148,1.203122139,1.211210132,1.219352484,1.227549553,1.235801816,1.244109511,1.252472997,1.276362181,1.300706983,1.325516224,1.350798607,1.376563311,1.402819276,1.429576159,1.456843257,1.484630585,1.512947917,1.551546216,1.591129184,1.631722093,1.673350573,1.714343071,1.747206092,1.780699015,1.814833999,1.849623203,1.885079503,1.900014639,1.915068269,1.930240989,1.94553411,1.960948229,1.976484537,1.992143989,2.007927418,2.023835897,2.039870501,2.075508595,2.111769199,2.148663521,2.186202288,2.224396706,2.263258696,2.302799463,1.502681613,1.515230775,1.527884603,1.540644169,1.553510308,1.566483855,1.585570574,1.60488987,1.624444604,1.644237518,1.664271712,1.677158356,1.690144777,1.703231812,1.714628458,1.724625945,1.734681726,1.744796157,1.754969597,1.765202284,1.775494576,1.794371843,1.81344986,1.832730651,1.852216482,1.871909618,1.891811967,1.911926031,1.932253838,1.95279789,1.973560214,1.996592402,2.019893408,2.043466091,2.067314148,2.091440439,2.115848303,2.140541077,2.16552186,2.19079423,2.216361523,2.239013672,2.261897087,2.285014391,2.308368206,2.33196044,2.355793953,2.37987113,2.404194117,2.428765774,2.453588724,2.484276533,2.515348196,2.546808481,2.572543621,2.594162464,2.615962982,2.637946844,2.660115242,2.682470083,2.70501256,2.71133709,2.71767664,2.724030972,2.730400085,2.736783981,2.743182898,2.749596596,1.078457355,1.080450058,1.082446456,1.084446549,1.086450338,1.088457823,1.09313786,1.097838163,1.102558613,1.107299328,1.112060428,1.118068337,1.124108672,1.13018167,1.136287332,1.142426133,1.148598075,1.154803276,1.161042094,1.167314649,1.173620939,1.183831334,1.194130659,1.20451951,1.214998722,1.225569129,1.236231446,1.246986508,1.257835269,1.268778324,1.279816628,1.315551639,1.352284431,1.390042901,1.428855658,1.468752146,1.509762645,1.551918268,1.595250845,1.639793396,1.685579658,1.716922879,1.742876768,1.769222856,1.795967221,1.823115945,1.850674987,1.878650665,1.907049179,1.935877085,1.9651407,2.001130819,2.037780046,2.075100422,2.113104343,2.151804447,2.191213131,2.231343746,2.272209167,2.313822985,2.356199026,2.395590305,2.435640097,2.476359606,2.5177598,2.559852123,2.588629961,2.617687941,1.871699572,1.871073842,1.870448351,1.869823098,1.869198084,1.868573189,1.882970691,1.897479177,1.912099361,1.926832318,1.941678643,1.952596903,1.963576436,1.97461772,1.985721231,1.996887088,2.00811553,2.019407511,2.030762672,2.04218173,2.053665161,2.068417549,2.083275795,2.098241091,2.113313675,2.128494501,2.143784523,2.159184217,2.174694538,2.190316439,2.206050396,2.227530479,2.249219418,2.271119595,2.293233156,2.315562248,2.338108301,2.360873938,2.383861542,2.407072783,2.430510044,2.453719139,2.477149487,2.500803947,2.524683952,2.548792124,2.568826914,2.58531642,2.601911545,2.618613243,2.635422468,2.6517241,2.668126583,2.684630632,2.701236725,2.717945814,2.734758139,2.751674175,2.768695116,2.785821199,2.803053141,2.82275176,2.842588425,2.862564802,2.88268137,2.902939558,2.923339844,2.943883657,null,null,null,null,null,null,null,null,null,null,null,null,null,null,null,null,null,null,null,null,null,null,null,null,null,null,null,null,null,null,null,null,null,null,null,null,null,null,null,null,2.798409939,2.843561411,2.88944149,2.936061382,2.983433962,3.031570673,3.083890438,3.137112856,3.191254139,3.246329546,3.302355528,3.3172369,3.332185507,3.347201347,3.362284899,3.377436399,3.396261215,3.415191174,3.434226513,3.453367949,3.472615957,3.492361784,3.51235342,3.532593727,3.553087234,3.573837519,3.59484911,3.616125584,null,null,null,null,null,null,null,null,null,null,1.015876055,1.015908957,1.015941858,1.01597476,1.016007781,1.016040683,1.016073585,1.016106486,1.016139507,1.016172409,1.016205311,1.017558575,1.018913507,1.020270348,1.021628976,1.022989392,1.024351716,1.025715709,1.027081609,1.028449297,1.029818773,1.034170032,1.038539529,1.042927623,1.047334194,1.051759362,1.056203365,1.060665965,1.065147519,1.069648027,1.07416749,1.085184574,1.096314669,1.107558966,1.118918538,1.130394578,1.141988397,1.153701067,1.1655339,1.177488089,1.189564943,1.198455572,1.20741272,1.216436863,1.225528359,1.234687805,1.243915796,1.25321269,1.262579083,1.272015452,1.281522393,1.299747348,1.318231583,1.336978674,1.355992317,1.375276327,1.394834638,1.414671063,2.119247437,2.12714982,2.13508153,2.143043041,2.151034117,2.159054756,2.166758776,2.174490213,2.182249308,2.190036058,2.197850704,2.218259096,2.238857031,2.259646416,2.280628681,2.301805735,2.323179722,2.344751835,2.366524458,2.388499022,2.41067791,2.446342707,2.482534885,2.519262791,2.556534052,2.58307457,2.608741999,2.634664297,2.660844326,2.68728447,2.713987112,2.73764205,2.761502981,2.78557229,2.809850931,2.834341288,2.859045267,2.883964539,2.909101009,2.934456348,2.96003294,2.976764202,2.993590355,3.010511398,3.027528048,3.044640779,3.061850548,3.079157591,3.096562386,3.114065409,3.131667376,3.151494026,3.171446562,3.191524982,3.21173048,3.232064009,3.252526522,3.273118258,3.293840408,3.314693928,3.335679293,3.354023218,3.372467756,3.391013861,3.409662008,3.428412676,3.44726634,3.466223955,null,null,null,null,null,null,null,null,null,null,1.536492467,1.553309917,1.570311427,1.587499022,1.604874849,1.622440696,1.640198946,1.658151507,1.676300526,1.694648266,1.71220088,1.733141184,1.754337549,1.775793195,1.79751122,1.819494843,1.841747284,1.864271998,1.887072086,1.910151005,1.933512211,1.95838356,1.983574867,2.009089947,2.034933567,2.061109304,2.087622166,2.114475727,2.141674757,2.169223785,2.197127104,2.218671322,2.240427017,2.262395859,2.284580231,2.30698204,2.329603672,2.352447033,2.375514269,2.398807764,2.422329664,2.442860126,2.463564634,2.484444618,2.50550127,2.526736736,2.54815197,2.566553354,2.581178665,2.595887184,2.610679388,2.620628595,2.630615473,2.640640259,2.65070343,2.660804987,2.670945168,2.681123972,2.183597565,2.191972017,2.200378656,2.208817482,2.217288733,2.225792408,2.203723192,2.181872845,2.16023922,2.138820171,2.117613316,2.136182785,2.154915094,2.173811674,2.192873955,2.212103605,2.231501579,2.251069784,2.27080965,2.290722609,2.310810089,2.338173866,2.365861654,2.393877268,2.422224522,2.450907707,2.479930401,2.509296656,2.539011002,2.566101551,2.586520672,2.607220411,2.628085852,2.649118185,2.67031908,2.691689253,2.713230848,2.73494482,2.756832361,2.77889514,2.801134348,2.810061455,2.819016933,2.828001022,2.837013483,2.846054792,2.855125189,2.864224195,2.873352289,2.88250947,2.891695738,2.907761812,2.923917294,2.94016242,2.956497908,2.972923994,2.989441156,3.006050348,3.022751808,3.039546251,3.056433678,3.075263262,3.094208956,3.113271475,3.132451296,3.151749134,3.171165943,3.190702438,null,null,null,null,null,null,null,null,null,null,1.072033048,1.076209426,1.080402255,1.084611297,1.088836789,1.093078732,1.103046775,1.113105774,1.123256564,1.133499861,1.143836617,1.155475736,1.167233348,1.179110527,1.191108584,1.203228712,1.235135198,1.267887831,1.301509023,1.336021662,1.37144959,1.404826403,1.439015627,1.474036932,1.509910583,1.546657205,1.591485858,1.637613893,1.685078859,1.727788091,1.765400767,1.797724485,1.830639958,1.864158154,1.898289919,1.933046699,1.969570994,2.006785393,2.044702768,2.083336592,2.122700691,2.15596962,2.189760208,2.224080324,2.258938313,2.294342518,2.324808359,2.355678558,2.386958838,2.418654203,2.450770617,2.510474682,2.567820549,2.609771252,2.652407408,2.695739985,2.739780664,2.784540892,2.434504271,2.444693804,2.454926014,2.465200901,2.475518942,2.485880136,2.49860096,2.511386871,2.524238586,2.537155628,2.55013895,2.571570158,2.589919567,2.608399868,2.627012014,2.64575696,2.664635658,2.683649302,2.702798367,2.722084284,2.74150753,2.763754129,2.78618145,2.808790445,2.831583261,2.854560852,2.877724648,2.901076794,2.924618244,2.948350906,2.972275972,2.994034052,3.015951633,3.038029432,3.060268641,3.082670927,3.105237246,3.12796855,3.15086627,3.173931837,3.197166204,3.227114201,3.257342815,3.287854671,3.318652153,3.349738359,3.381115437,3.412786484,3.444754601,3.477021933,3.509591341,3.528481245,3.547472715,3.566566467,3.585762978,3.605062723,3.624466658,3.643974781,3.663587809,3.683306456,3.703131437,3.7108953,3.718675613,3.726472139,3.734284878,3.742114305,3.749960184,3.757822275,null,null,null,null,null,null,null,null,null,null,null,null,null,null,null,null,null,null,null,null,null,null,null,null,null,null,null,null,null,null,null,null,null,null,null,null,null,null,null,null,null,null,null,null,null,null,null,null,null,null,null,null,null,null,null,null,null,null,null,null,null,null,null,null,null,null,null,null,null,null,null,null,null,1.092463851,1.093910933,1.095359921,1.096810818,1.098263741,1.099718571,1.113522172,1.127498984,1.141651273,1.155981183,1.17049098,1.190120578,1.210079551,1.230373144,1.251007199,1.2719872,1.292719722,1.313790321,1.335204244,1.356967211,1.379084826,1.404536724,1.430458426,1.456858516,1.483745813,1.51112926,1.54982698,1.589515805,1.63022089,1.67196846,1.713397145,1.744399071,1.775961757,1.808095694,1.840810895,1.87411809,1.902661681,1.93163991,1.96105969,1.990927458,2.02125001,2.040380001,2.059690952,2.079184771,2.098862886,2.118727446,2.130792618,2.142926216,2.155129194,2.167401552,2.179743528,2.195398808,2.21116662,2.227047443,2.243042469,2.259152174,2.287447214,2.316096544,2.345104694,2.374476433,2.404215574,2.434327602,2.46481657,null,null,null,null,null,null,null,null,null,null,null,null,null,null,null,null,null,null,null,null,null,null,null,null,null,null,null,null,null,null,null,null,null,null,null,null,null,null,null,null,null,null,null,null,null,null,null,null,null,null,null,null,null,null,null,null,null,null,null,null,null,null,null,null,null,null,null,null,null,null,null,null,null,null,null,null,null,null,1.051955938,1.052300096,1.052644372,1.052988768,1.053333282,1.053677917,1.054758549,1.055840373,1.056923151,1.058007121,1.059092283,1.060117006,1.061142802,1.062169552,1.063197255,1.064226031,1.07026279,1.076333761,1.082439303,1.088579297,1.094754219,1.102729797,1.110763431,1.118855596,1.12700665,1.13521719,1.144090295,1.153032899,1.16204536,1.171128154,1.180282116,1.19813168,1.216251135,1.234644771,1.253316402,1.27227056,1.278727055,1.285216212,1.291738391,1.298293591,1.304882169,1.318159223,1.331571341,1.345119953,1.358806372,1.372632146,1.389354229,1.406280041,1.423412085,1.440752864,1.458304763,1.478025556,1.498729587,1.52047646,1.543330312,1.567360044,1.592639685,1.619249225,null,null,null,null,null,null,null,null,null,null,null,null,null,null,null,null,null,null,null,null,null,null,null,null,null,null,null,null,null,null,null,null,null,null,null,null,null,null,null,null,null,null,null,null,null,null,null,null,null,null,null,null,null,null,null,null,null,null,null,null,null,null,null,null,null,null,null,null,null,null,null,null,null,null,null,null,null,null,null,null,null,null,null,null,null,null,null,null,null,null,null,null,null,null,null,null,null,null,null,null,null,null,null,null,null,null,null,null,null,null,null,null,null,null,null,null,null,null,null,null,null,null,null,null,null,null,null,null,null,null,null,null,null,null,null,null,null,1.530985475,1.571549773,1.613188744,1.655930996,1.699805737,1.751953483,1.803263187,1.856075406,1.910434484,1.966385484,1.978132963,1.989950657,2.001838923,2.013798237,2.025828838,2.037931442,2.050106525,2.062354088,2.074674845,2.087069273,2.106049776,2.125202894,2.144530296,2.164033413,2.183713913,2.203573227,2.223613262,2.243835449,2.264241695,2.284833431,2.308234215,2.331874847,2.355757236,2.379884481,2.404258728,2.428882599,2.453758717,2.478889465,2.504277706,2.529926062,2.557112932,2.576524973,2.595133305,2.613876104,2.632754564,2.651769161,2.670921087,2.690211296,2.70964098,2.729210854,2.749764442,2.770472527,2.791336775,2.812358141,2.833537817,2.854876995,2.876376629,2.898038626,2.919863701,2.941852808,2.962745428,2.983786583,3.004976749,3.026317596,3.047810316,3.069455385,3.091254234,null,null,null,null,null,null,null,null,null,null,null,null,null,null,null,null,null,null,null,null,null,null,null,null,null,null,null,null,null,null,null,null,null,null,null,null,null,null,null,null,null,null,null,null,null,null,null,null,null,null,null,null,null,null,null,null,null,null,null,null,null,null,null,null,null,null,null,null,1.178068995,1.179066181,1.180064201,1.181063056,1.182062745,1.183063388,1.182812333,1.182561517,1.182310581,1.182059765,1.181809068,1.182670951,1.183533549,1.184396744,1.185260534,1.186124921,1.188632369,1.191145062,1.19366312,1.196186423,1.198715091,1.204928756,1.211174488,1.217452765,1.223763466,1.23010695,1.257236004,1.284963369,1.313302279,1.342266083,1.37186873,1.385056734,1.398371577,1.411814451,1.425386548,1.439088941,1.452094078,1.465216756,1.478458047,1.491818905,1.505300522,1.519857049,1.534554243,1.549393535,1.564376473,1.579504251,1.59361434,1.607850432,1.62221384,1.636705518,1.651326537,1.644117355,1.636939645,1.629793286,1.622678041,1.61559391,1.647152305,1.67932713,1.711397648,1.736534595,1.762040734,1.782439232,1.803074002,1.823947549,1.845062852,1.866422534,1.888029575,1.909886599,null,null,null,null,null,null,null,null,null,null,1.78496623,1.796324015,1.807753921,1.819256663,1.830832601,1.84248209,1.857611656,1.872865438,1.88824451,1.903749824,1.919382334,1.939988971,1.96081686,1.981868386,2.003145933,2.024651766,2.068368673,2.11302948,2.158654451,2.205264807,2.252881527,2.294554472,2.336998224,2.380227327,2.424255848,2.469098806,2.514928102,2.561076403,2.592984915,2.625290871,2.657999516,2.664968014,2.671955109,2.678960323,2.685983896,2.693025827,2.694955826,2.696887255,2.698820114,2.700754166,2.702689648,2.773824692,2.84683156,2.921760321,2.998661041,3.077585936,3.090467453,3.103402853,3.116392374,3.129436255,3.142534733,3.155913353,3.169425249,3.18307209,3.196855545,3.210777521,3.224839449,3.239043474,1.240260601,1.242161989,1.244066238,1.245973349,1.247883558,1.24979651,1.251035929,1.25227654,1.253518343,1.254761457,1.256005764,1.275664806,1.295631409,1.315910578,1.336507201,1.357426167,1.378672481,1.400251389,1.422168136,1.444427848,1.467036009,1.481350183,1.495803952,1.510398865,1.525136113,1.540017128,1.555043459,1.570216298,1.585537195,1.601007581,1.616629004,1.632923245,1.649381757,1.666006088,1.682797909,1.699759126,1.714983225,1.727995753,1.741107106,1.75431788,1.767628908,1.778764367,1.789969802,1.801246047,1.812593222,1.824011922,1.835502505,1.847065568,1.858701468,1.870410562,1.882193446,1.899813294,1.91759789,1.93554914,1.953668475,1.971957326,1.990417361,2.009050369,2.027857542,2.046840906,2.066002131,2.104307413,2.143322706,2.1830616,2.223537445,2.264763355,2.306754112,2.349523067,null,null,null,null,null,null,null,null,null,null,null,null,null,null,null,null,null,null,null,null,null,null,null,null,null,null,null,null,null,null,null,null,null,null,null,null,null,null,null,null,2.680584192,2.703680754,2.726976156,2.750472546,2.774171352,2.798074245,2.820119858,2.842339516,2.864733934,2.887305021,2.91005373,2.937701941,2.965612888,2.993788958,3.022232771,3.050946951,3.085830212,3.121112585,3.156798363,3.192892075,3.229398489,3.268047333,3.307761908,3.348578691,3.390536547,3.433675289,3.478036404,3.523664236,null,null,null,null,null,null,null,null,null,null,1.14414537,1.145784378,1.147425771,1.149069548,1.15071559,1.152364135,1.154014945,1.15566802,1.157323599,1.158981562,1.160641789,1.165189743,1.169755459,1.174339175,1.178940654,1.183560252,1.18819797,1.192853928,1.197528005,1.20222044,1.206931353,1.220424891,1.234069228,1.247866154,1.261817336,1.275924444,1.290189266,1.30461359,1.319199204,1.333947897,1.348861456,1.363873959,1.379053473,1.394402027,1.409921288,1.425613403,1.44148016,1.457523465,1.473745227,1.49014771,1.506732702,1.517064571,1.527467251,1.537941337,1.548487186,1.559105396,1.569796324,1.580560684,1.591398835,1.602311254,1.613298416,1.625331879,1.637644172,1.650243282,1.663137197,1.676334739,1.68984437,1.703675389,null,null,null,null,null,null,null,null,null,null,null,null,null,null,null,null,null,null,null,null,2.436416149,2.460979223,2.485789776,2.51085043,2.536163807,2.561160326,2.578515768,2.595989227,2.613580704,2.631291628,2.649122477,2.664178371,2.679319859,2.694547415,2.709861517,2.725262403,2.740751028,2.756327629,2.771992922,2.787747145,2.803590775,2.819054842,2.834604263,2.850239515,2.865960836,2.881768942,2.897664309,2.913647413,2.929718494,2.945878029,2.962127209,2.991988659,3.02215147,3.052618265,3.083392143,3.114476204,3.145873785,3.177587986,3.209621668,3.241978407,3.274661064,3.290193796,3.305800438,3.321480989,3.337235928,3.353065491,3.368970156,3.384950399,null,null,null,null,null,null,null,null,null,null,1.158581376,1.176857114,1.19542098,1.214277864,1.233432055,1.252888441,1.272651792,1.292726755,1.313118458,1.333831906,1.354871988,1.370381713,1.386069059,1.401935935,1.417984366,1.434216619,1.450634718,1.467240691,1.484036684,1.501025081,1.518207908,1.557517529,1.597845078,1.639216781,1.681659579,1.72123611,1.754721403,1.788858056,1.823658824,1.859136701,1.895304561,1.922513962,1.950114012,1.978110194,2.00650835,2.035314083,2.06453371,2.094172478,2.124236822,2.154732943,2.185666561,2.20774579,2.230047941,2.252575397,2.275330544,2.298315287,2.321532726,2.344984293,2.368672848,2.392600536,2.41677022,2.402131081,2.387580633,2.373118162,2.358743429,2.344455719,2.330254555,2.31613946,1.130546331,1.132678747,1.134815216,1.136955738,1.139100313,1.141248941,1.139782548,1.138318181,1.136855602,1.135394931,1.133936167,1.140293479,1.146686435,1.153115273,1.159580112,1.16608119,1.168996572,1.171919346,1.174849272,1.177786708,1.180731297,1.189743876,1.19882524,1.207975864,1.217196345,1.226487279,1.237961531,1.24954319,1.261233211,1.273032665,1.284942389,1.302978396,1.321267605,1.339813471,1.358619809,1.377689958,1.39887464,1.420385122,1.442226291,1.464403391,1.48692143,1.509102702,1.5316149,1.55446291,1.577651739,1.601186395,1.640303254,1.680375576,1.718397021,1.749944568,1.782071352,1.796781659,1.811613441,1.82656765,1.841645241,1.856847286,1.878200769,1.899799585,1.921646833,1.943745375,1.96609807,1.987891555,2.009926558,2.03220582,2.054732084,2.077507973,2.100536346,2.123820066,2.15882659,2.16804409,2.177300692,2.186597109,2.195933104,2.205308914,2.217155457,2.229065418,2.241039515,2.253077984,2.265181065,2.278236628,2.291367531,2.304574251,2.317857027,2.331216335,2.344652653,2.358166456,2.371757984,2.385427952,2.399176836,2.418650389,2.438282013,2.458073139,2.47802496,2.498138666,2.518415451,2.538856983,2.559464455,2.573602676,2.587648153,2.601450682,2.615326643,2.629276752,2.643301249,2.65740037,2.671574831,2.685824871,2.700150967,2.714553356,2.729032755,2.741504431,2.754033327,2.766619682,2.779263258,2.791964769,2.804724216,2.817542076,2.830418587,2.843353748,2.856348038,2.873432398,2.890618801,2.907907963,2.925300598,2.942797184,2.960398436,2.978105068,2.995917559,3.013836384,3.031862736,3.048562765,3.065354586,3.082239151,3.099216461,3.11628747,3.133452415,3.150712013,null,null,null,null,null,1.052387834,1.05563879,1.058899879,1.062170982,1.065452218,1.068743587,1.072606683,1.076483727,1.080374718,1.084279895,1.088199139,1.092132568,1.096080184,1.100042105,1.104018331,1.108008981,1.117898703,1.127876759,1.137943864,1.148100734,1.158348441,1.168687463,1.179118752,1.189643264,1.200261712,1.210974813,1.229807854,1.248933792,1.268357038,1.28808248,1.308114648,1.328458428,1.349118471,1.370099902,1.391407609,1.413046718,1.43984735,1.467156291,1.494983196,1.523337841,1.552230358,1.58167088,1.61166966,1.642237544,1.673385143,1.705123544,1.743741035,1.782196045,1.82149899,1.861668825,1.902724385,1.94468534,1.987571836,2.031404018,2.076202869,2.121989489,2.162694931,2.204181433,2.246463537,2.289556742,2.333476543,2.378238916,2.423860073,null,null,null,null,null,null,null,null,null,null,null,null,null,null,null,null,null,null,null,null,1.091543198,1.102233171,1.11302793,1.123928428,1.134935617,1.146050692,1.164471865,1.183189154,1.202207327,1.221531153,1.241165638,1.263196111,1.285617471,1.308436871,1.331661463,1.355298042,1.389054656,1.423652172,1.459111214,1.495453596,1.532701135,1.573645353,1.615683436,1.658844471,1.703158617,1.738844872,1.769734621,1.801173091,1.833169937,1.865735292,1.89887917,1.929774761,1.961173058,1.993082285,2.02551055,2.058466434,2.081059456,2.103900433,2.126991987,2.150337219,2.173938513,2.18642211,2.198977232,2.211604595,2.224304438,2.237076998,2.249923229,2.262843132,1.969313622,1.978893518,1.988520026,1.998193502,2.007913828,2.017681599,2.024759531,2.031862259,2.038989782,2.04614234,2.053320169,2.066788673,2.080345154,2.093991041,2.107726097,2.121551275,2.137511253,2.153591156,2.169791937,2.18611455,2.202560186,2.222362041,2.242342234,2.262501955,2.282843113,2.303366899,2.32758832,2.352064371,2.376797915,2.401791334,2.427047729,2.45095706,2.475102186,2.499485016,2.524107933,2.54897356,2.570004225,2.587562561,2.605240822,2.623039722,2.640960455,2.65797019,2.675089598,2.692319155,2.709659815,2.727112055,2.746340275,2.765704155,2.785204649,2.804842472,2.824618816,2.847474337,2.87051487,2.893741846,2.917156458,2.940760851,2.96282053,2.985045433,3.007437229,3.029996872,3.052725792,3.076369286,3.100452423,3.124985218,3.149977922,3.175441742,3.201387644,3.227826834,2.376390934,2.381784201,2.387189627,2.39260745,2.398037434,2.403479815,2.406593561,2.409711361,2.412833214,2.41595912,2.41908884,2.434493542,2.449996233,2.465597868,2.481298685,2.4970994,2.523218632,2.54961133,2.570943117,2.589017868,2.607219219,2.635802746,2.664699793,2.69391346,2.723447561,2.753305435,2.785604239,2.818281651,2.851342916,2.884791613,2.918632984,2.937754869,2.957001925,2.976375341,2.995875359,3.015503407,3.041048527,3.066810131,3.09278965,3.118989706,3.145411491,3.161450863,3.17757225,3.193775654,3.210061789,3.226430893,3.243877888,3.261418819,3.27905488,3.29678607,3.314613342,3.325874805,3.337174177,3.348512173,3.359888792,3.371303797,3.404242754,3.437503338,3.471088886,3.505002737,3.53924799,3.575046062,3.611627579,3.649014235,3.687227964,3.726292372,3.766230583,3.807067633,1.793517709,1.805324912,1.817209721,1.82917285,1.841214776,1.853335977,1.865009069,1.876755714,1.888576388,1.900471449,1.912441492,1.92709136,1.941853642,1.956728816,1.971718192,1.986822128,2.002041817,2.01737833,2.032832146,2.048404217,2.064095736,2.085773468,2.10767889,2.129814386,2.152182341,2.174785137,2.197625637,2.220705748,2.244028091,2.26759553,2.291410685,2.316392183,2.341646194,2.367175341,2.39298296,2.419071913,2.445445299,2.47210598,2.49905777,2.526303053,2.553845406,2.576648712,2.597617865,2.618757963,2.640069723,2.66155529,2.68321538,2.705052137,2.727066278,2.74925971,2.771633625,2.793356895,2.815250397,2.837315559,2.859553576,2.881965876,2.90455389,2.92731905,2.950262547,2.973385811,2.996690273,3.01423955,3.031891584,3.049647331,3.06750679,3.085470676,3.103539944,3.12171483,null,null,null,1.772690296,1.777715206,1.782754302,1.78817904,1.793620229,1.799077988,1.804552436,1.810043454,1.827604532,1.84533608,1.863239646,1.8813169,1.899569511,1.917999268,1.936607838,1.955396891,1.974368334,1.993523717,2.007482052,2.021537781,2.035692215,2.049945831,2.064299107,2.078752756,2.093307734,2.107964754,2.122724056,2.13758707,2.158854008,2.180332184,2.20202446,2.223932266,2.246057987,2.268404245,2.290972471,2.313765287,2.33678484,2.360033512,2.380606174,2.401358128,2.42229104,2.443406343,2.464705706,2.486191034,2.507863283,2.529724598,2.551776409,2.569425106,2.567778349,2.566132545,2.564487934,2.562844515,2.561201811,2.559356213,2.55692029,2.554486752,2.552055359,2.54962635,2.557239294,2.56327486,2.568425417,2.573586226,2.578757286,2.583938837,2.58913064,null,null,null,null,1.166878939,1.175657153,1.182326913,1.189034581,1.195780158,1.20256412,1.209386587,1.221193075,1.233114958,1.245153069,1.257308841,1.269583225,1.285577536,1.301773429,1.318173409,1.334779859,1.351595521,1.370661616,1.389996767,1.409604549,1.429489017,1.449653864,1.460893631,1.472220421,1.483635187,1.495138407,1.506730795,1.548108101,1.590621591,1.634302735,1.679183364,1.721307635,1.762898803,1.805495143,1.849120617,1.893800259,1.93955946,1.997486353,2.05714345,2.118582249,2.181855917,2.247019291,2.293416739,2.340771914,2.389105082,2.438436031,2.488785744,2.528000116,2.565264702,2.592407942,2.619838715,2.647559643,2.673552752,2.699801207,2.726307392,2.753073692,2.78010273,2.793409824,2.806780577,2.820215464,2.833714724,2.847278357,2.860907078,2.874601126,2.290000677,2.322519302,2.355499744,2.388948441,2.422872066,2.457277298,2.484121084,2.511257887,2.538691282,2.564317226,2.58314395,2.604007959,2.625040054,2.64624238,2.667615891,2.689162016,2.710882187,2.732777596,2.754850149,2.777100563,2.799531221,2.81945014,2.839510441,2.859714031,2.88006115,2.90055275,2.9211905,2.941975117,2.962907553,2.983988762,3.005220175,3.022063017,3.039000273,3.056032658,3.07316041,3.090384245,3.107704401,3.125121593,3.142636776,3.160249949,3.177961826,3.194382429,3.210887671,3.227478266,3.24415493,3.260917664,3.277766705,3.294703007,3.311726809,3.328838587,3.346038818,3.360867739,3.375762701,3.390723467,3.405750513,3.420844316,3.436004639,3.451232672,3.466527939,3.481890917,3.497322083,3.507932901,3.518575907,3.529251337,3.539958954,3.550699234,3.561472178,3.572277784,null,null,null,null,null,null,null,null,null,null,null,null,null,null,null,null,null,null,null,null,null,null,null,null,null,null,null,null,null,null,null,null,null,null,null,null,null,null,null,null,2.569330454,2.612156153,2.655695915,2.699960947,2.744964123,2.790717363,2.837068796,2.884190083,2.932094097,2.980793715,3.030302286,3.082714796,3.13603425,3.190275669,3.245455503,3.301589489,3.287169695,3.272813082,3.258518934,3.244287491,3.230117798,3.216243505,3.202505112,3.188901186,3.175429821,3.162089586,3.14887929,3.135796547,1.143694043,1.149266481,1.15486598,1.160492897,1.166147113,1.171828985,1.176810384,1.181813002,1.186836958,1.191882133,1.196948886,1.205653191,1.214420795,1.223252296,1.232147813,1.241108179,1.250133634,1.259224653,1.268381953,1.277605653,1.286896586,1.304250002,1.321837544,1.339662194,1.35772717,1.37603581,1.394591331,1.413396955,1.432456255,1.451772571,1.471349359,1.493256092,1.515489101,1.538053036,1.560952902,1.584193707,1.607780576,1.631718636,1.656013131,1.680669308,1.70569253,1.728196621,1.750123143,1.772327662,1.794813991,1.817585588,1.840646029,1.863999128,1.887648463,1.911597967,1.935851216,1.957712531,1.979820728,2.002178669,2.024788857,2.047654629,2.070778608,2.094163656,2.117812634,2.141728878,2.165915012,2.185294867,2.204848051,2.224575996,2.24448061,2.264563322,2.284825802,2.30526948,null,null,null,null,null,null,null,null,null,null,null,null,null,null,null,null,null,null,null,null,null,null,null,null,null,null,null,null,null,null,null,null,null,null,null,null,null,null,null,null,2.659528017,2.678925991,2.698465586,2.718147755,2.737973213,2.75794363,2.781903505,2.806071281,2.830449104,2.855038881,2.879842281,2.89928484,2.918858767,2.938565254,2.958404303,2.978377581,3.013251066,3.048532724,3.084227562,3.120340347,3.156876087,3.195667028,3.235574961,3.276640177,3.318904638,3.36241293,3.407210588,3.453345776,null,null,null,null,null,null,null,null,null,null,null,null,null,null,null,null,null,null,null,null,1.180511594,1.193359613,1.206347346,1.219476461,1.232748508,1.246165037,1.262043715,1.278124571,1.294410348,1.310903788,1.327607274,1.342157722,1.356867552,1.371738672,1.386772752,1.401971698,1.408187866,1.414431572,1.420703053,1.427002311,1.433329463,1.443412066,1.453565598,1.463790536,1.474087477,1.484456778,1.495499492,1.50662446,1.517832041,1.529123187,1.540498137,1.552787423,1.565174699,1.577660799,1.590246558,1.602932692,1.627782941,1.653018355,1.678645015,1.704669118,1.725667357,1.747694492,1.770691395,1.794710159,1.819806457,1.846039653,1.873473048,1.902174592,null,null,null,null,null,null,null,null,null,null,null,null,null,null,null,null,null,null,null,null,null,null,null,null,null,null,null,null,null,null,null,null,null,null,null,null,null,null,null,null,null,null,null,null,null,null,null,null,null,null,null,null,null,null,null,null,null,null,null,null,null,null,null,null,null,null,null,null,null,null,null,1.826601982,1.84198463,1.857496738,1.806920886,1.757722259,1.709863186,1.648594856,1.589307308,1.632086873,1.676018,1.718174696,1.752919197,1.788366318,1.824530244,1.861425519,1.899066687,1.937469244,1.976648331,2.014972687,2.054040194,2.093865156,2.134462357,2.175846577,2.218033075,2.261037588,2.304875851,2.349564314,2.395118952,2.44942379,2.504959822,2.561175346,2.600128412,2.639673948,2.679821014,2.720578432,2.761955976,2.803962708,2.8466084,2.879410267,2.912590265,2.946152449,2.980101347,3.014441252,3.04917717,3.084313393,3.119854212,3.155804634,3.192169428,3.218729019,3.245509624,3.272512913,3.29974103,3.327195644,3.354878664,3.382791996,3.410937548,3.439317226,3.467933178,3.49846077,3.529577255,3.561296463,3.593633175,3.626602411,3.660219908,3.694501162,null,null,null,null,null,null,null,null,null,null,null,null,null,null,null,null,null,null,null,null,1.475311399,1.480122685,1.484949708,1.489792466,1.49465096,1.499525309,1.550978184,1.604196548,1.65924108,1.714443207,1.758598566,1.79393363,1.829978585,1.866747856,1.904255986,1.942517638,1.951903343,1.961334467,1.970811248,1.980333686,1.989902139,1.997148991,2.004422188,2.011722088,2.019048452,2.02640152,2.042160749,2.058042765,2.074048281,2.090178013,2.106433392,2.102227688,2.098030329,2.093841314,2.089660645,2.085488319,2.097772121,2.110128403,2.122557402,2.135059834,2.147635698,2.160651684,2.173871994,2.18730092,2.200942039,2.214799881,2.228878736,2.243182898,null,null,null,null,null,null,null,null,null,null,null,null,null,null,null,null,null,null,null,null,1.205937147,1.216405511,1.226964831,1.237615705,1.248359084,1.259195805,1.273338556,1.287640214,1.302102566,1.316727161,1.331516266,1.34512341,1.358869672,1.372756481,1.38678515,1.400957227,1.422651529,1.444681764,1.467053175,1.489771008,1.512840629,1.532318711,1.552047491,1.572030306,1.592270494,1.612771153,1.627397656,1.64215672,1.657049656,1.672077656,1.687242031,1.701891541,1.714815378,1.726025701,1.737309337,1.748666763,1.760949612,1.773318887,1.785774946,1.798318505,1.81095016,1.824285388,1.837933064,1.851901889,1.86620152,1.880841255,1.895831227,1.911181569,null,null,null,null,null,null,null,null,null,null,null,null,null,null,null,null,null,null,null,null,null,null,null,null,null,null,null,null,null,null,null,null,null,null,null,null,null,null,null,null,null,null,null,null,null,null,null,null,null,null,null,null,null,null,null,null,null,null,null,null,null,null,null,null,null,null,null,null,null,null,null,null,null,null,null,null,null,null,null,null,null,null,1.103320241,1.109320521,1.11580646,1.122330308,1.128892183,1.135492563,1.142131448,1.147728682,1.153353333,1.159005642,1.164685607,1.170393348,1.181826591,1.193371534,1.205029249,1.216800928,1.228687525,1.244952679,1.261433125,1.278131843,1.295051455,1.312195182,1.332613707,1.353349924,1.374408841,1.395795465,1.41751492,1.436322689,1.455379963,1.474690199,1.494256496,1.514082551,1.528951645,1.54396677,1.559129357,1.574440837,1.589902639,1.603378773,1.616969109,1.630674601,1.644496322,1.658435106,1.672445178,1.686573505,1.70082128,1.713701606,1.724601984,1.736109018,1.747879863,1.759922147,1.772243261,1.784851074,1.797753811,1.810959816,null,null,null,null,null,null,null,null,null,null,null,null,null,null,null,null,null,null,null,null,null,null,null,null,null,null,null,null,null,null,null,null,null,null,null,null,null,null,null,null,null,null,null,null,null,null,null,null,null,null,null,null,null,null,null,null,null,null,null,null,null,null,null,null,null,null,null,null,1.483648419,1.493015647,1.502442002,1.511927843,1.521473646,1.53107965,1.542920351,1.554852724,1.566877365,1.578994989,1.591206312,1.601411819,1.611682773,1.622019768,1.632422924,1.642892838,1.714248061,1.771368861,1.830393076,1.891383886,1.954407215,1.971775055,1.989297152,2.006974936,2.024810076,2.042803526,2.0580616,2.073433876,2.088920832,2.10452342,2.120242596,2.154426336,2.189161062,2.224455833,2.26031971,2.296761751,2.337059498,2.378064394,2.419788837,2.462244987,2.505446434,2.54971242,2.583345413,2.613986969,2.644991636,2.676364422,2.712902308,2.749938965,2.787481546,2.825536489,2.864110947,2.87118268,2.878272295,2.885379314,2.892503977,2.899645805,2.89663291,2.893623114,2.890616417,2.887612581,2.884612083,2.881628752,2.878653049,2.875684977,2.872724771,2.869772196,2.866827011,2.863889694,null,null,null,null,null,null,null,null,null,null,1.427442312,1.432315946,1.437206149,1.442113161,1.447036862,1.451977372,1.467379093,1.482944131,1.498674273,1.514571309,1.530637026,1.540267229,1.549957991,1.559709787,1.569522858,1.579397678,1.591419101,1.603531957,1.615736961,1.628034949,1.640426517,1.659273386,1.678336859,1.697619438,1.715157986,1.729989767,1.748978257,1.768175125,1.787582874,1.807203531,1.82703948,1.844412208,1.861950278,1.879655004,1.897528052,1.915571094,1.936779857,1.958223224,1.979904175,2.001825094,2.023988724,2.072481871,2.122136593,2.172981262,2.225044012,2.278354168,2.223026991,2.169043303,2.11637044,2.064976931,2.014831305,1.971331716,1.930388093,1.891818523,1.85545671,1.821150184,1.788759112,1.758154988,null,null,null,null,null,null,null,null,null,null,null,null,null,null,null,null,null,null,null,null,null,null,null,null,null,null,null,null,null,null,null,null,null,null,null,null,null,null,null,null,2.603236675,2.631000757,2.659060717,2.68742013,2.716081858,2.745049477,2.77628231,2.807870388,2.839818001,2.872129202,2.904807806,2.937940121,2.971450329,3.005342722,3.03962183,3.074291706,3.089218378,3.104217052,3.119288683,3.134433508,3.149652004,3.165248156,3.181024551,3.196984529,3.213129997,3.229464293,3.245989323,3.262708902,1.432646751,1.462311864,1.492591381,1.523497701,1.555044055,1.587243676,1.617510557,1.64835453,1.679786801,1.711162448,1.735699296,1.765989542,1.796808362,1.828165174,1.860069156,1.892529845,1.924918652,1.957861781,1.991368771,2.025449038,2.060112715,2.146538019,2.236589193,2.33041811,2.428183317,2.530049801,2.547513008,2.563424349,2.575323582,2.587277889,2.599287987,2.611864567,2.624502182,2.637200832,2.649961233,2.662783146,2.675016642,2.687306643,2.69965291,2.712055922,2.724516153,2.739622355,2.754812002,2.770086288,2.785444975,2.800888777,2.814568996,2.828315735,2.842129707,2.856010914,2.869960308,2.894075155,2.91839242,2.942914248,2.967642069,2.992577553,3.030376673,3.068653345,3.107413292,3.146662951,3.186408281,3.228784561,3.272473097,3.31752491,3.363993406,3.411934376,3.461406946,3.512472391,null,null,null,null,null,null,null,null,null,null,null,null,null,null,null,null,null,null,null,null,null,null,null,null,null,null,null,null,null,null,null,null,null,null,null,null,null,null,null,null,2.448811531,2.515697002,2.576402187,2.623571396,2.671604156,2.720516205,2.742058992,2.763772011,2.785657406,2.807715654,2.829948902,2.856259346,2.882814407,2.909616709,2.936667681,2.963970423,2.976945639,2.989977837,3.003067017,3.016213417,3.029417515,3.042929411,3.056586266,3.070390701,3.08434391,3.098448753,3.112706423,3.127119541,null,null,null,null,null,null,null,null,null,null,null,null,null,null,null,null,null,null,null,null,1.624300718,1.649398208,1.674883366,1.700762272,1.722619414,1.742643237,1.759435177,1.776389003,1.793506145,1.810788155,1.828236818,1.842640877,1.857158542,1.871790528,1.88653779,1.901401281,1.917019844,1.932766676,1.94864285,1.964649439,1.980787635,1.998164177,2.015693188,2.033375978,2.05121398,2.069208384,2.095574617,2.122276545,2.149318933,2.176705837,2.204441547,2.231682301,2.259259462,2.287177563,2.315440655,2.34405303,2.389871836,2.43658638,2.484214306,2.532772779,2.574973345,2.611405134,2.649302959,2.688740492,2.729795456,2.772550821,2.817094326,2.863519192,1.032226324,1.033943415,1.035663247,1.037385941,1.039111495,1.04084003,1.041883945,1.042928934,1.043974996,1.04502213,1.046070337,1.049965262,1.05387485,1.057798862,1.061737537,1.065690756,1.068304181,1.070923924,1.073550105,1.076182723,1.078821778,1.087389827,1.096025944,1.104730606,1.113504529,1.122347951,1.131671667,1.14107275,1.150552034,1.160109997,1.169747353,1.183904171,1.198232293,1.212733865,1.227410913,1.242265582,1.258816361,1.275587797,1.292582512,1.309803843,1.327254415,1.34702611,1.367092371,1.38745749,1.408125997,1.429102421,1.452084303,1.475435734,1.499162555,1.523271084,1.547767282,1.569781184,1.59210825,1.614752769,1.637719512,1.661012769,1.681106329,1.701442957,1.718847275,1.734496593,1.750288248,1.769989371,1.789912224,1.81005919,1.83043313,1.85103631,1.871871352,1.892940998,null,null,null,null,null,null,null,null,null,null,null,null,null,null,null,null,null,null,null,null,null,null,null,null,null,null,null,null,null,null,null,null,null,null,null,null,null,null,null,null,2.575507164,2.595786333,2.616225004,2.636824608,2.657586575,2.678512096,2.694856644,2.71130085,2.72784543,2.744490862,2.761238098,2.778453588,2.795776129,2.813206911,2.830746174,2.848395109,2.890819073,2.933874846,2.977571487,3.021919489,3.06692791,3.115653992,3.166239738,3.21877408,3.273351669,3.330072165,3.389041901,3.450372934,null,null,null,null,null,null,null,null,null,null,1.221850038,1.221871734,1.221893311,1.221914887,1.221936584,1.22195816,1.221979737,1.222001433,1.22202301,1.222044587,1.222066283,1.224274993,1.226487756,1.228704572,1.230925322,1.233150125,1.235378981,1.237611771,1.239848614,1.242089629,1.244334579,1.255468845,1.266702771,1.27803719,1.289473057,1.301011205,1.312652707,1.324398279,1.336248994,1.348205686,1.360269427,1.377157092,1.394254565,1.411564231,1.429088831,1.446831107,1.464793444,1.48297894,1.5013901,1.520029902,1.538901091,1.548890591,1.558944941,1.569064498,1.57924974,1.589501143,1.599819064,1.610203981,1.620656371,1.631176472,1.641764998,1.650684476,1.659652352,1.668668985,1.677734733,1.686849594,1.696013927,1.705228209,null,null,null,null,null,null,null,null,null,null,null,null,null,null,null,null,null,null,null,null,1.71608603,1.722358704,1.728654385,1.734972954,1.741314769,1.74767971,1.756551743,1.765468717,1.77443099,1.783438802,1.79249227,1.798811436,1.805152893,1.811516762,1.817903042,1.824311733,1.802015781,1.779992342,1.758238077,1.736749649,1.715523839,1.693629265,1.669983864,1.646668792,1.623679042,1.601010323,1.581285238,1.561803222,1.542561173,1.523556232,1.504785419,1.505744576,1.506704211,1.507664561,1.508625507,1.509587049,1.563406348,1.61914444,1.676869631,1.729840636,1.776123405,1.83478868,1.89992094,1.972412467,2.053309202,2.143843889,2.245475531,2.359939575,1.53093493,1.531504154,1.532073736,1.532643318,1.533213258,1.533783317,1.542373657,1.551012039,1.559698939,1.568434358,1.577218652,1.592828035,1.608591795,1.62451148,1.64058888,1.656825185,1.673222303,1.689781785,1.70650506,1.719876647,1.732690454,1.750520825,1.76853466,1.786733866,1.805120349,1.823696017,1.842462778,1.861422777,1.880577803,1.89993,1.919481397,1.944143653,1.969123006,1.994423151,2.02004838,2.046002865,2.072290897,2.098916531,2.125884295,2.153198719,2.180863857,2.203466892,2.226304054,2.249377966,2.272691011,2.296245813,2.320044518,2.344089985,2.368384838,2.392931223,2.417732,2.437087297,2.456597567,2.476263762,2.496087551,2.516070127,2.536212444,2.556516171,2.571415186,2.585256815,2.599172831,2.618360758,2.637690306,2.657162666,2.676778793,2.69653964,2.7164464,2.736500263,null,null,null,null,null,null,null,null,null,null,null,null,null,null,null,null,null,null,null,null,null,null,null,null,null,null,null,null,null,null,null,null,null,null,null,null,null,null,null,null,null,null,null,null,null,null,null,null,null,null,null,null,null,null,null,null,null,null,null,null,null,null,null,null,null,null,null,null,null,null,null,null,null,null,null,null,null,null,1.017485261,1.017963052,1.018440962,1.01891911,1.019397497,1.019876122,1.021232128,1.022590041,1.023949742,1.025311232,1.026674509,1.027601838,1.028529882,1.02945888,1.030388594,1.031319261,1.035349488,1.039395571,1.043457389,1.047535062,1.051628709,1.056329727,1.061051607,1.065794706,1.070558906,1.075344443,1.080572605,1.085826159,1.091105223,1.096410036,1.101740599,1.106330633,1.11093986,1.11556828,1.120216012,1.124883056,1.128781319,1.132693052,1.136618376,1.140557289,1.144509792,1.149054766,1.153617859,1.158198953,1.162798285,1.167415857,1.178252697,1.18919003,1.200229049,1.211370468,1.222615242,1.239215016,1.256040096,1.273093581,1.29037869,1.307898402,1.325656056,1.343654752,null,null,null,null,1.561999917,1.574612498,1.596392751,1.618474126,1.640860915,1.663557529,1.686567903,1.713280082,1.734722257,1.756432652,1.778414965,1.800672293,1.827980399,1.855702639,1.883845448,1.912414908,1.941417694,1.964518905,1.987895012,2.011549234,2.035485029,2.059705496,2.081902266,2.104338408,2.127016306,2.149938583,2.173107862,2.212521076,2.252649069,2.293504953,2.335101604,2.37745285,2.414506912,2.452138662,2.490356922,2.529170752,2.565773964,2.589506626,2.61345911,2.637633085,2.662030697,2.686653852,2.707583189,2.728675604,2.749932289,2.771354437,2.792943716,2.817272186,2.841812611,2.866566896,2.891536474,2.916723728,2.93307519,2.949518442,2.966053724,2.98268199,2.999403238,3.016633034,3.03410387,3.051819086,3.069783926,3.088002205,3.106478453,3.125217199,null,null,null,null,null,null,null,null,null,null,null,null,1.158894181,1.157603383,1.156314015,1.155026197,1.15640986,1.157795191,1.15918231,1.160570979,1.161961317,1.161961079,1.16196084,1.161960483,1.161960244,1.161960006,1.179482341,1.197268963,1.215323806,1.233650923,1.252254367,1.272064328,1.292187691,1.312629342,1.333394527,1.354488134,1.360521793,1.366582513,1.372670174,1.378784895,1.384926915,1.39533627,1.405823827,1.4163903,1.427036166,1.437762022,1.453020096,1.468440294,1.484023929,1.499773145,1.515689373,1.534011602,1.552555323,1.571323276,1.590318084,1.60954237,1.63307786,1.656957388,1.68118608,1.705769062,1.725378036,1.738154769,1.751025915,1.763992548,1.777055144,1.790214419,1.803471208,1.816826105,null,null,null,null,null,null,null,null,null,null,null,null,null,null,null,null,null,null,null,null,null,null,null,null,null,null,null,null,null,null,null,null,null,null,null,null,null,null,null,null,null,null,null,null,null,null,null,null,null,null,null,null,null,null,null,null,null,null,null,null,null,null,null,null,null,null,null,null,null,null,null,null,null,null,null,null,null,null,null,null,null,null,null,null,null,null,null,null,1.450563431,1.534884572,1.624107242,1.716206789,1.790875554,1.86879313,1.905256867,1.942432046,1.980332613,2.018972635,2.058366776,2.096017838,2.134357452,2.173398733,2.213153839,2.25363636,2.297465563,2.342147112,2.387697697,2.434134007,2.481473684,2.487253666,2.493046999,2.498853922,2.504674196,2.510508299,2.530176878,2.549999714,2.566707134,2.580228567,2.593821287,2.609083652,2.624435902,2.639878511,2.655411959,2.67103672,2.695116758,2.719413757,2.743929863,2.768666983,2.793627262,2.819951057,2.846919775,2.874552727,2.902870417,2.931893826,2.961645126,2.992147207,null,null,null,null,null,null,null,null,null,null,1.080726504,1.085706353,1.09070909,1.095734954,1.100783944,1.10585618,1.109664202,1.113485217,1.117319465,1.121166945,1.125027657,1.123547196,1.122068644,1.120592117,1.119117498,1.117644787,1.114640594,1.111644506,1.108656406,1.105676293,1.102704287,1.105689049,1.108682036,1.111683011,1.114692211,1.117709517,1.117764115,1.117818713,1.117873311,1.117927909,1.117982626,1.117142797,1.116303682,1.115465164,1.114627361,1.113790035,1.116901398,1.120021462,1.123150349,1.126287818,1.129434109,1.135416269,1.14143014,1.147475958,1.153553724,1.159663677,1.163883567,1.168118834,1.17236948,1.176635504,1.180917144,1.186106086,1.191317797,1.196552515,1.201810122,1.207090855,1.212394714,1.217721939,null,null,null,null,null,null,null,null,null,null,1.19939971,1.202320576,1.205248713,1.208183885,1.211126208,1.214075804,1.216588855,1.219107151,1.221630692,1.22415936,1.226693273,1.232455492,1.238244891,1.244061351,1.249905109,1.255776405,1.258836389,1.261903763,1.264978528,1.268060923,1.271150708,1.277967811,1.28482151,1.291711807,1.298639178,1.305603743,1.314147711,1.322747588,1.331403852,1.34011662,1.34888649,1.362442493,1.376134634,1.389964461,1.403933167,1.418042302,1.431767941,1.445626378,1.459618926,1.473746896,1.488011718,1.503509164,1.519168139,1.534990072,1.550976872,1.567130208,1.584722161,1.602511644,1.620500803,1.638691783,1.657087088,1.6770401,1.697714686,1.7166785,1.733373404,1.750632167,1.768477917,1.786935091,null,null,null,null,null,null,null,null,null,null,null,null,null,null,null,null,null,null,null,null,null,null,null,null,null,null,null,null,null,null,null,null,null,null,null,null,null,null,null,null,null,null,null,null,null,null,null,null,null,null,null,null,null,null,null,null,null,null,null,null,null,null,null,null,null,null,null,null,1.329791784,1.333872199,1.337965131,1.34207058,1.346188784,1.350319505,1.355844736,1.361392617,1.366963148,1.372556448,1.378172636,1.390047789,1.402025104,1.414105654,1.426290393,1.438580036,1.450975657,1.463477969,1.476088166,1.488806844,1.501635194,1.526731849,1.552247882,1.578190327,1.604566336,1.6313833,1.658648372,1.686369061,1.713222504,1.734759808,1.756567955,1.783108115,1.810049295,1.837397337,1.865158796,1.893339634,1.921946287,1.950985193,1.98046267,2.010385752,2.040760756,2.06383872,2.087177753,2.110780478,2.13465023,2.158789873,2.183202744,2.207891464,2.232859373,2.25810957,2.283645391,2.302233458,2.320972681,2.339864492,2.358910084,2.378110647,2.397467613,2.416982174,2.436655283,2.456488848,2.476483583,2.497079372,2.517846346,2.538785934,2.559899569,2.574240685,2.588634729,2.603109598,null,null,null,null,1.289232492,1.29242599,1.298770189,1.305145502,1.311552167,1.317990184,1.324459791,1.324717879,1.324975967,1.325234175,1.325492382,1.325750709,1.326009035,1.326267362,1.326525807,1.326784372,1.327042818,1.32840991,1.329778433,1.331148386,1.33251965,1.333892465,1.335266709,1.336642265,1.338019252,1.339397669,1.340777397,1.342759013,1.34474349,1.346730828,1.348721266,1.350714445,1.352710724,1.354709864,1.356711984,1.358717084,1.360725164,1.380932808,1.40144062,1.422252893,1.443374276,1.464809418,1.486562848,1.508639216,1.53104353,1.553780556,1.576855183,1.588000059,1.599223733,1.610526562,1.621909499,1.633372784,1.644917011,1.656542897,1.668250918,1.68004179,1.69191587,1.731210232,1.766999841,1.803529382,1.840814114,1.878869534,1.917711854,1.957357049,null,null,null,null,null,1.313363791,1.321312666,1.329309583,1.337354898,1.345448971,1.353592038,1.366992235,1.380525112,1.39419198,1.407994151,1.421932936,1.436935186,1.452095747,1.467416167,1.482898355,1.498543859,1.526886344,1.555764914,1.5851897,1.615170956,1.645719409,1.676395059,1.707642674,1.731957197,1.756234646,1.780852437,1.819847465,1.859696627,1.900418162,1.942031503,1.98455596,2.026950836,2.070251703,2.114477158,2.159647465,2.20578289,2.252579212,2.300368071,2.349170923,2.399008989,2.449904442,2.479343891,2.509136677,2.539287806,2.566588402,2.58731246,2.615091085,2.643168211,2.671546698,2.700229645,2.729220867,2.759387732,2.789888382,2.820725918,2.851904631,2.88342762,2.904488802,2.925703764,2.947073698,2.968599558,2.990283012,3.012124777,3.034125805,null,null,null,null,null,null,null,null,null,null,1.50184083,1.506929278,1.512034893,1.517157912,1.522298217,1.527455926,1.537620783,1.547853231,1.558153868,1.56852293,1.578961015,1.595649481,1.612514257,1.629557252,1.646780372,1.664185643,1.684908986,1.705890536,1.722688675,1.73883307,1.755128622,1.77651453,1.798161149,1.82007134,1.842248678,1.864696145,1.8924402,1.920597076,1.949173093,1.97817409,2.007606506,2.010581732,2.013561249,2.016545296,2.019533873,2.022526503,2.018210888,2.013904095,2.0096066,2.005318165,2.001039267,2.016995192,2.033078194,2.049289703,2.065630436,2.082101345,2.093305349,2.104569912,2.115894794,2.127280712,2.138727903,2.150542021,2.162525892,2.174682617,2.187015057,2.199526787,2.21222043,2.225099564,null,null,null,null,null,null,null,null,null,null,1.009294748,1.009311795,1.009328842,1.009345889,1.009363055,1.009380102,1.009397149,1.009414315,1.009431362,1.009448409,1.009465575,1.010529637,1.011594892,1.012661338,1.013728738,1.014797449,1.015867233,1.01693809,1.01801002,1.019083261,1.020157456,1.023779154,1.027413726,1.031061172,1.034721494,1.038394928,1.042081356,1.045780897,1.049493551,1.053219318,1.056958437,1.062905431,1.068886042,1.07490015,1.080948234,1.087030292,1.093146563,1.099297166,1.105482459,1.111702561,1.117957711,1.122800827,1.127664924,1.13255012,1.137456417,1.142384052,1.147333026,1.152303338,1.157295227,1.162308812,1.167344093,1.173612475,1.179914594,1.186250448,1.192620397,1.199024558,1.205463052,1.211936235,null,null,null,null,null,null,null,null,null,null,1.15172267,1.151724935,1.151727319,1.151729584,1.151731849,1.151734233,1.151736498,1.151738882,1.151741147,1.151743531,1.151745796,1.155852675,1.159974217,1.164110422,1.168261409,1.172427177,1.176607728,1.180803299,1.185013771,1.189239264,1.193479896,1.196359634,1.199246287,1.202139974,1.205040574,1.207948208,1.210862875,1.213784575,1.216713309,1.219649076,1.222591996,1.244433284,1.266664743,1.289293289,1.312326193,1.335770607,1.359633684,1.383923292,1.408646703,1.433811665,1.459426403,1.48831892,1.517783523,1.547831416,1.578474164,1.609723568,1.641591668,1.674090505,1.707232952,1.733126879,1.758925676,1.781640649,1.804648995,1.827954412,1.851560831,1.875472069,1.899692178,1.924225092,1.228259206,1.232991219,1.23774159,1.2425102,1.247297287,1.252102613,1.260669827,1.269295573,1.277980447,1.286724567,1.29552865,1.306732297,1.318032861,1.329431057,1.340927839,1.352524161,1.36701405,1.381659031,1.39646101,1.411421537,1.426542401,1.435490608,1.444494843,1.453555703,1.462673306,1.47184813,1.484799623,1.497865081,1.511045456,1.524341941,1.53775537,1.555158973,1.572759509,1.590559363,1.608560562,1.62676549,1.646825433,1.667132497,1.687690139,1.708501101,1.724519491,1.74098599,1.757609725,1.774392128,1.791334867,1.808439374,1.827546835,1.846856117,1.866369486,1.886088967,1.906016707,1.920695543,1.93548739,1.9503932,1.965413809,1.980549932,2.002131462,2.023948431,2.046002865,2.068297625,2.090835333,2.111706018,2.132785082,2.15407443,2.175576448,2.197293043,2.21922636,2.241378546,2.424323559,2.432834148,2.441375017,2.449945688,2.458546162,2.467177153,2.470078945,2.472983837,2.475892305,2.478804111,2.481719255,2.502988338,2.524439335,2.546074152,2.565306425,2.580087662,2.594954252,2.609906197,2.624944687,2.640069485,2.655281544,2.673895359,2.692640066,2.711515903,2.730523825,2.74966526,2.768940926,2.788351774,2.807898521,2.827582359,2.847404242,2.862196207,2.877065182,2.892011166,2.907035112,2.922136784,2.937316895,2.95257616,2.967914343,2.983332634,2.998830557,3.012903452,3.027042389,3.041247606,3.055519581,3.069858313,3.084264278,3.098738194,3.113279819,3.127889872,3.14256835,3.155173779,3.167829514,3.180536509,3.193294287,3.206103086,3.218963385,3.231875181,3.244838953,3.257854462,3.270922422,3.284683466,3.298502684,3.312379837,3.326315641,3.340310097,3.354363203,3.368475437,2.601027489,2.598850489,2.596675396,2.594501972,2.592330694,2.590160847,2.589816093,2.589471102,2.58912611,2.588781595,2.588436604,2.606439829,2.624568462,2.642822981,2.661204338,2.679713726,2.69835186,2.717119455,2.736017704,2.75504756,2.774209499,2.796622992,2.819217443,2.841994762,2.864955902,2.888102531,2.911436081,2.93495822,2.958670616,2.982574463,3.006671429,3.026869535,3.047203302,3.067673445,3.088281155,3.109027624,3.12991333,3.150939226,3.172106266,3.193415642,3.214868307,3.227318287,3.239816427,3.252362728,3.264957905,3.277601719,3.290294647,3.30303669,3.315827847,3.328668833,3.34155941,3.3641994,3.386992455,3.409940243,3.433043242,3.45630312,3.479720592,3.503296375,3.527032137,3.550928593,3.574987173,3.584643841,3.594326735,3.604035616,3.613770962,3.623532772,3.63332057,3.643134832,null,null,null,null,null,null,null,null,null,null,1.010676265,1.012739897,1.01480782,1.016879916,1.018956184,1.021036744,1.023566723,1.02610302,1.028645635,1.031194448,1.03374958,1.039106727,1.044491529,1.049904227,1.055345058,1.060814023,1.066333055,1.071880817,1.077457547,1.083063126,1.08869803,1.106513381,1.124620318,1.143023491,1.161727905,1.18073833,1.205533862,1.230850101,1.256698012,1.283088684,1.31003356,1.317791224,1.325594783,1.333444476,1.34134078,1.349283814,1.354193568,1.359121084,1.36406672,1.369030237,1.374011874,1.389999866,1.406173825,1.422536016,1.439088702,1.455833912,1.475926042,1.496295571,1.516946077,1.537881732,1.559106231,1.590224028,1.621962905,1.65433526,1.68735373,1.718099236,1.743882537,1.770052791,2.730101824,2.743335247,2.756632805,2.769994974,2.783421755,2.796913624,2.807188272,2.817500591,2.827850819,2.838239193,2.848665476,2.860570431,2.872525454,2.884530067,2.896584988,2.908690214,2.94110322,2.973876953,3.007016182,3.040524483,3.074406147,3.101347685,3.128525257,3.155941248,3.183597088,3.211495399,3.210280657,3.209066391,3.207852602,3.20663929,3.205426216,3.214575529,3.22375083,3.232952356,3.242180109,3.251434326,3.252360582,3.253287077,3.25421381,3.255140781,3.256067991,3.258379698,3.260693073,3.263008118,3.265324593,3.267642975,3.268195152,3.268747568,3.269300222,3.269852877,3.270405531,3.272396088,3.274387836,3.276380777,3.27837491,3.280370474,3.264785767,3.249274969,3.233838081,3.218474388,3.203183889,3.225219965,3.247407675,3.269747972,3.292242289,3.314890862,3.33769536,3.360656977,null,null,null,null,null,null,null,null,null,null,null,null,null,null,null,null,null,null,null,null,null,null,null,null,null,null,null,null,null,null,null,null,null,null,null,null,null,null,null,null,null,null,null,null,null,null,null,null,null,null,null,null,null,null,null,null,null,null,null,null,null,null,null,null,null,null,null,null,1.119964838,1.120274186,1.120583534,1.120893121,1.121202707,1.121512294,1.121679544,1.121846914,1.122014165,1.122181535,1.122348905,1.129726887,1.137153506,1.144628763,1.152153254,1.159727216,1.166064143,1.172435522,1.178841829,1.185283065,1.191759586,1.199490309,1.207271338,1.215102673,1.22298491,1.230918288,1.237585425,1.244288564,1.251028061,1.257804036,1.264616728,1.276185751,1.287860513,1.299642086,1.311531425,1.323529601,1.330360293,1.337226152,1.344127417,1.351064444,1.358037114,1.375899196,1.393996119,1.412331104,1.430907249,1.449727654,1.469274759,1.489085555,1.50916326,1.529511809,1.550134659,1.602514863,1.656665087,1.711785316,1.755204082,1.799724221,1.797615409,1.795508981,1.793405294,1.791303873,1.789204955,1.787124753,1.785052299,1.782987595,1.780930758,1.778881311,1.776839733,1.774805784,1.664753675,1.676398754,1.688125134,1.699933529,1.711167216,1.720181227,1.73608923,1.752144337,1.768347859,1.784701228,1.801205873,1.812563896,1.823993683,1.835495591,1.84706986,1.858717084,1.87043798,1.882232666,1.89410162,1.906045556,1.918064713,1.935788155,1.953675508,1.971728086,1.989947438,2.008335114,2.026892662,2.045621872,2.064523935,2.08360076,2.102854013,2.128383636,2.154223204,2.18037653,2.206847191,2.233639479,2.260756969,2.288203716,2.315983534,2.344100714,2.372559309,2.394797564,2.417244196,2.439901352,2.462770939,2.485854864,2.509155035,2.532673597,2.556412697,2.573693514,2.589910269,2.605596304,2.621377468,2.637254,2.653226852,2.669296503,2.68546319,2.701727867,2.718091249,2.734553814,2.751115799,2.766025066,2.781015396,2.796086788,2.811239958,2.826475143,2.84179306,2.857193708,1.389781237,1.399023175,1.408326507,1.417691708,1.427119255,1.436609387,1.444636345,1.452708006,1.460824728,1.468986869,1.477194667,1.490579844,1.504086375,1.517715216,1.531467676,1.545344591,1.562959433,1.580775142,1.598793864,1.617017865,1.635449767,1.669768095,1.704806447,1.732788324,1.760124445,1.787891746,1.817886949,1.848385215,1.879395247,1.910925508,1.9429847,1.965041757,1.987349153,2.009909868,2.032726526,2.055802345,2.084782839,2.114171743,2.143974781,2.174198151,2.204847336,2.237382412,2.270397425,2.303899527,2.33789587,2.372394085,2.422124147,2.472896576,2.524733067,2.571867943,2.608041525,2.640820503,2.67401123,2.707619429,2.741649628,2.776107788,2.757003307,2.738030195,2.719187737,2.700474739,2.681890726,2.698859453,2.71593523,2.733119011,2.750411749,2.767813683,2.785326004,2.802948952,1.287236094,1.316660762,1.346758127,1.377543449,1.409032464,1.441241264,1.452361822,1.463568091,1.474860907,1.486240864,1.497708559,1.516836166,1.536208272,1.555827618,1.57569766,1.595821381,1.619098783,1.642715693,1.666677237,1.690988064,1.714051366,1.734003782,1.754188418,1.774608016,1.795265317,1.816163063,1.845387101,1.87508142,1.905253649,1.935911298,1.967062235,1.999730468,2.032941103,2.066703558,2.101026535,2.135919571,2.152556658,2.169323206,2.186220169,2.203248978,2.220410347,2.244096518,2.268035173,2.292229176,2.316681385,2.341394186,2.361701012,2.382184029,2.402844667,2.42368412,2.444704771,2.460057735,2.475507259,2.491053581,2.506697655,2.522439957,2.539097786,2.555865765,2.568567276,2.579975128,2.591434002,2.604868174,2.618371964,2.631946087,2.645590305,2.659305334,2.673091412,2.686949015,null,null,null,null,null,null,null,null,null,null,null,null,null,null,null,null,null,null,null,null,2.300458193,2.332807064,2.365610838,2.398875952,2.432608843,2.466815948,2.472627401,2.478452682,2.484291792,2.490144491,2.496011019,2.522981882,2.550244331,2.571965456,2.590643644,2.609457731,2.633560419,2.65788579,2.682435989,2.707212925,2.732218504,2.764779568,2.7977283,2.831069946,2.864809036,2.8989501,2.9225142,2.946269989,2.970218658,2.994362354,3.01870203,3.03832674,3.058079004,3.077959776,3.09796977,3.118109703,3.140255928,3.162559271,3.185021162,3.207642555,3.230424643,3.254019737,3.278010845,3.302406073,3.327214003,3.352443218,3.378103018,3.404202461,1.241876841,1.247893691,1.253939748,1.260015011,1.266119719,1.27225399,1.277517438,1.282802582,1.28810966,1.293438673,1.29878974,1.307884216,1.317042351,1.326264501,1.335551381,1.344903231,1.355054975,1.365283251,1.375588894,1.385972261,1.396433949,1.41478467,1.433376431,1.452212453,1.471296191,1.490630507,1.520378709,1.550720572,1.5816679,1.613232851,1.645427823,1.680736423,1.714916587,1.742581129,1.770691991,1.799256206,1.82656157,1.854281187,1.882421613,1.910989046,1.939990044,1.966100454,1.992562413,2.019380569,2.046559572,2.074104548,2.107091904,2.140604019,2.174649,2.209235668,2.244372129,2.241577864,2.238786936,2.235999584,2.23321557,2.230435133,2.256005526,2.281868696,2.308028698,2.334488392,2.361251354,2.37762332,2.394108534,2.410708189,2.427422762,2.444253445,2.461200714,2.478265524,null,1.418139219,1.428347588,1.438629389,1.448985219,1.459415555,1.470924139,1.482523441,1.494214177,1.505997062,1.51787293,1.528248549,1.538695097,1.549213052,1.55980289,1.570465207,1.586341858,1.602379084,1.618578315,1.634941459,1.651469946,1.667012334,1.682700992,1.69853735,1.713199615,1.72533834,1.744459033,1.763791561,1.783338428,1.803101897,1.823084354,1.846054673,1.869314432,1.892867088,1.916716695,1.940866709,1.959599972,1.978514194,1.997610807,2.016891956,2.036359072,2.051855087,2.06746912,2.083201885,2.099054575,2.115027666,2.104758978,2.094540119,2.084370852,2.074250937,2.064180136,2.106127739,2.14892745,2.192597389,2.237154245,2.282617092,2.300023317,2.31756258,2.335235596,2.353043318,2.3709867,2.405944347,2.441417456,2.477413416,2.513940096,2.551005602,2.579226017,2.604767561,null,null,null,null,null,null,null,null,null,null,null,null,null,null,null,null,null,null,null,null,null,null,null,null,null,null,null,null,null,null,null,null,null,null,null,null,null,null,null,null,null,null,null,null,null,null,null,null,null,null,null,null,null,null,null,null,null,null,null,null,null,null,null,null,null,null,null,null,null,null,null,null,null,null,null,null,null,null,null,null,null,null,null,null,null,null,null,null,1.547574759,1.565959692,1.584563136,1.603387475,1.622435451,1.641709805,1.673250794,1.705397725,1.730973601,1.755980849,1.781349301,1.801792622,1.822470665,1.843385816,1.864541054,1.885939121,1.901291847,1.916769505,1.932373285,1.948103905,1.963962793,1.986269832,2.008830309,2.031646967,2.054723024,2.078060865,2.098715067,2.119574308,2.140640974,2.16191721,2.183404684,2.213602066,2.244217157,2.27525568,2.306723595,2.338626623,2.403137445,2.469427586,2.537546396,2.591907501,2.639830112,2.693986177,2.75122714,2.811772108,2.875860691,2.943753242,3.015734196,3.092113495,null,null,null,null,null,null,null,null,null,null,1.832770348,1.846871972,1.861082077,1.875401497,1.889831185,1.904371738,1.942240238,1.980861545,2.020251036,2.060423374,2.101394892,2.143848181,2.187159061,2.231345177,2.276423693,2.322412968,2.354959011,2.387961388,2.421426296,2.455360174,2.489769459,2.524581194,2.55987978,2.583956242,2.608225346,2.632722139,2.655827284,2.679135084,2.702647448,2.726366282,2.750293255,2.771375656,2.792619467,2.814026594,2.835597515,2.85733366,2.873183489,2.889121056,2.905147076,2.921262026,2.937466145,2.950609684,2.963812113,2.977073193,2.990394115,3.003774405,3.022711992,3.041769266,3.060946226,3.080244541,3.09966445,3.118466377,3.137382746,3.156413555,3.175559759,3.194822311,3.214201689,3.233698606,null,null,null,null,null,null,null,null,null,null,null,null,null,null,null,null,null,null,null,null,null,null,null,null,null,null,null,null,null,null,null,null,null,null,null,null,null,null,null,null,2.723373413,2.755905628,2.788826704,2.822140932,2.855853081,2.889967918,2.943562269,2.998150826,3.053751469,3.110383511,3.168065548,3.179853201,3.191684484,3.203559875,3.215479374,3.227443457,3.241448641,3.255514622,3.269641876,3.283830166,3.298079967,3.312629938,3.327325344,3.342167139,3.357157946,3.372299194,3.387592793,3.403040886,null,null,null,null,null,null,null,null,null,null,1.049065948,1.054329753,1.059619904,1.064936757,1.070280194,1.075650454,1.079933167,1.084233046,1.088549972,1.092884064,1.097235441,1.105228543,1.113279939,1.121389866,1.12955904,1.13778758,1.145385027,1.153033376,1.160732627,1.168483377,1.176285863,1.185847282,1.195486426,1.205203891,1.215000391,1.224876523,1.232836604,1.240848541,1.248912454,1.257028818,1.265197992,1.272462964,1.279769778,1.287118554,1.294509411,1.301942825,1.312608242,1.323361039,1.334201932,1.345131636,1.356150866,1.375628233,1.395385385,1.415426135,1.435754895,1.456375599,1.483113885,1.510343194,1.538072228,1.566310525,1.595067143,1.628396869,1.663946271,1.701898932,1.734196305,1.76664412,1.801177263,1.83796072,null,null,null,null,null,null,null,null,null,null,null,null,null,null,null,null,null,null,null,null,1.532736421,1.539474368,1.546241879,1.553039193,1.559866428,1.566723585,1.59529388,1.624385238,1.654007077,1.684169054,1.713469505,1.73721087,1.761281133,1.785684943,1.810426831,1.835511565,1.86698997,1.899008274,1.931575775,1.964701653,1.998395681,2.018846273,2.039505959,2.060377359,2.081461906,2.102762699,2.12780714,2.153149605,2.178794146,2.204744101,2.231003284,2.25860095,2.286540508,2.314825296,2.343460321,2.37244916,2.398410082,2.424655199,2.451187372,2.478010178,2.505125999,2.53374505,2.562088251,2.582332611,2.603033066,2.624201775,2.645852327,2.667998075,null,null,null,null,null,null,null,null,null,null,null,null,null,null,null,null,null,null,null,null,1.082243323,1.08542645,1.088618875,1.091820598,1.095031857,1.098252535,1.104273558,1.110327482,1.116414666,1.12253511,1.12868917,1.134229898,1.139797807,1.145393014,1.151015759,1.15666604,1.169542193,1.182561755,1.195726156,1.209037185,1.222496271,1.238122702,1.253948808,1.269977212,1.286210537,1.302651405,1.318995476,1.335544825,1.352301598,1.369268775,1.386448741,1.404699802,1.42319119,1.441925883,1.46090734,1.480138659,1.488187671,1.496280551,1.504417419,1.512598634,1.520824194,1.530671954,1.540583372,1.550559044,1.560599208,1.57070446,1.580875158,1.59111166,null,null,null,null,null,null,null,null,null,null,1.052568078,1.052687526,1.052806973,1.052926421,1.053045869,1.053165317,1.053284764,1.053404212,1.053523779,1.053643227,1.053762794,1.057399869,1.061049581,1.064711928,1.068386912,1.072074533,1.075774908,1.079488039,1.083213925,1.086952806,1.09070456,1.09981823,1.109008193,1.118274927,1.127619028,1.13704133,1.146542311,1.156122565,1.165783048,1.175524116,1.185346603,1.197479248,1.209736109,1.222118258,1.234627247,1.247264266,1.260030627,1.272927642,1.28595674,1.299119115,1.312416196,1.325894952,1.33951211,1.3532691,1.367167354,1.38120842,1.39539361,1.409724474,1.424202561,1.438829303,1.453606367,1.47096777,1.488536596,1.506315231,1.524306178,1.542512059,1.560935378,1.579578638,null,null,null,null,null,null,null,null,null,null,1.457710028,1.478258133,1.499096036,1.520227551,1.541656971,1.563388586,1.581364989,1.599548221,1.617940426,1.636544108,1.655361772,1.660476446,1.665606976,1.670753241,1.67591548,1.681093693,1.675007224,1.66894269,1.662900209,1.656879544,1.650880694,1.710605741,1.75741303,1.805501103,1.85490489,1.905660748,1.933102727,1.960939884,1.989177942,2.017822504,2.046879768,2.111344099,2.177838564,2.246427536,2.317176342,2.390153408,2.467643499,2.547646046,2.607076168,2.66368556,2.721524239,2.707609415,2.693765879,2.679993153,2.666290522,2.652658463,2.729603529,2.808780909,2.890254736,2.974092007,3.060360909,3.161694288,3.271183729,3.389663219,3.518072605,3.657472849,3.809063911,3.974208117,null,null,null,null,null,null,null,null,null,null,null,1.065665483,1.067556024,1.069449782,1.071346879,1.073247433,1.074770808,1.076296329,1.077824116,1.079353929,1.080886006,1.08521533,1.089561939,1.093925953,1.09830749,1.102706552,1.109671831,1.116681099,1.123734593,1.130832672,1.137975693,1.146595836,1.155281305,1.164032578,1.172850132,1.181734562,1.192252636,1.202864408,1.213570595,1.224372149,1.235269785,1.247955441,1.260771513,1.273719192,1.286799788,1.300014734,1.311845064,1.32378304,1.335829735,1.347985983,1.360252857,1.37434566,1.388584375,1.402970552,1.41750586,1.43219173,1.446788073,1.461533189,1.476428628,1.49147594,1.506676435,1.521464586,1.536397815,1.55147779,1.566705585,1.582082987,1.597611189,1.613291979,1.221767426,1.227317929,1.232893586,1.238494754,1.244121194,1.249773264,1.253708124,1.257655263,1.261614919,1.265586972,1.269571543,1.274122119,1.278689027,1.283272266,1.287871957,1.292488098,1.29712081,1.30177021,1.306436181,1.311118841,1.31581831,1.326030731,1.336322308,1.346693873,1.357145786,1.367679,1.378293872,1.388991117,1.399771333,1.410635233,1.421583533,1.441555977,1.461809158,1.482346773,1.503172994,1.524291635,1.545707107,1.567423463,1.589444995,1.611775875,1.634420395,1.662663221,1.691394091,1.717790842,1.740116954,1.76273334,1.785643458,1.80885148,1.832361221,1.856176376,1.880300999,1.893698096,1.907190561,1.920779228,1.934464693,1.948247671,1.962128878,1.976108909,1.990188718,2.004368544,2.018649578,2.048793554,2.079387426,2.110438108,2.141952515,2.173937559,2.206400156,2.239347458,null,null,null,null,null,null,null,null,null,null,null,null,null,null,null,null,null,null,null,null,null,null,null,null,null,null,null,null,null,null,null,null,null,null,null,null,null,null,null,null,2.546650887,2.581237793,2.61183548,2.642795563,2.67412281,2.705821276,2.727016211,2.748376846,2.76990509,2.791601658,2.813468456,2.845028639,2.876942396,2.909214258,2.941848278,2.97484827,3.005843401,3.037161589,3.068805933,3.100780249,3.133087397,3.167173147,3.202131987,3.237992287,3.274783373,3.312534809,3.35127902,3.391047955,null,null,null,null,null,null,null,null,null,null,null,null,null,null,null,null,null,null,null,null,null,null,null,null,null,null,null,null,null,null,null,null,null,null,null,null,null,null,null,null,null,null,null,null,null,null,null,null,null,null,null,null,null,null,null,null,null,null,null,null,null,null,null,null,null,null,null,null,null,null,null,null,null,null,null,null,null,null,null,null,null,null,null,null,null,null,null,null,null,null,null,null,null,null,null,null,null,null,null,null,null,null,null,null,null,null,null,null,null,null,null,null,null,null,null,null,null,null,null,null,null,null,null,null,null,null,null,null,null,null,null,null,null,null,null,null,null,null,null,null,null,null,null,null,null,null,null,null,null,null,null,null,null,null,null,null,null,null,null,null,null,null,null,null,null,null,null,null,null,null,null,null,null,null,null,null,3.087144613,3.114013672,3.141116381,3.168454885,3.196031332,3.223847866,3.229552269,3.235267162,3.240991592,3.246726513,3.252471447,3.299450159,3.347107649,3.395453453,3.444497585,3.494249821,3.517637491,3.541181326,3.564882755,3.588742971,3.612762928,3.637505531,3.662609577,3.688081741,3.713928938,3.740157843,3.766775608,3.793789625,null,null,null,null,null,null,null,null,null,null,null,null,null,null,null,null,null,null,null,null,null,null,null,null,null,null,null,null,null,null,null,null,null,null,null,null,null,null,null,null,3.119560719,3.133481741,3.147464991,3.161510706,3.175618887,3.189790249,3.204533339,3.219344616,3.234224558,3.249172926,3.264190674,3.270853996,3.277530909,3.284221888,3.29092598,3.2976439,3.316124678,3.334709167,3.353397608,3.372190952,3.391089439,3.41049099,3.430138826,3.450036764,3.470188856,3.490599394,3.511272192,3.532211781,2.317561865,2.331608534,2.345740318,2.359957695,2.374261141,2.388651371,2.414146662,2.439913988,2.465956688,2.492277145,2.51887846,2.546132088,2.569196701,2.587879181,2.606697559,2.625653028,2.644746304,2.663978338,2.683350086,2.70286274,2.72251749,2.743097305,2.763832569,2.784724474,2.80577445,2.82698369,2.848353148,2.869884014,2.891577721,2.913435459,2.935458422,2.954866409,2.974403143,2.994068861,3.013864517,3.033790827,3.053849459,3.074040413,3.094364882,3.11482358,3.1354177,3.140028477,3.144645929,3.149270535,3.153901815,3.158539534,3.163184404,3.167836189,3.17249465,3.177160025,3.181832075,3.19793129,3.214112043,3.230374575,3.246719122,3.263146877,3.279657364,3.296251535,3.312929392,3.329692125,3.346539259,3.356361866,3.366213083,3.376093149,3.386002541,3.395940542,3.405908108,3.41590476,null,null,null,null,null,null,null,null,null,null,null,null,null,null,null,null,null,null,null,null,1.337787747,1.362463832,1.387595057,1.413189888,1.439256668,1.465804458,1.493487954,1.521694303,1.550433517,1.579715371,1.609550238,1.637325048,1.665579081,1.694320679,1.720000386,1.742324471,1.747806907,1.753306627,1.758823633,1.764358044,1.769909859,1.766300917,1.762699366,1.759105206,1.755518317,1.751938701,1.738208532,1.724585891,1.711070061,1.693920732,1.676330209,1.644034624,1.612361312,1.581298232,1.550833583,1.52095592,1.557643294,1.595215678,1.63369441,1.673101187,1.712398052,1.74842751,1.787123084,1.828727365,1.873510718,1.921774387,1.973855257,2.030130148,null,null,null,null,null,null,null,null,null,null,null,null,null,null,null,null,null,null,null,null,null,null,null,null,null,null,null,null,null,null,null,null,null,null,null,null,null,null,null,null,null,null,null,null,null,null,null,null,null,null,null,null,null,null,null,null,null,null,null,null,null,null,null,null,null,null,null,null,null,null,null,null,null,null,null,null,null,null,null,null,null,null,null,null,null,null,null,null,null,null,null,null,null,null,null,null,null,null,null,null,null,null,null,null,null,null,null,null,null,null,null,null,null,null,null,null,null,null,null,null,null,null,null,null,null,null,null,null,null,null,null,null,null,null,null,null,null,null,null,null,null,null,null,null,null,null,1.22565937,1.235452771,1.245324373,1.255274892,1.265304923,1.275415063,1.285605907,1.295878291,1.306232691,1.316669941,1.327190518,1.344140291,1.361306548,1.37869215,1.396299601,1.414131999,1.432192206,1.450483084,1.469007373,1.487768412,1.506769061,1.531204939,1.556037188,1.581272244,1.606916428,1.632976532,1.659459352,1.686371565,1.712595224,1.733487725,1.754635215,1.791771412,1.829693675,1.868418455,1.907962799,1.948344111,1.989580035,2.03168869,2.074688673,2.1185987,2.163438082,2.18481946,2.206412315,2.228218555,2.250240326,2.272479534,2.294938564,2.317619562,2.340524912,2.363656521,2.387016773,2.412527084,2.43868351,2.465506077,2.49301672,2.521237135,2.550190449,2.573375463,null,null,null,null,null,null,null,null,null,null,null,null,null,null,null,null,null,null,null,null,null,null,null,null,null,null,null,null,null,null,null,null,null,null,null,null,null,null,null,null,null,null,null,null,null,null,null,null,null,null,null,null,null,null,null,null,null,null,null,null,null,null,null,null,null,null,null,null,null,null,null,null,null,null,null,null,null,null,null,null,null,null,null,null,null,null,null,null,null,null,null,null,null,null,null,null,null,null,null,null,null,null,null,null,null,null,null,null,null,null,null,null,null,null,null,null,null,null,null,null,null,null,null,null,null,null,null,null,null,null,null,null,null,null,null,null,null,null,null,null,null,null,null,null,null,null,1.047603607,1.049781919,1.051964879,1.054152369,1.056344271,1.058540821,1.060236573,1.061935067,1.063636184,1.065340161,1.067046762,1.082562208,1.098303199,1.11427319,1.130475283,1.146913052,1.16854322,1.190581441,1.213035226,1.235912442,1.259221196,1.281226277,1.303615928,1.326396823,1.349575758,1.373159885,1.396164894,1.419555426,1.443337679,1.467518449,1.492104292,1.513903022,1.53602016,1.558460474,1.581228614,1.604329467,1.623746872,1.643399358,1.663289666,1.683420658,1.703795314,1.713900924,1.722733021,1.731610656,1.740534067,1.749503374,1.752863526,1.756229997,1.759603024,1.762982607,1.766368508,1.769806623,1.773266554,1.776748776,1.780253291,1.783780456,1.787330389,1.790903211,1.211704135,1.224767923,1.237972498,1.251319408,1.264810205,1.278446555,1.291734338,1.305160284,1.318725705,1.332432151,1.346281052,1.354767442,1.363307357,1.371901035,1.380548954,1.389251351,1.398008585,1.406821012,1.415688992,1.42461288,1.433593035,1.445798635,1.458108068,1.470522404,1.483042359,1.495668888,1.508402944,1.52124536,1.534197211,1.547259331,1.560432553,1.612677336,1.666671276,1.719183922,1.762392163,1.806686401,1.852093935,1.89864254,1.946361184,1.995278955,2.045426369,2.064236403,2.083219528,2.102377176,2.121711016,2.141222477,2.160913467,2.180785656,2.200840473,2.221079826,2.241505146,2.270840168,2.300559044,2.330666542,2.361168385,2.39206934,2.423374653,2.455089569,2.48721981,2.519770384,2.552746773,2.579838276,2.605253458,2.63137722,2.658234119,2.685849905,2.714250803,2.743464708,null,null,null,null,null,null,null,null,null,null,null,null,null,null,null,null,null,null,null,null,null,null,null,null,null,null,null,null,null,null,null,null,null,null,null,null,null,null,null,null,2.84784174,2.886538982,2.925762177,2.965518475,3.005815029,3.046658754,3.069699764,3.092915297,3.116306067,3.139873981,3.163619995,3.164700508,3.16578126,3.166862488,3.167943954,3.169026136,3.158856153,3.148718596,3.138613939,3.12854147,3.118501425,3.108621597,3.098814964,3.089081049,3.079419374,3.069828987,3.06030941,3.050859928,null,null,null,null,null,null,null,null,null,null,null,null,null,null,null,null,null,null,null,null,null,null,null,null,null,null,null,null,null,null,null,null,null,null,null,null,null,null,null,null,null,null,null,null,null,null,null,null,null,null,null,null,null,null,null,null,null,null,null,null,null,null,null,null,null,null,null,null,1.818294644,1.832988977,1.847802162,1.862735033,1.877788663,1.892963886,1.899745226,1.906551003,1.9133811,1.920235634,1.927114725,1.93908,1.951119542,1.963233829,1.975423336,1.987688541,1.995777011,2.003898382,2.012053013,2.020240784,2.028461695,2.056300402,2.084521294,2.113129139,2.142129898,2.171528578,2.198521614,2.225850105,2.253518343,2.28153038,2.309890747,2.335908175,2.362218857,2.388825655,2.415732384,2.442942142,2.462799311,2.482818127,2.502999783,2.523345232,2.543856144,2.570188284,2.59143734,2.61286211,2.634464025,2.656244516,2.678848267,2.701644421,2.724634409,2.747819901,2.771203041,2.794570208,2.818134308,2.841897249,2.865860462,2.890025616,2.913143158,2.936445713,2.959934473,2.983611107,3.007477283,3.016028643,3.024604559,3.033204556,3.041829109,3.05047822,3.059151888,3.067850113,null,null,null,null,null,null,null,null,null,null,1.089583039,1.092287183,1.094997883,1.097715378,1.100439548,1.103170514,1.111244678,1.119377851,1.12757051,1.13582325,1.14413631,1.153553009,1.163047075,1.172619462,1.182270527,1.192000985,1.214993715,1.238429904,1.262318134,1.286667228,1.311486006,1.332599521,1.35405302,1.37585187,1.398001552,1.420507908,1.451746464,1.483672142,1.516299725,1.549644947,1.583723307,1.613787174,1.644421816,1.675637841,1.707446575,1.732247114,1.759360552,1.786898255,1.814867139,1.84327364,1.872124791,1.904421449,1.93727529,1.970695734,2.004693031,2.0392766,2.073808432,2.108925343,2.144636631,2.180952787,2.217883825,2.27330327,2.330107212,2.388330936,2.448009253,2.509178877,2.567984104,2.611011744,1.141769409,1.149555326,1.157394171,1.16528666,1.173232794,1.181233168,1.189169526,1.197159052,1.205202341,1.213299632,1.221451402,1.234321237,1.247326612,1.260469079,1.273749948,1.287170768,1.291937113,1.296720982,1.301522493,1.306341887,1.311179161,1.320658326,1.330206037,1.339822769,1.34950912,1.359265447,1.380540609,1.402148724,1.424094915,1.446384788,1.469023466,1.512836695,1.557956576,1.604422212,1.652273655,1.701552153,1.72277844,1.742355108,1.762154222,1.782178402,1.802430034,1.812666893,1.822961926,1.833315372,1.843727708,1.854199052,1.881823897,1.909860253,1.938314438,1.967192411,1.996500611,2.017451048,2.038621426,2.060014009,2.081631184,2.103474855,2.125199795,2.147148848,2.169324636,2.191729546,2.214365721,2.245840788,2.27776289,2.310139179,2.342975378,2.3762784,2.410054684,2.44431138,null,1.451182961,1.464792609,1.47852993,1.492395997,1.506392241,1.522023439,1.537816882,1.553774238,1.569897175,1.586187363,1.592103243,1.598041058,1.604001045,1.609983206,1.615987659,1.623901248,1.63185358,1.639844894,1.647875309,1.655945063,1.671615362,1.687433958,1.703402162,1.716963053,1.729195356,1.767424107,1.80649817,1.846436024,1.887256742,1.928980112,1.968637586,2.009110451,2.050415516,2.09256959,2.135590315,2.177501678,2.220235825,2.263808489,2.308236361,2.353536129,2.396707773,2.440671444,2.485441446,2.531032801,2.571736336,2.602967024,2.634576797,2.666570425,2.698952675,2.731728077,2.773245096,2.815392971,2.858181477,2.901620388,2.945719242,2.97183919,2.998190403,3.024775267,3.051596165,3.078654766,3.106996775,3.135961056,3.165565014,3.195826054,3.226762533,3.258393526,3.290738106,null,null,null,null,null,null,null,null,null,null,1.304900289,1.304900289,1.304900289,1.304900289,1.304900289,1.304900289,1.304900289,1.304900289,1.304900289,1.304900289,1.304900289,1.305250764,1.305601358,1.305951953,1.306302786,1.306653619,1.307004452,1.307355523,1.307706594,1.308057904,1.308409214,1.308744192,1.309079409,1.309414744,1.30975008,1.310085535,1.31042099,1.310756683,1.311092377,1.311428189,1.311764002,1.3293643,1.347200632,1.365276456,1.383594632,1.402158737,1.42097187,1.44003737,1.459358692,1.478939295,1.498782635,1.508247495,1.517772079,1.527356982,1.537002325,1.546708465,1.556475997,1.566305161,1.576196551,1.586150289,1.596166849,1.609234691,1.622409344,1.635692,1.649083376,1.662584305,1.67619586,1.689918876,1.1111269,1.115081429,1.119050145,1.123033047,1.127030015,1.131041288,1.134261727,1.137491345,1.140730143,1.143978119,1.147235394,1.145892382,1.14455092,1.143210888,1.141872525,1.140535831,1.142593145,1.144654155,1.146718979,1.148787379,1.150859594,1.162609816,1.174479961,1.186471224,1.198585033,1.210822463,1.223715067,1.236745,1.249913692,1.263222575,1.276673198,1.291949987,1.307409644,1.323054314,1.338886142,1.354907393,1.373221874,1.391783834,1.410596728,1.429663897,1.448988795,1.473056674,1.497524261,1.522398233,1.547685385,1.57339263,1.593799233,1.614470601,1.63541007,1.656621099,1.678107262,1.703820109,1.724788547,1.744670868,1.76478231,1.785125732,1.821036458,1.857669592,1.895039678,1.933161497,1.97205019,2.018983364,2.067033291,2.116226673,2.166590929,2.218153954,2.27094388,2.324990273,null,null,null,null,null,null,null,null,null,null,null,null,null,null,null,null,null,null,null,null,null,null,null,null,null,null,null,null,null,null,null,null,null,null,null,null,null,null,null,null,2.765498161,2.799876213,2.834681749,2.869920015,2.905596018,2.941715717,2.967165709,2.992835999,3.018728256,3.044844627,3.071186781,3.091333866,3.111612797,3.132025003,3.152570963,3.173251629,3.181306839,3.189382792,3.197478771,3.205595732,3.213732958,3.221972466,3.230260849,3.23859787,3.246984243,3.255420208,3.263906479,3.272443056,1.721686363,1.728944778,1.736233711,1.743553638,1.750904202,1.758285761,1.768059373,1.777887225,1.787769794,1.7977072,1.807699919,1.814166427,1.820656061,1.827168941,1.833705068,1.840264559,1.859355211,1.87864387,1.898132682,1.917823672,1.937718868,1.952311039,1.967013001,1.981825709,1.996749997,2.011786699,2.037751913,2.064052105,2.090692043,2.117675543,2.14500761,2.171497345,2.19831419,2.225462198,2.252945662,2.280768394,2.293541908,2.306386948,2.319303989,2.332293272,2.345355272,2.354188919,2.363055706,2.371955872,2.380889416,2.389856815,2.420107126,2.450740099,2.481760979,2.513174534,2.544985533,2.54196763,2.538953304,2.535942554,2.532935381,2.529931784,2.54152894,2.553179264,2.563280344,2.57118535,2.579114676,2.600324631,2.621709108,2.6432693,2.665006876,2.686923265,2.709019899,2.731298208,2.583212852,2.595999956,2.608850241,2.621764421,2.634742498,2.647784472,2.662317276,2.676929951,2.691622734,2.706396103,2.721250534,2.755555153,2.790292025,2.825466871,2.861085176,2.897152424,2.928370714,2.959925413,2.991819859,3.024058342,3.056643963,3.089885235,3.123487711,3.157455921,3.191793442,3.226504326,3.249995708,3.273658037,3.297492504,3.321500778,3.345683813,3.354768991,3.363878965,3.373013735,3.3821733,3.39135766,3.400060654,3.408786058,3.417533636,3.426303864,3.435096502,3.452302456,3.469594955,3.486973524,3.504439592,3.52199316,3.533238888,3.544520617,3.555838585,3.567192554,3.578582525,3.588337183,3.598118544,3.60792613,3.617760897,3.627622366,3.642328978,3.657094717,3.671920776,3.686806679,3.701753378,3.707010984,3.712275982,3.717548609,3.722828627,3.728116274,3.733411312,3.73871398,null,null,null,null,null,null,null,null,null,null,null,null,null,null,null,null,null,null,null,null,null,null,null,null,null,null,null,null,null,null,null,null,null,null,null,null,null,null,null,null,null,null,null,null,null,null,null,null,null,null,null,null,null,null,null,null,null,null,null,null,null,null,null,null,null,null,null,null,null,null,null,null,null,null,null,null,null,null,null,null,null,null,null,null,null,null,null,null,null,null,null,null,null,null,null,null,null,null,null,null,null,null,null,null,null,null,null,null,null,null,null,null,null,null,null,null,null,null,null,null,null,null,null,null,null,null,null,null,null,null,null,null,null,null,null,null,1.222430348,1.232072592,1.24179101,1.25158596,1.261458278,1.271408319,1.276051402,1.280711412,1.28538847,1.290082574,1.294793725,1.301710486,1.308664203,1.315654993,1.322683215,1.329748988,1.339734793,1.34979558,1.359931946,1.370144486,1.380433679,1.412070513,1.444432497,1.477535963,1.511398315,1.546036601,1.59543252,1.646406651,1.699009299,1.742318749,1.784113884,1.791624188,1.799166083,1.806739688,1.814345241,1.821982861,1.820450664,1.818919778,1.817390084,1.815861821,1.81433475,1.848043561,1.882378459,1.917351484,1.952974081,1.989258647,2.020650864,2.052538633,2.084929228,2.117831469,2.151252508,2.1893363,2.228094578,2.267538548,2.307681084,2.348534346,2.397188187,2.4468503,2.497540951,2.549281836,2.58825922,2.620515108,2.65317297,2.686237574,2.719714403,2.753608465,2.787925005,2.822669268,null,null,null,null,null,null,null,null,null,null,null,null,null,null,null,null,null,null,null,null,null,null,null,null,null,null,null,null,null,null,null,null,null,null,null,null,null,null,null,null,null,null,null,null,null,null,null,null,null,null,null,null,null,null,null,null,null,null,null,null,null,null,null,null,null,null,null,null,null,null,null,null,null,null,null,null,null,null,null,null,null,null,null,null,null,null,null,null,1.494160056,1.516713619,1.539607763,1.562847376,1.586437821,1.610384226,1.637448788,1.664968252,1.69295013,1.718378425,1.740101099,1.744709253,1.749329567,1.75396204,1.758606791,1.763263941,1.750278831,1.737389445,1.724594831,1.711894512,1.696075678,1.721935034,1.744884014,1.768139005,1.79170382,1.815582752,1.84584868,1.87661922,1.907902718,1.939707637,1.972042799,2.013080597,2.05497241,2.097735882,2.14138937,2.185951471,2.231018543,2.277014494,2.323958874,2.371871233,2.420771122,2.475246191,2.532614231,2.582211494,2.624783993,2.66934967,2.716024876,2.764933825,null,null,null,null,null,null,null,null,null,null,null,null,null,null,null,null,null,null,null,null,null,null,null,null,null,null,null,null,null,null,null,null,null,null,null,null,null,null,null,1.035200834,1.039842725,1.049937248,1.060129762,1.070421338,1.080812693,1.091305017,1.107328296,1.123586774,1.140084028,1.156823516,1.173808813,1.194817066,1.216201425,1.237968445,1.26012516,1.282678246,1.308345318,1.334525943,1.361230493,1.388469458,1.416253328,1.450821757,1.488719702,1.530339479,1.576131344,1.626613379,1.682383537,1.735455394,1.652357697,1.669970632,1.687771201,1.705761552,1.720290184,1.734093308,1.735023499,1.735954165,1.736885309,1.73781693,1.738749146,1.744220972,1.749710202,1.755216599,1.760740399,1.766281486,1.771840096,1.777416229,1.783009768,1.788621068,1.794249892,1.80132544,1.808428764,1.815560222,1.822719693,1.829907417,1.837123513,1.8443681,1.851641297,1.858942986,1.866273642,1.870389581,1.87451458,1.878648758,1.882791996,1.886944294,1.891106009,1.895276666,1.89945662,1.903645754,1.907844067,1.924955845,1.942221165,1.959641337,1.977217793,1.994951844,2.012844801,2.030898571,2.049113989,2.067492962,2.086036682,2.124513388,2.163699865,2.203609228,2.244254351,2.2856493,2.327808142,2.370744228,2.414472342,2.459007025,2.504363298,2.557714462,2.596011639,2.63514924,2.675950527,2.718503475,2.762902021,2.809245825,null,null,null,null,null,1.241530061,1.248709679,1.255930781,1.263193727,1.270498514,1.27784574,1.28917408,1.300602913,1.312133074,1.323765397,1.335500956,1.360015392,1.384979725,1.410402536,1.436291814,1.462656379,1.467038393,1.471433401,1.475841761,1.480263233,1.484697938,1.500937819,1.517355323,1.533952355,1.550730944,1.567692995,1.596811056,1.626469851,1.65667963,1.687450409,1.71641469,1.738721609,1.761318445,1.784209013,1.807397008,1.830886364,1.88179481,1.934118867,1.987897992,2.043172359,2.099983454,2.093236923,2.086512089,2.079808712,2.073127031,2.06646657,2.08502984,2.103759527,2.122657776,2.14172554,2.160964727,2.173061371,2.185225725,2.197458029,2.209758997,2.22212863,2.27544117,2.330032349,2.385933638,2.443176031,2.501791477,2.561214685,2.60242486,null,null,null,null,1.179989815,1.188661456,1.199262023,1.209957004,1.220747352,1.231634021,1.242617726,1.254635572,1.266769528,1.279020905,1.291390777,1.303880334,1.314876676,1.325965643,1.33714819,1.348425031,1.359797001,1.381818175,1.404195905,1.42693603,1.450044513,1.473527074,1.487130404,1.500859261,1.514714956,1.528698444,1.542811036,1.574376106,1.606586933,1.639456868,1.672999144,1.707227826,1.726314783,1.745129943,1.764150023,1.783377409,1.802814484,1.840176702,1.878313184,1.917239904,1.956973553,1.99753058,2.011583805,2.025735855,2.039987564,2.054339409,2.068792343,2.105179071,2.142206192,2.179884195,2.218225002,2.257240295,2.27985549,2.302697182,2.325767994,2.349069595,2.372604847,2.415822744,2.4598279,2.504634857,2.550257683,2.584653139,2.616257429,2.648247957],\"type\":\"bar\"}],                        {\"template\":{\"data\":{\"bar\":[{\"error_x\":{\"color\":\"#2a3f5f\"},\"error_y\":{\"color\":\"#2a3f5f\"},\"marker\":{\"line\":{\"color\":\"#E5ECF6\",\"width\":0.5},\"pattern\":{\"fillmode\":\"overlay\",\"size\":10,\"solidity\":0.2}},\"type\":\"bar\"}],\"barpolar\":[{\"marker\":{\"line\":{\"color\":\"#E5ECF6\",\"width\":0.5},\"pattern\":{\"fillmode\":\"overlay\",\"size\":10,\"solidity\":0.2}},\"type\":\"barpolar\"}],\"carpet\":[{\"aaxis\":{\"endlinecolor\":\"#2a3f5f\",\"gridcolor\":\"white\",\"linecolor\":\"white\",\"minorgridcolor\":\"white\",\"startlinecolor\":\"#2a3f5f\"},\"baxis\":{\"endlinecolor\":\"#2a3f5f\",\"gridcolor\":\"white\",\"linecolor\":\"white\",\"minorgridcolor\":\"white\",\"startlinecolor\":\"#2a3f5f\"},\"type\":\"carpet\"}],\"choropleth\":[{\"colorbar\":{\"outlinewidth\":0,\"ticks\":\"\"},\"type\":\"choropleth\"}],\"contour\":[{\"colorbar\":{\"outlinewidth\":0,\"ticks\":\"\"},\"colorscale\":[[0.0,\"#0d0887\"],[0.1111111111111111,\"#46039f\"],[0.2222222222222222,\"#7201a8\"],[0.3333333333333333,\"#9c179e\"],[0.4444444444444444,\"#bd3786\"],[0.5555555555555556,\"#d8576b\"],[0.6666666666666666,\"#ed7953\"],[0.7777777777777778,\"#fb9f3a\"],[0.8888888888888888,\"#fdca26\"],[1.0,\"#f0f921\"]],\"type\":\"contour\"}],\"contourcarpet\":[{\"colorbar\":{\"outlinewidth\":0,\"ticks\":\"\"},\"type\":\"contourcarpet\"}],\"heatmap\":[{\"colorbar\":{\"outlinewidth\":0,\"ticks\":\"\"},\"colorscale\":[[0.0,\"#0d0887\"],[0.1111111111111111,\"#46039f\"],[0.2222222222222222,\"#7201a8\"],[0.3333333333333333,\"#9c179e\"],[0.4444444444444444,\"#bd3786\"],[0.5555555555555556,\"#d8576b\"],[0.6666666666666666,\"#ed7953\"],[0.7777777777777778,\"#fb9f3a\"],[0.8888888888888888,\"#fdca26\"],[1.0,\"#f0f921\"]],\"type\":\"heatmap\"}],\"heatmapgl\":[{\"colorbar\":{\"outlinewidth\":0,\"ticks\":\"\"},\"colorscale\":[[0.0,\"#0d0887\"],[0.1111111111111111,\"#46039f\"],[0.2222222222222222,\"#7201a8\"],[0.3333333333333333,\"#9c179e\"],[0.4444444444444444,\"#bd3786\"],[0.5555555555555556,\"#d8576b\"],[0.6666666666666666,\"#ed7953\"],[0.7777777777777778,\"#fb9f3a\"],[0.8888888888888888,\"#fdca26\"],[1.0,\"#f0f921\"]],\"type\":\"heatmapgl\"}],\"histogram\":[{\"marker\":{\"pattern\":{\"fillmode\":\"overlay\",\"size\":10,\"solidity\":0.2}},\"type\":\"histogram\"}],\"histogram2d\":[{\"colorbar\":{\"outlinewidth\":0,\"ticks\":\"\"},\"colorscale\":[[0.0,\"#0d0887\"],[0.1111111111111111,\"#46039f\"],[0.2222222222222222,\"#7201a8\"],[0.3333333333333333,\"#9c179e\"],[0.4444444444444444,\"#bd3786\"],[0.5555555555555556,\"#d8576b\"],[0.6666666666666666,\"#ed7953\"],[0.7777777777777778,\"#fb9f3a\"],[0.8888888888888888,\"#fdca26\"],[1.0,\"#f0f921\"]],\"type\":\"histogram2d\"}],\"histogram2dcontour\":[{\"colorbar\":{\"outlinewidth\":0,\"ticks\":\"\"},\"colorscale\":[[0.0,\"#0d0887\"],[0.1111111111111111,\"#46039f\"],[0.2222222222222222,\"#7201a8\"],[0.3333333333333333,\"#9c179e\"],[0.4444444444444444,\"#bd3786\"],[0.5555555555555556,\"#d8576b\"],[0.6666666666666666,\"#ed7953\"],[0.7777777777777778,\"#fb9f3a\"],[0.8888888888888888,\"#fdca26\"],[1.0,\"#f0f921\"]],\"type\":\"histogram2dcontour\"}],\"mesh3d\":[{\"colorbar\":{\"outlinewidth\":0,\"ticks\":\"\"},\"type\":\"mesh3d\"}],\"parcoords\":[{\"line\":{\"colorbar\":{\"outlinewidth\":0,\"ticks\":\"\"}},\"type\":\"parcoords\"}],\"pie\":[{\"automargin\":true,\"type\":\"pie\"}],\"scatter\":[{\"marker\":{\"colorbar\":{\"outlinewidth\":0,\"ticks\":\"\"}},\"type\":\"scatter\"}],\"scatter3d\":[{\"line\":{\"colorbar\":{\"outlinewidth\":0,\"ticks\":\"\"}},\"marker\":{\"colorbar\":{\"outlinewidth\":0,\"ticks\":\"\"}},\"type\":\"scatter3d\"}],\"scattercarpet\":[{\"marker\":{\"colorbar\":{\"outlinewidth\":0,\"ticks\":\"\"}},\"type\":\"scattercarpet\"}],\"scattergeo\":[{\"marker\":{\"colorbar\":{\"outlinewidth\":0,\"ticks\":\"\"}},\"type\":\"scattergeo\"}],\"scattergl\":[{\"marker\":{\"colorbar\":{\"outlinewidth\":0,\"ticks\":\"\"}},\"type\":\"scattergl\"}],\"scattermapbox\":[{\"marker\":{\"colorbar\":{\"outlinewidth\":0,\"ticks\":\"\"}},\"type\":\"scattermapbox\"}],\"scatterpolar\":[{\"marker\":{\"colorbar\":{\"outlinewidth\":0,\"ticks\":\"\"}},\"type\":\"scatterpolar\"}],\"scatterpolargl\":[{\"marker\":{\"colorbar\":{\"outlinewidth\":0,\"ticks\":\"\"}},\"type\":\"scatterpolargl\"}],\"scatterternary\":[{\"marker\":{\"colorbar\":{\"outlinewidth\":0,\"ticks\":\"\"}},\"type\":\"scatterternary\"}],\"surface\":[{\"colorbar\":{\"outlinewidth\":0,\"ticks\":\"\"},\"colorscale\":[[0.0,\"#0d0887\"],[0.1111111111111111,\"#46039f\"],[0.2222222222222222,\"#7201a8\"],[0.3333333333333333,\"#9c179e\"],[0.4444444444444444,\"#bd3786\"],[0.5555555555555556,\"#d8576b\"],[0.6666666666666666,\"#ed7953\"],[0.7777777777777778,\"#fb9f3a\"],[0.8888888888888888,\"#fdca26\"],[1.0,\"#f0f921\"]],\"type\":\"surface\"}],\"table\":[{\"cells\":{\"fill\":{\"color\":\"#EBF0F8\"},\"line\":{\"color\":\"white\"}},\"header\":{\"fill\":{\"color\":\"#C8D4E3\"},\"line\":{\"color\":\"white\"}},\"type\":\"table\"}]},\"layout\":{\"annotationdefaults\":{\"arrowcolor\":\"#2a3f5f\",\"arrowhead\":0,\"arrowwidth\":1},\"autotypenumbers\":\"strict\",\"coloraxis\":{\"colorbar\":{\"outlinewidth\":0,\"ticks\":\"\"}},\"colorscale\":{\"diverging\":[[0,\"#8e0152\"],[0.1,\"#c51b7d\"],[0.2,\"#de77ae\"],[0.3,\"#f1b6da\"],[0.4,\"#fde0ef\"],[0.5,\"#f7f7f7\"],[0.6,\"#e6f5d0\"],[0.7,\"#b8e186\"],[0.8,\"#7fbc41\"],[0.9,\"#4d9221\"],[1,\"#276419\"]],\"sequential\":[[0.0,\"#0d0887\"],[0.1111111111111111,\"#46039f\"],[0.2222222222222222,\"#7201a8\"],[0.3333333333333333,\"#9c179e\"],[0.4444444444444444,\"#bd3786\"],[0.5555555555555556,\"#d8576b\"],[0.6666666666666666,\"#ed7953\"],[0.7777777777777778,\"#fb9f3a\"],[0.8888888888888888,\"#fdca26\"],[1.0,\"#f0f921\"]],\"sequentialminus\":[[0.0,\"#0d0887\"],[0.1111111111111111,\"#46039f\"],[0.2222222222222222,\"#7201a8\"],[0.3333333333333333,\"#9c179e\"],[0.4444444444444444,\"#bd3786\"],[0.5555555555555556,\"#d8576b\"],[0.6666666666666666,\"#ed7953\"],[0.7777777777777778,\"#fb9f3a\"],[0.8888888888888888,\"#fdca26\"],[1.0,\"#f0f921\"]]},\"colorway\":[\"#636efa\",\"#EF553B\",\"#00cc96\",\"#ab63fa\",\"#FFA15A\",\"#19d3f3\",\"#FF6692\",\"#B6E880\",\"#FF97FF\",\"#FECB52\"],\"font\":{\"color\":\"#2a3f5f\"},\"geo\":{\"bgcolor\":\"white\",\"lakecolor\":\"white\",\"landcolor\":\"#E5ECF6\",\"showlakes\":true,\"showland\":true,\"subunitcolor\":\"white\"},\"hoverlabel\":{\"align\":\"left\"},\"hovermode\":\"closest\",\"mapbox\":{\"style\":\"light\"},\"paper_bgcolor\":\"white\",\"plot_bgcolor\":\"#E5ECF6\",\"polar\":{\"angularaxis\":{\"gridcolor\":\"white\",\"linecolor\":\"white\",\"ticks\":\"\"},\"bgcolor\":\"#E5ECF6\",\"radialaxis\":{\"gridcolor\":\"white\",\"linecolor\":\"white\",\"ticks\":\"\"}},\"scene\":{\"xaxis\":{\"backgroundcolor\":\"#E5ECF6\",\"gridcolor\":\"white\",\"gridwidth\":2,\"linecolor\":\"white\",\"showbackground\":true,\"ticks\":\"\",\"zerolinecolor\":\"white\"},\"yaxis\":{\"backgroundcolor\":\"#E5ECF6\",\"gridcolor\":\"white\",\"gridwidth\":2,\"linecolor\":\"white\",\"showbackground\":true,\"ticks\":\"\",\"zerolinecolor\":\"white\"},\"zaxis\":{\"backgroundcolor\":\"#E5ECF6\",\"gridcolor\":\"white\",\"gridwidth\":2,\"linecolor\":\"white\",\"showbackground\":true,\"ticks\":\"\",\"zerolinecolor\":\"white\"}},\"shapedefaults\":{\"line\":{\"color\":\"#2a3f5f\"}},\"ternary\":{\"aaxis\":{\"gridcolor\":\"white\",\"linecolor\":\"white\",\"ticks\":\"\"},\"baxis\":{\"gridcolor\":\"white\",\"linecolor\":\"white\",\"ticks\":\"\"},\"bgcolor\":\"#E5ECF6\",\"caxis\":{\"gridcolor\":\"white\",\"linecolor\":\"white\",\"ticks\":\"\"}},\"title\":{\"x\":0.05},\"xaxis\":{\"automargin\":true,\"gridcolor\":\"white\",\"linecolor\":\"white\",\"ticks\":\"\",\"title\":{\"standoff\":15},\"zerolinecolor\":\"white\",\"zerolinewidth\":2},\"yaxis\":{\"automargin\":true,\"gridcolor\":\"white\",\"linecolor\":\"white\",\"ticks\":\"\",\"title\":{\"standoff\":15},\"zerolinecolor\":\"white\",\"zerolinewidth\":2}}},\"title\":{\"text\":\"A Figure Displayed with fig.show()\"}},                        {\"responsive\": true}                    ).then(function(){\n",
              "                            \n",
              "var gd = document.getElementById('75f2c4be-effa-4472-9e92-4f123fc0ed1a');\n",
              "var x = new MutationObserver(function (mutations, observer) {{\n",
              "        var display = window.getComputedStyle(gd).display;\n",
              "        if (!display || display === 'none') {{\n",
              "            console.log([gd, 'removed!']);\n",
              "            Plotly.purge(gd);\n",
              "            observer.disconnect();\n",
              "        }}\n",
              "}});\n",
              "\n",
              "// Listen for the removal of the full notebook cells\n",
              "var notebookContainer = gd.closest('#notebook-container');\n",
              "if (notebookContainer) {{\n",
              "    x.observe(notebookContainer, {childList: true});\n",
              "}}\n",
              "\n",
              "// Listen for the clearing of the current output cell\n",
              "var outputEl = gd.closest('.output');\n",
              "if (outputEl) {{\n",
              "    x.observe(outputEl, {childList: true});\n",
              "}}\n",
              "\n",
              "                        })                };                            </script>        </div>\n",
              "</body>\n",
              "</html>"
            ]
          },
          "metadata": {}
        }
      ]
    },
    {
      "cell_type": "code",
      "source": [
        "df_f1 = df.groupby('country').sum().reset_index()\n",
        "df_f1\n",
        "sns.barplot(x=df_f1['country'], y=df_f1['hc'])"
      ],
      "metadata": {
        "colab": {
          "base_uri": "https://localhost:8080/",
          "height": 296
        },
        "id": "wqUqmmae2Qv-",
        "outputId": "770ee821-5d65-41d3-88ed-4ca4ca33b95d"
      },
      "execution_count": 75,
      "outputs": [
        {
          "output_type": "execute_result",
          "data": {
            "text/plain": [
              "<matplotlib.axes._subplots.AxesSubplot at 0x7fd2648e0c90>"
            ]
          },
          "metadata": {},
          "execution_count": 75
        },
        {
          "output_type": "display_data",
          "data": {
            "text/plain": [
              "<Figure size 432x288 with 1 Axes>"
            ],
            "image/png": "[encoded data removed]"
          },
          "metadata": {
            "needs_background": "light"
          }
        }
      ]
    },
    {
      "cell_type": "code",
      "source": [
        "df_f2 = df_f1[df_f1['hc'] > 200]\n",
        "sns.barplot(y=df_f2['country'], x=df_f2['hc'])"
      ],
      "metadata": {
        "colab": {
          "base_uri": "https://localhost:8080/",
          "height": 296
        },
        "id": "8C6SvGi34d0N",
        "outputId": "e48e9719-d564-47ed-d616-457fb0a3f9db"
      },
      "execution_count": 87,
      "outputs": [
        {
          "output_type": "execute_result",
          "data": {
            "text/plain": [
              "<matplotlib.axes._subplots.AxesSubplot at 0x7fd2680b5190>"
            ]
          },
          "metadata": {},
          "execution_count": 87
        },
        {
          "output_type": "display_data",
          "data": {
            "text/plain": [
              "<Figure size 432x288 with 1 Axes>"
            ],
            "image/png": "[encoded data removed]"
          },
          "metadata": {
            "needs_background": "light"
          }
        }
      ]
    },
    {
      "cell_type": "code",
      "source": [
        "df_f2 = df_f1[(df_f1['hc'] < 200) & (df_f1['hc'] > 0)]\n",
        "fig, ax = plt.subplots(figsize = (20, 40))\n",
        "fig_1 = sns.barplot(y=df_f2['country'], x=df_f2['hc'])\n",
        "plt.show()\n",
        "fig = fig_1.get_figure()\n",
        "fig.savefig(\"output.png\")\n"
      ],
      "metadata": {
        "colab": {
          "base_uri": "https://localhost:8080/",
          "height": 1000
        },
        "id": "dahFRPay7hVC",
        "outputId": "bfac8395-504a-4a0f-e0a8-c564665d2f18"
      },
      "execution_count": 106,
      "outputs": [
        {
          "output_type": "display_data",
          "data": {
            "text/plain": [
              "<Figure size 1440x2880 with 1 Axes>"
            ],
            "image/png": "[encoded data removed]"
          },
          "metadata": {
            "needs_background": "light"
          }
        }
      ]
    },
    {
      "cell_type": "code",
      "source": [
        "df.keys()\n",
        "\n",
        "fig, ax = plt.subplots(figsize = (50, 5))\n",
        "sns.boxplot(data = df, x ='pop')"
      ],
      "metadata": {
        "colab": {
          "base_uri": "https://localhost:8080/",
          "height": 176
        },
        "id": "nvm67Zf3EKOU",
        "outputId": "018046ff-135f-4dfc-f95f-62ecc9d0b03f"
      },
      "execution_count": 115,
      "outputs": [
        {
          "output_type": "execute_result",
          "data": {
            "text/plain": [
              "<matplotlib.axes._subplots.AxesSubplot at 0x7fd263ddf5d0>"
            ]
          },
          "metadata": {},
          "execution_count": 115
        },
        {
          "output_type": "display_data",
          "data": {
            "text/plain": [
              "<Figure size 3600x360 with 1 Axes>"
            ],
            "image/png": "[encoded data removed]"
          },
          "metadata": {
            "needs_background": "light"
          }
        }
      ]
    },
    {
      "cell_type": "code",
      "source": [
        "df.keys()\n",
        "\n",
        "sns.boxplot(data = df, x ='hc')"
      ],
      "metadata": {
        "colab": {
          "base_uri": "https://localhost:8080/",
          "height": 296
        },
        "id": "7nmHtTIGE07d",
        "outputId": "2314ef55-d9f3-4ce5-a037-795d2e6348ad"
      },
      "execution_count": 116,
      "outputs": [
        {
          "output_type": "execute_result",
          "data": {
            "text/plain": [
              "<matplotlib.axes._subplots.AxesSubplot at 0x7fd263ed9d50>"
            ]
          },
          "metadata": {},
          "execution_count": 116
        },
        {
          "output_type": "display_data",
          "data": {
            "text/plain": [
              "<Figure size 432x288 with 1 Axes>"
            ],
            "image/png": "[encoded data removed]"
          },
          "metadata": {
            "needs_background": "light"
          }
        }
      ]
    },
    {
      "cell_type": "code",
      "source": [
        "df_f2 = df_f1[(df_f1['hc'] < 200) & (df_f1['hc'] > 180)]\n",
        "print(df_f2.keys())\n",
        "\n",
        "fig, ax = plt.subplots(figsize = (50, 30))\n",
        "sns.boxplot(data = df_f2, x ='hc', y = 'country')"
      ],
      "metadata": {
        "colab": {
          "base_uri": "https://localhost:8080/",
          "height": 780
        },
        "id": "I6n1esKZFvdK",
        "outputId": "409e98f3-8922-4f78-9861-59acac9c0e61"
      },
      "execution_count": 122,
      "outputs": [
        {
          "output_type": "stream",
          "name": "stdout",
          "text": [
            "Index(['country', 'rgdpo', 'pop', 'emp', 'avh', 'hc'], dtype='object')\n"
          ]
        },
        {
          "output_type": "execute_result",
          "data": {
            "text/plain": [
              "<matplotlib.axes._subplots.AxesSubplot at 0x7fd261c03a50>"
            ]
          },
          "metadata": {},
          "execution_count": 122
        },
        {
          "output_type": "display_data",
          "data": {
            "text/plain": [
              "<Figure size 3600x2160 with 1 Axes>"
            ],
            "image/png": "[encoded data removed]"
          },
          "metadata": {
            "needs_background": "light"
          }
        }
      ]
    },
    {
      "cell_type": "code",
      "source": [
        "df_f2"
      ],
      "metadata": {
        "colab": {
          "base_uri": "https://localhost:8080/",
          "height": 206
        },
        "id": "G1IIQBBuGWpi",
        "outputId": "99652263-f9de-45e3-88cc-f69e457b6cba"
      },
      "execution_count": 124,
      "outputs": [
        {
          "output_type": "execute_result",
          "data": {
            "text/plain": [
              "         country         rgdpo  pop         emp            avh          hc\n",
              "9        Austria  1.205758e+07  491  242.464391  126678.261961  194.357976\n",
              "16       Belgium  1.458670e+07  639  263.534254  119049.228029  180.827855\n",
              "63       Finland  7.364173e+06  299  156.906927  126155.983888  188.081133\n",
              "117  Netherlands  2.571526e+07  927  442.784485  110644.804078  195.982299\n",
              "157       Sweden  1.430804e+07  537  281.167694  114209.191654  199.657250"
            ],
            "text/html": [
              "\n",
              "  <div id=\"df-3f32bcb9-03ea-45b8-a3ef-c5c6adf0853e\">\n",
              "    <div class=\"colab-df-container\">\n",
              "      <div>\n",
              "<style scoped>\n",
              "    .dataframe tbody tr th:only-of-type {\n",
              "        vertical-align: middle;\n",
              "    }\n",
              "\n",
              "    .dataframe tbody tr th {\n",
              "        vertical-align: top;\n",
              "    }\n",
              "\n",
              "    .dataframe thead th {\n",
              "        text-align: right;\n",
              "    }\n",
              "</style>\n",
              "<table border=\"1\" class=\"dataframe\">\n",
              "  <thead>\n",
              "    <tr style=\"text-align: right;\">\n",
              "      <th></th>\n",
              "      <th>country</th>\n",
              "      <th>rgdpo</th>\n",
              "      <th>pop</th>\n",
              "      <th>emp</th>\n",
              "      <th>avh</th>\n",
              "      <th>hc</th>\n",
              "    </tr>\n",
              "  </thead>\n",
              "  <tbody>\n",
              "    <tr>\n",
              "      <th>9</th>\n",
              "      <td>Austria</td>\n",
              "      <td>1.205758e+07</td>\n",
              "      <td>491</td>\n",
              "      <td>242.464391</td>\n",
              "      <td>126678.261961</td>\n",
              "      <td>194.357976</td>\n",
              "    </tr>\n",
              "    <tr>\n",
              "      <th>16</th>\n",
              "      <td>Belgium</td>\n",
              "      <td>1.458670e+07</td>\n",
              "      <td>639</td>\n",
              "      <td>263.534254</td>\n",
              "      <td>119049.228029</td>\n",
              "      <td>180.827855</td>\n",
              "    </tr>\n",
              "    <tr>\n",
              "      <th>63</th>\n",
              "      <td>Finland</td>\n",
              "      <td>7.364173e+06</td>\n",
              "      <td>299</td>\n",
              "      <td>156.906927</td>\n",
              "      <td>126155.983888</td>\n",
              "      <td>188.081133</td>\n",
              "    </tr>\n",
              "    <tr>\n",
              "      <th>117</th>\n",
              "      <td>Netherlands</td>\n",
              "      <td>2.571526e+07</td>\n",
              "      <td>927</td>\n",
              "      <td>442.784485</td>\n",
              "      <td>110644.804078</td>\n",
              "      <td>195.982299</td>\n",
              "    </tr>\n",
              "    <tr>\n",
              "      <th>157</th>\n",
              "      <td>Sweden</td>\n",
              "      <td>1.430804e+07</td>\n",
              "      <td>537</td>\n",
              "      <td>281.167694</td>\n",
              "      <td>114209.191654</td>\n",
              "      <td>199.657250</td>\n",
              "    </tr>\n",
              "  </tbody>\n",
              "</table>\n",
              "</div>\n",
              "      <button class=\"colab-df-convert\" onclick=\"convertToInteractive('df-3f32bcb9-03ea-45b8-a3ef-c5c6adf0853e')\"\n",
              "              title=\"Convert this dataframe to an interactive table.\"\n",
              "              style=\"display:none;\">\n",
              "        \n",
              "  <svg xmlns=\"http://www.w3.org/2000/svg\" height=\"24px\"viewBox=\"0 0 24 24\"\n",
              "       width=\"24px\">\n",
              "    <path d=\"M0 0h24v24H0V0z\" fill=\"none\"/>\n",
              "    <path d=\"M18.56 5.44l.94 2.06.94-2.06 2.06-.94-2.06-.94-.94-2.06-.94 2.06-2.06.94zm-11 1L8.5 8.5l.94-2.06 2.06-.94-2.06-.94L8.5 2.5l-.94 2.06-2.06.94zm10 10l.94 2.06.94-2.06 2.06-.94-2.06-.94-.94-2.06-.94 2.06-2.06.94z\"/><path d=\"M17.41 7.96l-1.37-1.37c-.4-.4-.92-.59-1.43-.59-.52 0-1.04.2-1.43.59L10.3 9.45l-7.72 7.72c-.78.78-.78 2.05 0 2.83L4 21.41c.39.39.9.59 1.41.59.51 0 1.02-.2 1.41-.59l7.78-7.78 2.81-2.81c.8-.78.8-2.07 0-2.86zM5.41 20L4 18.59l7.72-7.72 1.47 1.35L5.41 20z\"/>\n",
              "  </svg>\n",
              "      </button>\n",
              "      \n",
              "  <style>\n",
              "    .colab-df-container {\n",
              "      display:flex;\n",
              "      flex-wrap:wrap;\n",
              "      gap: 12px;\n",
              "    }\n",
              "\n",
              "    .colab-df-convert {\n",
              "      background-color: #E8F0FE;\n",
              "      border: none;\n",
              "      border-radius: 50%;\n",
              "      cursor: pointer;\n",
              "      display: none;\n",
              "      fill: #1967D2;\n",
              "      height: 32px;\n",
              "      padding: 0 0 0 0;\n",
              "      width: 32px;\n",
              "    }\n",
              "\n",
              "    .colab-df-convert:hover {\n",
              "      background-color: #E2EBFA;\n",
              "      box-shadow: 0px 1px 2px rgba(60, 64, 67, 0.3), 0px 1px 3px 1px rgba(60, 64, 67, 0.15);\n",
              "      fill: #174EA6;\n",
              "    }\n",
              "\n",
              "    [theme=dark] .colab-df-convert {\n",
              "      background-color: #3B4455;\n",
              "      fill: #D2E3FC;\n",
              "    }\n",
              "\n",
              "    [theme=dark] .colab-df-convert:hover {\n",
              "      background-color: #434B5C;\n",
              "      box-shadow: 0px 1px 3px 1px rgba(0, 0, 0, 0.15);\n",
              "      filter: drop-shadow(0px 1px 2px rgba(0, 0, 0, 0.3));\n",
              "      fill: #FFFFFF;\n",
              "    }\n",
              "  </style>\n",
              "\n",
              "      <script>\n",
              "        const buttonEl =\n",
              "          document.querySelector('#df-3f32bcb9-03ea-45b8-a3ef-c5c6adf0853e button.colab-df-convert');\n",
              "        buttonEl.style.display =\n",
              "          google.colab.kernel.accessAllowed ? 'block' : 'none';\n",
              "\n",
              "        async function convertToInteractive(key) {\n",
              "          const element = document.querySelector('#df-3f32bcb9-03ea-45b8-a3ef-c5c6adf0853e');\n",
              "          const dataTable =\n",
              "            await google.colab.kernel.invokeFunction('convertToInteractive',\n",
              "                                                     [key], {});\n",
              "          if (!dataTable) return;\n",
              "\n",
              "          const docLinkHtml = 'Like what you see? Visit the ' +\n",
              "            '<a target=\"_blank\" href=https://colab.research.google.com/notebooks/data_table.ipynb>data table notebook</a>'\n",
              "            + ' to learn more about interactive tables.';\n",
              "          element.innerHTML = '';\n",
              "          dataTable['output_type'] = 'display_data';\n",
              "          await google.colab.output.renderOutput(dataTable, element);\n",
              "          const docLink = document.createElement('div');\n",
              "          docLink.innerHTML = docLinkHtml;\n",
              "          element.appendChild(docLink);\n",
              "        }\n",
              "      </script>\n",
              "    </div>\n",
              "  </div>\n",
              "  "
            ]
          },
          "metadata": {},
          "execution_count": 124
        }
      ]
    },
    {
      "cell_type": "code",
      "source": [
        "fig, ax = plt.subplots(figsize = (20, 10))\n",
        "sns.boxplot(data = df_f2[['pop','emp']])"
      ],
      "metadata": {
        "colab": {
          "base_uri": "https://localhost:8080/",
          "height": 609
        },
        "id": "yNdOUdUDGs9y",
        "outputId": "7c469c02-b94f-4183-9e13-5b3cd5773910"
      },
      "execution_count": 129,
      "outputs": [
        {
          "output_type": "execute_result",
          "data": {
            "text/plain": [
              "<matplotlib.axes._subplots.AxesSubplot at 0x7fd2618ea690>"
            ]
          },
          "metadata": {},
          "execution_count": 129
        },
        {
          "output_type": "display_data",
          "data": {
            "text/plain": [
              "<Figure size 1440x720 with 1 Axes>"
            ],
            "image/png": "[encoded data removed]"
          },
          "metadata": {
            "needs_background": "light"
          }
        }
      ]
    }
  ]
}